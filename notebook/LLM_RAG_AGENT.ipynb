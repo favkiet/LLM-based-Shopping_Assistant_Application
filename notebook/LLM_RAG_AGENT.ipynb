{
  "cells": [
    {
      "cell_type": "markdown",
      "metadata": {
        "colab_type": "text",
        "id": "view-in-github"
      },
      "source": [
        "<a href=\"https://colab.research.google.com/github/vonhatnam1212/LLM-Based-Shopping-Assistant/blob/main/LLM.ipynb\" target=\"_parent\"><img src=\"https://colab.research.google.com/assets/colab-badge.svg\" alt=\"Open In Colab\"/></a>"
      ]
    },
    {
      "cell_type": "code",
      "execution_count": 4,
      "metadata": {},
      "outputs": [],
      "source": [
        "from llama_index.core import SimpleDirectoryReader\n",
        "\n",
        "documents = SimpleDirectoryReader(input_files=[\"/home/namvn/Account statement.pdf\"]).load_data()"
      ]
    },
    {
      "cell_type": "code",
      "execution_count": 5,
      "metadata": {},
      "outputs": [
        {
          "data": {
            "text/plain": [
              "[Document(id_='2abff7cd-6218-425d-bc8d-083c4ea4133c', embedding=None, metadata={'page_label': '1', 'file_name': 'Account statement.pdf', 'file_path': '/home/namvn/Account statement.pdf', 'file_type': 'application/pdf', 'file_size': 27051, 'creation_date': '2024-05-08', 'last_modified_date': '2024-05-08'}, excluded_embed_metadata_keys=['file_name', 'file_type', 'file_size', 'creation_date', 'last_modified_date', 'last_accessed_date'], excluded_llm_metadata_keys=['file_name', 'file_type', 'file_size', 'creation_date', 'last_modified_date', 'last_accessed_date'], relationships={}, text='Tu ngay 01/04/2024 Toi ngay\\nSo tai khoan 19036253955010\\nTen tai khoan VND-TGTT-VO NHAT NAM So du dau ky\\nLoai tien VND So du cuoi ky\\nNGAY DIEN GIAI CHI TIET\\n01/04/2024VO NHAT NAM transfers FT24092009130076\\n01/04/2024VO NHAT NAM transfers FT24092849890662\\n02/04/2024MS00T06218302515090,DANG NGOC TUAN ANH,VO N FT24093397000868\\\\BNK\\n02/04/2024GD THE TREN INTERNET SO THE 422149...5709 NG FT24093661584690\\n05/04/2024MBVCB.5677346077.389794.DANG THI KI M ANH chuy FT24096085942592\\\\BNK\\n05/04/2024EWAY tra luong nhan vien thang 3.2024 FT24096624698349\\n05/04/2024VO NHAT NAM FT24096469280750\\n06/04/2024VO NHAT NAM transfers FT24099852690280\\n07/04/2024NAP VI SHOPEEPAY SO THE 422149...5709 NGAY 07 FT24099172431017\\n07/04/2024NAP VI SHOPEEPAY SO THE 422149...5709 NGAY 07 FT24099298455494\\n07/04/2024NAP VI SHOPEEPAY SO THE 422149...5709 NGAY 07 FT24099250305665\\n07/04/2024Han Nguyen chuyen tien FT24099213210487\\\\BNK\\n07/04/2024VO NHAT NAM transfers FT24099005509417\\n07/04/202471541042951757136 FT24099053599060\\n08/04/2024NAP VI SHOPEEPAY SO THE 422149...5709 NGAY 08 FT24100100783690\\n10/04/2024NAP VI SHOPEEPAY SO THE 422149...5709 NGAY 10 FT24101481115142\\n10/04/2024VO NHAT NAM transfers FT24101883590949\\n10/04/2024VO NHAT NAM transfers FT24101676750795\\n11/04/2024VO NHAT NAM transfers FT24102924530931\\n11/04/2024T.Toan QR - tai VAN MINH CTT - 3200 00 VND - Ngay FT24103328337861\\\\BNK\\n12/04/2024MD091712923760186XZ,WINCOMMERCE GENERAL C FT24103542020462\\\\BNK\\n13/04/2024TCBS Vo Nhat Nam 105C081689 Transfe r to Vo Nha FT24104708029658\\\\BNK\\n13/04/2024VO NHAT NAM transfers FT24104212858094\\n16/04/2024VO NHAT NAM FT24107198718202\\n17/04/2024Rut tien tai ATM TCB bang SDT 09197 81689. Ngay:1 FT24108263701728\\\\BNK\\n17/04/2024VO NHAT NAM transfers FT24108107031484', start_char_idx=None, end_char_idx=None, text_template='{metadata_str}\\n\\n{content}', metadata_template='{key}: {value}', metadata_seperator='\\n'),\n",
              " Document(id_='19c5fcbf-0ff4-458c-ad0a-d9053497b316', embedding=None, metadata={'page_label': '2', 'file_name': 'Account statement.pdf', 'file_path': '/home/namvn/Account statement.pdf', 'file_type': 'application/pdf', 'file_size': 27051, 'creation_date': '2024-05-08', 'last_modified_date': '2024-05-08'}, excluded_embed_metadata_keys=['file_name', 'file_type', 'file_size', 'creation_date', 'last_modified_date', 'last_accessed_date'], excluded_llm_metadata_keys=['file_name', 'file_type', 'file_size', 'creation_date', 'last_modified_date', 'last_accessed_date'], relationships={}, text='19/04/2024\\n93,671\\n52,531\\nNO CO SO DU\\n170,000 93,671\\n5,000 88,671\\n25,000 63,671\\n60,000 3,671\\n4,000,000 4,003,671\\n4,000,000 8,003,671\\n4,537,000 3,466,671\\n390,000 3,076,671\\n54,570 3,022,101\\n213,800 2,808,301\\n150,000 2,658,301\\n130,000 2,788,301\\n80,000 2,708,301\\n108,000 2,600,301\\n157,000 2,443,301\\n52,370 2,390,931\\n30,000 2,360,931\\n20,000 2,340,931\\n20,000 2,320,931\\n320,000 2,000,931\\n115,400 1,885,531\\n1,500,000 385,531\\n20,000 365,531\\n193,000 172,531\\n100,000 72,531\\n20,000 52,531', start_char_idx=None, end_char_idx=None, text_template='{metadata_str}\\n\\n{content}', metadata_template='{key}: {value}', metadata_seperator='\\n')]"
            ]
          },
          "execution_count": 5,
          "metadata": {},
          "output_type": "execute_result"
        }
      ],
      "source": [
        "documents"
      ]
    },
    {
      "cell_type": "markdown",
      "metadata": {
        "id": "LOyoJQqbNV23"
      },
      "source": [
        "# LLM"
      ]
    },
    {
      "cell_type": "markdown",
      "metadata": {
        "id": "xDb4HN7tNNVl"
      },
      "source": [
        "# RAG"
      ]
    },
    {
      "cell_type": "markdown",
      "metadata": {
        "id": "ITCgD-hYNNVm"
      },
      "source": [
        "## Local Storage"
      ]
    },
    {
      "cell_type": "code",
      "execution_count": null,
      "metadata": {
        "id": "Ki2ZD5M0NNVm"
      },
      "outputs": [],
      "source": [
        "# import\n",
        "from llama_index.core import VectorStoreIndex, SimpleDirectoryReader\n",
        "from llama_index.vector_stores.chroma import ChromaVectorStore\n",
        "from llama_index.core import StorageContext\n",
        "from llama_index.embeddings.huggingface import HuggingFaceEmbedding\n",
        "import chromadb\n",
        "from llama_index.core import VectorStoreIndex, get_response_synthesizer\n",
        "from llama_index.core.retrievers import VectorIndexRetriever\n",
        "from llama_index.core.query_engine import RetrieverQueryEngine\n",
        "from llama_index.core.postprocessor import SimilarityPostprocessor\n",
        "from llama_index.core.callbacks import (\n",
        "    CallbackManager,\n",
        "    LlamaDebugHandler,\n",
        ")\n",
        "from langchain.agents import tool\n",
        "from config import GEMINI\n",
        "import os\n",
        "from llama_index.core.langchain_helpers.agents import (\n",
        "    IndexToolConfig,\n",
        "    LlamaIndexTool,\n",
        ")\n",
        "os.environ[\"GOOGLE_API_KEY\"] = GEMINI\n",
        "\n",
        "from llama_index.llms.gemini import Gemini\n"
      ]
    },
    {
      "cell_type": "code",
      "execution_count": null,
      "metadata": {
        "id": "AdYKrTNwNNVn"
      },
      "outputs": [],
      "source": [
        "llm = Gemini()\n",
        "# create client and a new collection\n",
        "chroma_client = chromadb.EphemeralClient()\n",
        "chroma_collection = chroma_client.create_collection(\"VietAI\")\n",
        "\n",
        "# define embedding function\n",
        "embed_model = HuggingFaceEmbedding(model_name=\"sentence-transformers/all-MiniLM-L6-v2\")\n",
        "\n",
        "# load documents\n",
        "documents = SimpleDirectoryReader(\"../data\").load_data()\n",
        "# set up ChromaVectorStore and load in data\n",
        "vector_store = ChromaVectorStore(chroma_collection=chroma_collection)\n",
        "storage_context = StorageContext.from_defaults(vector_store=vector_store)\n",
        "index = VectorStoreIndex.from_documents(\n",
        "    documents, storage_context=storage_context, embed_model=embed_model\n",
        ")"
      ]
    },
    {
      "cell_type": "markdown",
      "metadata": {
        "id": "HpGeWn6ENNVn"
      },
      "source": [
        "## Cloud Storage"
      ]
    },
    {
      "cell_type": "code",
      "execution_count": 13,
      "metadata": {
        "id": "gPJEGBw7NNVn",
        "outputId": "cb08b2b1-04f6-409d-d164-66e507b86c25"
      },
      "outputs": [],
      "source": [
        "import logging\n",
        "import sys\n",
        "\n",
        "# Uncomment to see debug logs\n",
        "# logging.basicConfig(stream=sys.stdout, level=logging.DEBUG)\n",
        "# logging.getLogger().addHandler(logging.StreamHandler(stream=sys.stdout))\n",
        "\n",
        "import phoenix as px\n",
        "from llama_index.vector_stores.milvus import MilvusVectorStore\n",
        "from IPython.display import Markdown, display\n",
        "import textwrap\n",
        "from llama_index.readers.file import CSVReader, PagedCSVReader\n",
        "from pathlib import Path\n",
        "import pandas as pd\n",
        "from llama_index.embeddings.huggingface import HuggingFaceEmbedding\n",
        "import sys \n",
        "sys.path.append(\"../\")\n",
        "from config import GOOGLE_API_KEY, PINECONE_API_KEY\n",
        "import os\n",
        "os.environ[\"GOOGLE_API_KEY\"] = GOOGLE_API_KEY\n",
        "from llama_index.core import VectorStoreIndex, get_response_synthesizer, Document\n",
        "from llama_index.core.retrievers import VectorIndexRetriever\n",
        "from llama_index.llms.gemini import Gemini\n",
        "from llama_index.core.query_engine import RetrieverQueryEngine\n",
        "from llama_index.core.postprocessor import SimilarityPostprocessor\n",
        "from llama_index.core.callbacks import (\n",
        "    CallbackManager,\n",
        "    LlamaDebugHandler,\n",
        ")\n",
        "from langchain.agents import tool\n",
        "from llama_index.core.node_parser import SentenceSplitter\n",
        "\n",
        "from llama_index.core.prompts import display_prompt_dict\n",
        "\n",
        "from pinecone import Pinecone\n",
        "from pinecone import ServerlessSpec\n",
        "pinecoin = Pinecone(api_key=PINECONE_API_KEY)\n",
        "\n",
        "pinecone_index = pinecoin.Index(\"shopping-assistant\")\n",
        "from llama_index.vector_stores.pinecone import PineconeVectorStore"
      ]
    },
    {
      "cell_type": "code",
      "execution_count": 9,
      "metadata": {},
      "outputs": [
        {
          "name": "stderr",
          "output_type": "stream",
          "text": [
            "WARNI [phoenix.session.session] Existing running Phoenix instance detected! Shutting it down and starting a new instance...\n"
          ]
        },
        {
          "name": "stdout",
          "output_type": "stream",
          "text": [
            "🌍 To view the Phoenix app in your browser, visit http://localhost:6006/\n",
            "📖 For more information on how to use Phoenix, check out https://docs.arize.com/phoenix\n"
          ]
        }
      ],
      "source": [
        "px.launch_app()\n",
        "import llama_index.core\n",
        "llama_index.core.set_global_handler(\"arize_phoenix\")"
      ]
    },
    {
      "cell_type": "code",
      "execution_count": 35,
      "metadata": {
        "id": "sQ_km2AONNVo",
        "outputId": "fa2cbf61-f1c4-40f7-defd-daa0d7d808a5"
      },
      "outputs": [],
      "source": [
        "# load documents\n",
        "df = pd.read_csv(\"../data/cellphone_v3.csv\")\n",
        "df[\"PRICE_REMAINING\"] = df[\"PRICE_REMAINING\"].str.replace(\".\", \"\").str.replace(\"₫\", \"\").astype(int)\n",
        "documents = []\n",
        "for index, value in df.iterrows():\n",
        "    document = Document(\n",
        "    text=value[\"PRODUCT_INFOMATION_DETAIL\"],\n",
        "    metadata={\n",
        "        \"PRODUCT_NAME\": value[\"PRODUCT_NAME\"],\n",
        "        \"PRICE_REMAINING\": value[\"PRICE_REMAINING\"],\n",
        "        # \"PRICE_INITIAL\": value[\"PRICE_INITIAL\"],\n",
        "        # \"PRICE_PERCENTAGE_REDUCE\": value[\"PRICE_PERCENTAGE_REDUCE\"],\n",
        "        \"PRODUCT_IMAGE\": value[\"PRODUCT_IMAGE\"],\n",
        "        \"PRODUCT_LINK\": value[\"PRODUCT_LINK\"],\n",
        "        \"Review\": value[\"Review\"],\n",
        "    },\n",
        "    )\n",
        "    documents.append(document)\n",
        "node_parser = SentenceSplitter(chunk_size=4096)\n",
        "\n",
        "nodes = node_parser.get_nodes_from_documents(documents)"
      ]
    },
    {
      "cell_type": "code",
      "execution_count": 37,
      "metadata": {},
      "outputs": [
        {
          "data": {
            "text/plain": [
              "Document(id_='2858c652-a4be-406e-b0b1-3f58c55e90a2', embedding=None, metadata={'PRODUCT_NAME': 'Tai nghe chống ồn Sennheiser Momentum True Wireless 4', 'PRICE_REMAINING': 8690000, 'PRODUCT_IMAGE': 'https://cdn2.cellphones.com.vn/insecure/rs:fill:358:358/q:90/plain/https://cellphones.com.vn/media/catalog/product/t/a/tai-nghe-sennheiser-momentum-true-wireless-4-0_1_.png', 'PRODUCT_LINK': 'https://cellphones.com.vn/tai-nghe-sennheiser-momentum-true-wireless-4.html', 'Review': \"{'positive': ['Dịch vụ giao hàng nhanh chóng và chính xác. Tôi rất ấn tượng với cách họ xử lý đơn hàng của tôi.', 'Sản phẩm này đáng giá mỗi đồng tiền. Tôi không ngừng khen ngợi về chất lượng âm thanh và thiết kế tiện lợi của nó.', 'Tai nghe này thật sự là một trải nghiệm âm nhạc tuyệt vời! Điều khiển cảm ứng linh hoạt và pin sạc lâu dài.', 'Tôi rất hài lòng với chất lượng của sản phẩm, âm thanh rất sống động và không gây đau tai sau một thời gian dài sử dụng.', 'Dịch vụ giao hàng nhanh chóng và sản phẩm được đóng gói cẩn thận. Tôi hoàn toàn hài lòng với trải nghiệm mua hàng này.'], 'negative': ['Dịch vụ của công ty này quá kém, không chuyên nghiệp chút nào.', 'Tôi không hài lòng với chất lượng sản phẩm, độ bền thấp và dễ hỏng.', 'Sản phẩm này rất không đáng giá, chất lượng rất kém so với giá tiền.'], 'neutral': ['Dịch vụ của cửa hàng này không tạo ra ấn tượng mạnh mẽ, nhưng cũng không có vấn đề nào lớn.', 'Sản phẩm này khá ổn, âm thanh không quá tốt nhưng cũng không quá tệ.', 'Sản phẩm này đủ tốt để sử dụng, không gây ra bất kỳ vấn đề nào đáng kể, nhưng cũng không có ấn tượng sâu sắc.', 'Dịch vụ của họ ổn định, không có gì nổi bật nhưng cũng không có vấn đề gì đáng lo ngại.']}\"}, excluded_embed_metadata_keys=[], excluded_llm_metadata_keys=[], relationships={}, text='ĐẶC ĐIỂM NỔI BẬT Công nghệ chống ồn chủ động ANC cho bạn đắm chìm trong âm nhạc mà không bị phân tâm Hệ thống đầu dò TrueResponse cho âm thanh chân thực và chi tiết với độ méo tiếng cực thấp Thưởng thức âm nhạc ở chất lượng cao nhất khi được trang bị Công nghệ âm thanh LossLess Kết nối ổn định, nhanh chóng và tiết kiệm năng lượng hơn nhờ vào chuẩn Bluetooth 5.4 mới Tai nghe chống ồn Sennheiser Momentum True Wireless 4 có khả năng hoạt động trong vòng 7,5 giờ và lên đến 30 giờ với hộp sạc. Tai nghe còn được tích hợp công nghệ Bluetooth 5.4, âm thanh LossLess và chống ồn chủ động ANC. Kích thước driver bên trong tai nghe là 42mm và hỗ trợ kết nối với smartphone trong phạm vi 10m.  Tai nghe chống ồn Sennheiser Momentum True Wireless 4 - Tai nghe sở hữu nhiều công nghệ âm thanh tiên tiến Tai nghe chống ồn Sennheiser Momentum True Wireless 4 ghi điểm nổi bật với những bạn yêu thích nghe nhạc khi được trang bị các công nghệ âm thanh tiên tiến. Phiên bản tai nghe Sennheiser mới nhất này hứa hẹn mang đến chất âm sống động kết hợp với thiết kế sang trọng, bắt mắt.  Tích hợp công nghệ âm thanh thế hệ mới mang đến trải nghiệm âm thanh lôi cuốn Theo thông tin chính thức từ thương hiệu Sennheiser, dòng tai nghe thế hệ mới của hãng sở hữu kích thước driver lên đến 42mm. Nhờ vào đó, thiết bị có khả năng mang đến chất âm lôi cuốn và rõ nét dù phát những bản nhạc nhẹ nhàng hay sôi động.  Đặc biệt hơn, dòng tai nghe của nhà Sennheiser còn hỗ trợ công nghệ âm thanh dựa trên nền tảng Qualcomm Snapdragon S5 Sound Gen 2 giúp bạn có thể nghe nhạc lossless. Kết hợp với đó là công nghệ chống ồn chủ động ANC nhằm loại bỏ tối đa mọi tiếng ồn xung quanh gây ảnh hưởng đến trải nghiệm nghe nhạc.  Kiểu dáng sang trọng, nhỏ gọn ôm sát vành tai Dòng tai nghe Sennheiser Momentum True Wireless 4 cũng được người dùng ưa chuộng khi sở hữu thiết kế sang trọng và thanh lịch. Ngoài ra, kiểu dáng của tai nghe cũng có khả năng ôm sát với tai của người dùng nên bạn có thể thoải mái đeo thiết bị khi vận động mà không gặp phải tình trạng bị rơi tai nghe.  Hỗ trợ đàm thoại hiệu quả với 6 micro Với hệ thống 6 micro tích hợp, chiếc tai nghe của Sennheiser hỗ trợ người dùng có thể đàm thoại hiệu quả hơn với chất lượng âm thanh rõ nét. Thời lượng pin lâu dài với công nghệ sạc tiên tiến Thời lượng pin ở dòng tai nghe thế hệ mới của Sennheiser đã được nâng cấp lên đến 7,5 giờ. Ngoài ra, nếu bật tính năng Bluetooth LE tiết kiệm năng lượng thì tổng thời gian tai nghe có khả năng hoạt động đạt đến 30 giờ liên tục. Khi sử dụng tai nghe, bạn còn có thể sạc có dây thông qua cổng USB Type-C hoặc sạc không dây chuẩn Qi. Khả năng kết nối ổn định với điện thoại trong phạm vi rộng Được tích hợp tính năng Auracast, tai nghe cho phép bạn có thể kết nối nhiều tai nghe khác cùng lúc trên 1 chiếc điện thoại. Kết hợp với đó là thiết kế ăng-ten thế hệ mới nhằm cải thiện tín hiệu truyền âm thanh trên thiết bị trong quá trình di chuyển. Đặc biệt hơn, công nghệ kết nối Bluetooth 5.4 trên tai nghe cũng hỗ trợ kết nối với smartphone trong vòng 10m. Mua ngay tai nghe chống ồn Sennheiser Momentum True Wireless 4 chính hãng tại CellphoneS Tai nghe chống ồn Sennheiser Momentum True Wireless 4 mang đến chất âm lôi cuốn khi sở hữu các công nghệ âm thanh tiên tiến. Khi chọn mua tai nghe Sennheiser tại CellphoneS, bạn sẽ được ưu đãi khi là thành viên Smember cùng chính sách bảo hành đến 12 tháng. Nhanh chóng đặt mua ngay tai nghe chống ồn Sennheiser Momentum True Wireless 4 chính hãng tại CellphoneS bạn nhé. ', start_char_idx=None, end_char_idx=None, text_template='{metadata_str}\\n\\n{content}', metadata_template='{key}: {value}', metadata_seperator='\\n')"
            ]
          },
          "execution_count": 37,
          "metadata": {},
          "output_type": "execute_result"
        }
      ],
      "source": [
        "documents[0]"
      ]
    },
    {
      "cell_type": "code",
      "execution_count": 11,
      "metadata": {},
      "outputs": [],
      "source": [
        "llm = Gemini()\n",
        "# define embedding function\n",
        "embed_model = HuggingFaceEmbedding(model_name=\"sentence-transformers/paraphrase-multilingual-MiniLM-L12-v2\")\n"
      ]
    },
    {
      "cell_type": "code",
      "execution_count": 40,
      "metadata": {
        "id": "AlY8h4-INNVo",
        "outputId": "8509d00f-7607-451f-ca1b-f16b4efd15dd"
      },
      "outputs": [
        {
          "data": {
            "application/vnd.jupyter.widget-view+json": {
              "model_id": "91e022fcf9c34a98bf6a287f2546d24c",
              "version_major": 2,
              "version_minor": 0
            },
            "text/plain": [
              "Parsing nodes:   0%|          | 0/136 [00:00<?, ?it/s]"
            ]
          },
          "metadata": {},
          "output_type": "display_data"
        },
        {
          "data": {
            "application/vnd.jupyter.widget-view+json": {
              "model_id": "8ad7d9d7dd6545c28f2a5ebd12b08977",
              "version_major": 2,
              "version_minor": 0
            },
            "text/plain": [
              "Generating embeddings:   0%|          | 0/293 [00:00<?, ?it/s]"
            ]
          },
          "metadata": {},
          "output_type": "display_data"
        },
        {
          "data": {
            "application/vnd.jupyter.widget-view+json": {
              "model_id": "d6fdf99a39c6494a85156184c6fb41cc",
              "version_major": 2,
              "version_minor": 0
            },
            "text/plain": [
              "Upserted vectors:   0%|          | 0/293 [00:00<?, ?it/s]"
            ]
          },
          "metadata": {},
          "output_type": "display_data"
        }
      ],
      "source": [
        "# Không chạy cell này mà chạy cell dưới (cái này dùng để tạo vector db)\n",
        "# Create an index over the documnts\n",
        "from llama_index.core import StorageContext\n",
        "\n",
        "vector_store = PineconeVectorStore(pinecone_index=pinecone_index,namespace=\"text\")\n",
        "storage_context = StorageContext.from_defaults(vector_store=vector_store)\n",
        "index = VectorStoreIndex.from_documents(\n",
        "    documents, storage_context=storage_context, show_progress=True, embed_model=embed_model\n",
        ")"
      ]
    },
    {
      "cell_type": "code",
      "execution_count": 42,
      "metadata": {
        "id": "WbHNDhrHNNVp",
        "outputId": "129ee5c3-7135-4158-a6e5-8884c3b30a7c"
      },
      "outputs": [],
      "source": [
        "from llama_index.core import StorageContext\n",
        "\n",
        "vector_store = PineconeVectorStore(pinecone_index=pinecone_index,namespace=\"text\")\n",
        "index = VectorStoreIndex.from_vector_store(\n",
        "    vector_store=vector_store, show_progress=True, embed_model=embed_model\n",
        ")"
      ]
    },
    {
      "cell_type": "markdown",
      "metadata": {
        "id": "2_Yl3C_FNNVp"
      },
      "source": [
        "## Tool RAG"
      ]
    },
    {
      "cell_type": "code",
      "execution_count": 43,
      "metadata": {
        "id": "WRjeqSOWNNVp"
      },
      "outputs": [],
      "source": [
        "from llama_index.core.retrievers import VectorIndexAutoRetriever\n",
        "from llama_index.core.vector_stores.types import MetadataInfo, VectorStoreInfo\n",
        "\n",
        "\n",
        "vector_store_info = VectorStoreInfo(\n",
        "    content_info=\"Danh sách sản phẩm của cửa hàng cellphones\",\n",
        "    metadata_info=[\n",
        "        MetadataInfo(\n",
        "            name=\"PRODUCT_NAME\",\n",
        "            type=\"string\",\n",
        "            description=(\n",
        "                \"Đây là tên của sản phẩm. Thường là một chuỗi văn bản mô tả sản phẩm một cách ngắn gọn và rõ ràng\"\n",
        "            ),\n",
        "        ),\n",
        "        MetadataInfo(\n",
        "            name=\"PRICE_REMAINING\",\n",
        "            type=\"int\",\n",
        "            description=(\n",
        "                \"Đây là giá sản phẩm hiện tại sau khi đã giảm giá hoặc có thể là giá gốc nếu sản phẩm không được giảm giá. Thường là một số nguyên hoặc số thực biểu thị tiền tệ.\"\n",
        "            ),\n",
        "        ),\n",
        "        # MetadataInfo(\n",
        "        #     name=\"PRICE_PERCENTAGE_REDUCE\",\n",
        "        #     type=\"string\",\n",
        "        #     description=(\n",
        "        #         \"Đây là phần trăm giảm giá so với giá ban đầu của sản phẩm. Thường là một số thực biểu thị phần trăm giảm giá.\"\n",
        "        #     ),\n",
        "        # ),\n",
        "        MetadataInfo(\n",
        "            name=\"PRODUCT_IMAGE\",\n",
        "            type=\"string\",\n",
        "            description=(\n",
        "                \"Đây là liên kết đến hình ảnh của sản phẩm. Thường là một URL dẫn đến hình ảnh sản phẩm.\"\n",
        "            ),\n",
        "        ),\n",
        "        MetadataInfo(\n",
        "            name=\"PRODUCT_LINK\",\n",
        "            type=\"string\",\n",
        "            description=(\n",
        "                \"Đây là liên kết đến trang chi tiết sản phẩm. Thường là một URL dẫn đến trang sản phẩm trên trang web bán hàng.\"\n",
        "            ),\n",
        "        ),\n",
        "        MetadataInfo(\n",
        "            name=\"Review\",\n",
        "            type=\"string\",\n",
        "            description=(\n",
        "                \"Đây là một chuỗi văn bản mô tả đánh giá hoặc nhận xét từ người dùng.\"\n",
        "            ),\n",
        "        ),\n",
        "    ],\n",
        ")"
      ]
    },
    {
      "cell_type": "code",
      "execution_count": 44,
      "metadata": {
        "id": "AQjNpPtqNNVp"
      },
      "outputs": [],
      "source": [
        "llama_debug = LlamaDebugHandler(print_trace_on_end=True)\n",
        "callback_manager = CallbackManager([llama_debug])\n",
        "# configure retriever\n",
        "retriever = VectorIndexAutoRetriever(\n",
        "    index,\n",
        "    vector_store_info=vector_store_info,\n",
        "    llm=llm,\n",
        "    verbose=True,\n",
        "    callback_manager=callback_manager,\n",
        "    similarity_top_k=10,\n",
        "    empty_query_top_k=10,\n",
        "    default_empty_query_vector=[0] * 1536,\n",
        ")\n",
        "\n",
        "# configure response synthesizer\n",
        "response_synthesizer = get_response_synthesizer(\n",
        "    llm=llm, response_mode=\"compact\", callback_manager=callback_manager\n",
        ")\n",
        "\n",
        "# assemble query engine\n",
        "query_engine = RetrieverQueryEngine(\n",
        "    retriever=retriever,\n",
        "    response_synthesizer=response_synthesizer,\n",
        "    callback_manager=callback_manager,\n",
        "    # node_postprocessors=[SimilarityPostprocessor(similarity_cutoff=0.7)],\n",
        ")"
      ]
    },
    {
      "cell_type": "code",
      "execution_count": 45,
      "metadata": {},
      "outputs": [
        {
          "name": "stdout",
          "output_type": "stream",
          "text": [
            "Using query str: tai nghe\n",
            "Using filters: [('PRICE_REMAINING', '<', 700000)]\n",
            "**********\n",
            "Trace: query\n",
            "    |_retrieve -> 6.475431 seconds\n",
            "      |_templating -> 3.4e-05 seconds\n",
            "      |_llm -> 4.101274 seconds\n",
            "**********\n"
          ]
        },
        {
          "data": {
            "text/plain": [
              "[NodeWithScore(node=TextNode(id_='cef2b820-d42c-496f-8e2f-d365113f2f6b', embedding=[-0.0645361617, 0.0314412341, -0.0309355967, -0.012984951, -0.0147436457, -0.0230255984, 0.0625702888, -0.0261299927, 0.0270194951, 0.0118090836, 0.116701335, -0.0723249465, -0.00334926439, -0.0100597991, 0.0791118667, 0.0401713438, 0.0123731066, 0.0138058076, -0.0492199436, 0.0448905565, -0.0332535319, -0.0533488207, 0.0466134772, -0.0284613688, -0.02765432, -0.0329547375, -0.0552632324, 0.0272948369, -0.0342609398, -0.0226660259, 0.0600397848, 0.0288322493, -0.0428168513, 0.00037318765, -0.0581341907, 0.024961127, -0.0267212149, -0.0283938013, -0.0646196753, -0.0609150119, -0.0172297172, 0.0798441544, -0.0978589579, 0.0344541706, -0.00337096886, 0.0113385748, -0.0338900313, -0.0193106439, -0.000409405067, -0.0255736373, -0.0161208697, 0.035074804, -0.0907125175, -0.00615591649, -0.0422606245, -0.0706254169, -0.000498402864, 0.0802447051, 0.0111307288, 0.0936503261, 0.0580121689, -0.06551902, -0.0627300218, 0.013134798, -0.0457564555, 0.0241861846, -0.0541260429, -0.0746716559, -0.000384760118, -0.0706477165, 0.0836693868, -0.0736434758, -0.0864514783, 0.00250741676, 0.0431251153, 0.05550953, 0.00579670211, -0.00968506653, -0.0620880537, 0.0085458653, -0.0068420982, -0.0615201555, -0.0243462864, 0.0478127524, -0.0037376273, 0.0826405063, -0.00380503549, 0.000744900433, -0.0629507229, 0.00630436186, -0.118317269, -0.0025617138, -0.0216138959, -0.024113927, 0.0871862471, 0.0634034947, 0.02974906, 0.0409673303, 0.0192862656, 0.0761473551, -0.00406538602, -0.0119348597, -0.0520885512, -0.0200117026, 0.0177415069, 0.00951265637, 0.0775530338, 0.00739248423, 0.00809649751, 0.00395961571, -0.0258778501, -0.0436762087, -0.0465007573, 0.0216984246, -0.0316010453, 0.0107150581, -0.151067138, -0.0251787, 0.0460722819, 0.05899648, 0.0405090488, 0.0193970948, 0.0396565646, -0.0199907124, 0.0487243533, -0.119367331, 0.024264995, 0.0659161136, -0.0323215052, 0.0686095208, 0.0705143, 0.0465974398, 0.0532874167, 0.0148840817, -0.0428817384, 0.0247488543, -0.0894840732, 0.103499509, -0.0724275634, 0.0118930116, -0.064537935, 0.103779122, 0.021830773, 0.0173061546, -0.0168219581, -0.0291175637, 0.0550320707, 0.0137566812, -0.0159711652, 0.00659031468, -0.0294008758, -0.0469100773, 0.0726980269, 0.059330117, 0.0298017338, 0.0653461441, 0.119917922, 0.0266206879, -0.0512612388, -0.0349694, 0.0629500523, -0.117805555, 0.0193828344, 0.025902696, -0.0287866071, 0.0162813347, -0.0432472825, -0.019614866, 0.0201418456, 0.0143619822, -0.146209672, -0.0306061469, -0.0869800076, 0.0232309531, -0.0219592229, -0.0488184, 0.0523642451, 0.0332590491, -0.0782482699, -0.0510071032, -0.0579030588, 0.0328599513, -0.0400311202, -0.0449827202, -0.105797835, 0.0525780618, -0.0466085821, -0.0166781135, 0.0299798213, -0.0103754597, 0.0185752884, -0.0241123941, 0.0202741846, 0.0223621335, -0.0151066603, -0.0384584814, -0.00516419858, -0.0333134308, -0.0392955095, -0.0296823066, -0.0028978542, -0.0102482503, 0.0427207649, -0.00391419837, 0.010095424, 0.059458226, 0.0190866552, 0.0236578695, -0.0632115155, 0.0527947359, 0.00237633148, 0.0335271, -0.0751025155, -0.0123935454, -0.0369294025, -0.0551654659, -0.136262849, -0.00196100096, 0.0278766286, 0.0718369558, -0.0537958182, -0.079015404, -0.117227979, -0.0912191719, -0.0480565, 0.00642900821, -0.0189555399, -0.0223987941, -0.0475101769, -0.00547826942, -0.0436670631, 0.0554395, 0.0242728293, 0.0736841708, 0.0802982524, 0.0441438407, 0.0605688207, 0.00428379141, -0.0147530679, -0.0310367011, 0.00397630176, 0.0277691409, 0.0639652312, -0.00752492063, -0.0377082787, -0.0423491113, -0.00101842929, 0.003279472, -0.00803783722, 0.095008634, 0.0311622061, 0.0499478653, 0.0522205159, 0.0356616974, 0.110624894, 0.0592735298, -0.0482765585, 0.02003452, 0.0362475105, -0.0616406053, 0.0377085432, -0.00336314691, 0.0125238849, -0.0626274273, 0.0518288761, 0.0662955493, -0.0469314121, -0.00617851038, 0.0143486168, -0.101595506, 0.024620343, 0.00642424915, 0.0588523559, -0.0332699, 0.0919482261, -0.0197912734, 0.0212615412, -0.0561063066, -0.0316437446, 0.0552805513, 0.0150753884, 0.00369744748, 0.135928959, -0.0532081537, 0.0651888922, 0.0126052881, -0.0095462827, -0.0622939318, -0.0670236126, 0.0592744052, -0.000365427113, 0.106995329, -0.048572991, -0.00702464767, -0.00777813233, 0.0141554382, 0.0724824, 0.020715693, -0.0534684137, 0.0837808, -0.0471058413, 0.059660729, 0.0304730292, -0.0152877737, 0.0243325289, 0.00784399733, -0.0626354665, -0.0196636487, 0.13635613, 0.0143285915, 0.0441685729, 0.00599293597, -0.0539000072, 0.0191329755, -0.0324361585, -0.000671821123, -0.036860276, 0.129231632, -0.0292692222, -0.0691976175, 0.023343768, -0.0407542251, 0.05278752, -0.0423612855, 0.0468592383, 0.103603713, -0.0283943824, -0.0565922372, -0.0925465301, 0.0310915392, -0.0109024895, -0.0316607803, -0.0341017321, 0.04292766, -0.0328809023, 0.00843937416, -0.0441065952, -0.0211167615, 0.0366704352, -0.0797278211, 0.0148133179, 0.0177942812, 0.12123578, -0.0373297036, -0.0505094938, -0.0943100452, 0.0169792883, 0.0846639127, 0.070995152, -0.00498528685, 0.0346939526, 0.0650387406, 0.0213535093, 0.0621981025, -0.00646394351, -0.0259894952, -0.0922169462, 0.0183642656, 0.018235622, 0.0733464062, 0.0496610552, 0.00776930479, -0.0458711758, 0.0455197, 0.0333795361, 0.00707034953, 0.0997781307, -0.0319302231, -0.0549119301, 0.0689801127, 0.00044000792, 0.0139278127, 0.011226614, 0.0263375789, -0.00992756058, -0.00439180713, -0.0454001315, 0.03233153, -0.0410131, 0.0477639921, -0.0387411602, -0.0630308241, -0.0304904971, 0.0177729782], metadata={'PRODUCT_NAME': 'Tai nghe Bluetooth thể thao dẫn khí truyền âm Soul OPENEAR PLUS', 'PRICE_REMAINING': 390000, 'PRODUCT_IMAGE': 'https://cdn2.cellphones.com.vn/insecure/rs:fill:358:358/q:90/plain/https://cellphones.com.vn/media/catalog/product/t/a/tai-nghe-soul-open-ear-plus_1_.png', 'PRODUCT_LINK': 'https://cellphones.com.vn/tai-nghe-soul-open-ear-plus.html', 'Review': \"{'positive': ['Dịch vụ khách hàng tuyệt vời, họ luôn giải quyết mọi vấn đề của tôi một cách nhanh chóng và hiệu quả.', 'Tôi đã sử dụng sản phẩm này trong một thời gian và vẫn cảm thấy hài lòng 100%. Sự kết hợp hoàn hảo giữa chất lượng và giá trị.', 'Dịch vụ khách hàng tuyệt vời! Tôi đã nhận được sự hỗ trợ nhanh chóng và hiệu quả từ nhóm hỗ trợ.', 'Tai nghe này thực sự đỉnh cao của công nghệ! Thiết kế hiện đại, kết nối Bluetooth ổn định và chất lượng âm thanh tuyệt vời.'], 'negative': ['Dịch vụ khách hàng quá tệ, không ai phản hồi khi tôi gặp vấn đề với sản phẩm của họ.', 'Dịch vụ khách hàng quá tệ, họ không giải quyết được vấn đề của tôi sau nhiều lần liên hệ.', 'Dịch vụ giao hàng quá chậm, tôi đã phải đợi gần một tháng để nhận được đơn hàng của mình.'], 'neutral': ['Sản phẩm này không phải là tốt nhất, nhưng cũng không phải là xấu nhất, phù hợp với giá tiền.', 'Dịch vụ này cũng ổn, không có vấn đề đáng chú ý nhưng cũng không có trải nghiệm đặc biệt.', 'Chất lượng của sản phẩm này không đến nỗi quá xuất sắc nhưng cũng không quá tệ, phù hợp với giá tiền.', 'Sản phẩm này khá bình thường, không có gì đặc biệt nhưng cũng không có gì đáng phàn nàn.', 'Dịch vụ của cửa hàng này trung bình, không gây ấn tượng lớn.']}\"}, excluded_embed_metadata_keys=[], excluded_llm_metadata_keys=[], relationships={<NodeRelationship.SOURCE: '1'>: RelatedNodeInfo(node_id='6aaf18ff-6ada-4aa3-8104-6b792178a1b9', node_type=<ObjectType.DOCUMENT: '4'>, metadata={'PRODUCT_NAME': 'Tai nghe Bluetooth thể thao dẫn khí truyền âm Soul OPENEAR PLUS', 'PRICE_REMAINING': 390000, 'PRODUCT_IMAGE': 'https://cdn2.cellphones.com.vn/insecure/rs:fill:358:358/q:90/plain/https://cellphones.com.vn/media/catalog/product/t/a/tai-nghe-soul-open-ear-plus_1_.png', 'PRODUCT_LINK': 'https://cellphones.com.vn/tai-nghe-soul-open-ear-plus.html', 'Review': \"{'positive': ['Dịch vụ khách hàng tuyệt vời, họ luôn giải quyết mọi vấn đề của tôi một cách nhanh chóng và hiệu quả.', 'Tôi đã sử dụng sản phẩm này trong một thời gian và vẫn cảm thấy hài lòng 100%. Sự kết hợp hoàn hảo giữa chất lượng và giá trị.', 'Dịch vụ khách hàng tuyệt vời! Tôi đã nhận được sự hỗ trợ nhanh chóng và hiệu quả từ nhóm hỗ trợ.', 'Tai nghe này thực sự đỉnh cao của công nghệ! Thiết kế hiện đại, kết nối Bluetooth ổn định và chất lượng âm thanh tuyệt vời.'], 'negative': ['Dịch vụ khách hàng quá tệ, không ai phản hồi khi tôi gặp vấn đề với sản phẩm của họ.', 'Dịch vụ khách hàng quá tệ, họ không giải quyết được vấn đề của tôi sau nhiều lần liên hệ.', 'Dịch vụ giao hàng quá chậm, tôi đã phải đợi gần một tháng để nhận được đơn hàng của mình.'], 'neutral': ['Sản phẩm này không phải là tốt nhất, nhưng cũng không phải là xấu nhất, phù hợp với giá tiền.', 'Dịch vụ này cũng ổn, không có vấn đề đáng chú ý nhưng cũng không có trải nghiệm đặc biệt.', 'Chất lượng của sản phẩm này không đến nỗi quá xuất sắc nhưng cũng không quá tệ, phù hợp với giá tiền.', 'Sản phẩm này khá bình thường, không có gì đặc biệt nhưng cũng không có gì đáng phàn nàn.', 'Dịch vụ của cửa hàng này trung bình, không gây ấn tượng lớn.']}\"}, hash='93162be7e89d5bfd7694e298dade890874103f201cff4498ec5327703114cff4'), <NodeRelationship.PREVIOUS: '2'>: RelatedNodeInfo(node_id='581edbd9-c835-498d-b078-eceb3d52522d', node_type=<ObjectType.TEXT: '1'>, metadata={'PRODUCT_NAME': 'Tai nghe Bluetooth thể thao dẫn khí truyền âm Soul OPENEAR PLUS', 'PRICE_REMAINING': 390000, 'PRODUCT_IMAGE': 'https://cdn2.cellphones.com.vn/insecure/rs:fill:358:358/q:90/plain/https://cellphones.com.vn/media/catalog/product/t/a/tai-nghe-soul-open-ear-plus_1_.png', 'PRODUCT_LINK': 'https://cellphones.com.vn/tai-nghe-soul-open-ear-plus.html', 'Review': \"{'positive': ['Dịch vụ khách hàng tuyệt vời, họ luôn giải quyết mọi vấn đề của tôi một cách nhanh chóng và hiệu quả.', 'Tôi đã sử dụng sản phẩm này trong một thời gian và vẫn cảm thấy hài lòng 100%. Sự kết hợp hoàn hảo giữa chất lượng và giá trị.', 'Dịch vụ khách hàng tuyệt vời! Tôi đã nhận được sự hỗ trợ nhanh chóng và hiệu quả từ nhóm hỗ trợ.', 'Tai nghe này thực sự đỉnh cao của công nghệ! Thiết kế hiện đại, kết nối Bluetooth ổn định và chất lượng âm thanh tuyệt vời.'], 'negative': ['Dịch vụ khách hàng quá tệ, không ai phản hồi khi tôi gặp vấn đề với sản phẩm của họ.', 'Dịch vụ khách hàng quá tệ, họ không giải quyết được vấn đề của tôi sau nhiều lần liên hệ.', 'Dịch vụ giao hàng quá chậm, tôi đã phải đợi gần một tháng để nhận được đơn hàng của mình.'], 'neutral': ['Sản phẩm này không phải là tốt nhất, nhưng cũng không phải là xấu nhất, phù hợp với giá tiền.', 'Dịch vụ này cũng ổn, không có vấn đề đáng chú ý nhưng cũng không có trải nghiệm đặc biệt.', 'Chất lượng của sản phẩm này không đến nỗi quá xuất sắc nhưng cũng không quá tệ, phù hợp với giá tiền.', 'Sản phẩm này khá bình thường, không có gì đặc biệt nhưng cũng không có gì đáng phàn nàn.', 'Dịch vụ của cửa hàng này trung bình, không gây ấn tượng lớn.']}\"}, hash='ae0ecedd06996d9287d15f4e1b014989a78cf208db4ff2993648a3182470e8d8'), <NodeRelationship.NEXT: '3'>: RelatedNodeInfo(node_id='b8285c80-6778-4552-a371-0d3654db8103', node_type=<ObjectType.TEXT: '1'>, metadata={}, hash='5c6e2e7550de32ec589338d6d78b957dcaeccadb072be9fef362c7549d94059e')}, text='Bên cạnh đó, sản phẩm tai nghe thể thao này cũng hỗ trợ bạn tập luyện tốt hơn khi có khả năng phát nhạc với âm thanh sắc nét. Với khả năng kháng nước vượt trội, bạn hoàn toàn yên tâm khi thiết bị sẽ không hư hỏng trong quá trình sử dụng. Công suất, công nghệ âm thanh Tai nghe Soul Open-Ear Plus hoạt động với tần số dao động từ 20Hz đến 20kHz nên có thể phù hợp với cấu trúc tai của hầu hết người dùng. Bên cạnh đó, thiết bị cũng đi kèm với màng loa 14.2mm nhằm mang đến chất âm mạnh mẽ với âm trầm, âm cao và âm trung rõ ràng.  Xem thêm', start_char_idx=549, end_char_idx=1087, text_template='{metadata_str}\\n\\n{content}', metadata_template='{key}: {value}', metadata_seperator='\\n'), score=0.312092811),\n",
              " NodeWithScore(node=TextNode(id_='581edbd9-c835-498d-b078-eceb3d52522d', embedding=[-0.0645361617, 0.0314412341, -0.0309355967, -0.012984951, -0.0147436457, -0.0230255984, 0.0625702888, -0.0261299927, 0.0270194951, 0.0118090836, 0.116701335, -0.0723249465, -0.00334926439, -0.0100597991, 0.0791118667, 0.0401713438, 0.0123731066, 0.0138058076, -0.0492199436, 0.0448905565, -0.0332535319, -0.0533488207, 0.0466134772, -0.0284613688, -0.02765432, -0.0329547375, -0.0552632324, 0.0272948369, -0.0342609398, -0.0226660259, 0.0600397848, 0.0288322493, -0.0428168513, 0.00037318765, -0.0581341907, 0.024961127, -0.0267212149, -0.0283938013, -0.0646196753, -0.0609150119, -0.0172297172, 0.0798441544, -0.0978589579, 0.0344541706, -0.00337096886, 0.0113385748, -0.0338900313, -0.0193106439, -0.000409405067, -0.0255736373, -0.0161208697, 0.035074804, -0.0907125175, -0.00615591649, -0.0422606245, -0.0706254169, -0.000498402864, 0.0802447051, 0.0111307288, 0.0936503261, 0.0580121689, -0.06551902, -0.0627300218, 0.013134798, -0.0457564555, 0.0241861846, -0.0541260429, -0.0746716559, -0.000384760118, -0.0706477165, 0.0836693868, -0.0736434758, -0.0864514783, 0.00250741676, 0.0431251153, 0.05550953, 0.00579670211, -0.00968506653, -0.0620880537, 0.0085458653, -0.0068420982, -0.0615201555, -0.0243462864, 0.0478127524, -0.0037376273, 0.0826405063, -0.00380503549, 0.000744900433, -0.0629507229, 0.00630436186, -0.118317269, -0.0025617138, -0.0216138959, -0.024113927, 0.0871862471, 0.0634034947, 0.02974906, 0.0409673303, 0.0192862656, 0.0761473551, -0.00406538602, -0.0119348597, -0.0520885512, -0.0200117026, 0.0177415069, 0.00951265637, 0.0775530338, 0.00739248423, 0.00809649751, 0.00395961571, -0.0258778501, -0.0436762087, -0.0465007573, 0.0216984246, -0.0316010453, 0.0107150581, -0.151067138, -0.0251787, 0.0460722819, 0.05899648, 0.0405090488, 0.0193970948, 0.0396565646, -0.0199907124, 0.0487243533, -0.119367331, 0.024264995, 0.0659161136, -0.0323215052, 0.0686095208, 0.0705143, 0.0465974398, 0.0532874167, 0.0148840817, -0.0428817384, 0.0247488543, -0.0894840732, 0.103499509, -0.0724275634, 0.0118930116, -0.064537935, 0.103779122, 0.021830773, 0.0173061546, -0.0168219581, -0.0291175637, 0.0550320707, 0.0137566812, -0.0159711652, 0.00659031468, -0.0294008758, -0.0469100773, 0.0726980269, 0.059330117, 0.0298017338, 0.0653461441, 0.119917922, 0.0266206879, -0.0512612388, -0.0349694, 0.0629500523, -0.117805555, 0.0193828344, 0.025902696, -0.0287866071, 0.0162813347, -0.0432472825, -0.019614866, 0.0201418456, 0.0143619822, -0.146209672, -0.0306061469, -0.0869800076, 0.0232309531, -0.0219592229, -0.0488184, 0.0523642451, 0.0332590491, -0.0782482699, -0.0510071032, -0.0579030588, 0.0328599513, -0.0400311202, -0.0449827202, -0.105797835, 0.0525780618, -0.0466085821, -0.0166781135, 0.0299798213, -0.0103754597, 0.0185752884, -0.0241123941, 0.0202741846, 0.0223621335, -0.0151066603, -0.0384584814, -0.00516419858, -0.0333134308, -0.0392955095, -0.0296823066, -0.0028978542, -0.0102482503, 0.0427207649, -0.00391419837, 0.010095424, 0.059458226, 0.0190866552, 0.0236578695, -0.0632115155, 0.0527947359, 0.00237633148, 0.0335271, -0.0751025155, -0.0123935454, -0.0369294025, -0.0551654659, -0.136262849, -0.00196100096, 0.0278766286, 0.0718369558, -0.0537958182, -0.079015404, -0.117227979, -0.0912191719, -0.0480565, 0.00642900821, -0.0189555399, -0.0223987941, -0.0475101769, -0.00547826942, -0.0436670631, 0.0554395, 0.0242728293, 0.0736841708, 0.0802982524, 0.0441438407, 0.0605688207, 0.00428379141, -0.0147530679, -0.0310367011, 0.00397630176, 0.0277691409, 0.0639652312, -0.00752492063, -0.0377082787, -0.0423491113, -0.00101842929, 0.003279472, -0.00803783722, 0.095008634, 0.0311622061, 0.0499478653, 0.0522205159, 0.0356616974, 0.110624894, 0.0592735298, -0.0482765585, 0.02003452, 0.0362475105, -0.0616406053, 0.0377085432, -0.00336314691, 0.0125238849, -0.0626274273, 0.0518288761, 0.0662955493, -0.0469314121, -0.00617851038, 0.0143486168, -0.101595506, 0.024620343, 0.00642424915, 0.0588523559, -0.0332699, 0.0919482261, -0.0197912734, 0.0212615412, -0.0561063066, -0.0316437446, 0.0552805513, 0.0150753884, 0.00369744748, 0.135928959, -0.0532081537, 0.0651888922, 0.0126052881, -0.0095462827, -0.0622939318, -0.0670236126, 0.0592744052, -0.000365427113, 0.106995329, -0.048572991, -0.00702464767, -0.00777813233, 0.0141554382, 0.0724824, 0.020715693, -0.0534684137, 0.0837808, -0.0471058413, 0.059660729, 0.0304730292, -0.0152877737, 0.0243325289, 0.00784399733, -0.0626354665, -0.0196636487, 0.13635613, 0.0143285915, 0.0441685729, 0.00599293597, -0.0539000072, 0.0191329755, -0.0324361585, -0.000671821123, -0.036860276, 0.129231632, -0.0292692222, -0.0691976175, 0.023343768, -0.0407542251, 0.05278752, -0.0423612855, 0.0468592383, 0.103603713, -0.0283943824, -0.0565922372, -0.0925465301, 0.0310915392, -0.0109024895, -0.0316607803, -0.0341017321, 0.04292766, -0.0328809023, 0.00843937416, -0.0441065952, -0.0211167615, 0.0366704352, -0.0797278211, 0.0148133179, 0.0177942812, 0.12123578, -0.0373297036, -0.0505094938, -0.0943100452, 0.0169792883, 0.0846639127, 0.070995152, -0.00498528685, 0.0346939526, 0.0650387406, 0.0213535093, 0.0621981025, -0.00646394351, -0.0259894952, -0.0922169462, 0.0183642656, 0.018235622, 0.0733464062, 0.0496610552, 0.00776930479, -0.0458711758, 0.0455197, 0.0333795361, 0.00707034953, 0.0997781307, -0.0319302231, -0.0549119301, 0.0689801127, 0.00044000792, 0.0139278127, 0.011226614, 0.0263375789, -0.00992756058, -0.00439180713, -0.0454001315, 0.03233153, -0.0410131, 0.0477639921, -0.0387411602, -0.0630308241, -0.0304904971, 0.0177729782], metadata={'PRODUCT_NAME': 'Tai nghe Bluetooth thể thao dẫn khí truyền âm Soul OPENEAR PLUS', 'PRICE_REMAINING': 390000, 'PRODUCT_IMAGE': 'https://cdn2.cellphones.com.vn/insecure/rs:fill:358:358/q:90/plain/https://cellphones.com.vn/media/catalog/product/t/a/tai-nghe-soul-open-ear-plus_1_.png', 'PRODUCT_LINK': 'https://cellphones.com.vn/tai-nghe-soul-open-ear-plus.html', 'Review': \"{'positive': ['Dịch vụ khách hàng tuyệt vời, họ luôn giải quyết mọi vấn đề của tôi một cách nhanh chóng và hiệu quả.', 'Tôi đã sử dụng sản phẩm này trong một thời gian và vẫn cảm thấy hài lòng 100%. Sự kết hợp hoàn hảo giữa chất lượng và giá trị.', 'Dịch vụ khách hàng tuyệt vời! Tôi đã nhận được sự hỗ trợ nhanh chóng và hiệu quả từ nhóm hỗ trợ.', 'Tai nghe này thực sự đỉnh cao của công nghệ! Thiết kế hiện đại, kết nối Bluetooth ổn định và chất lượng âm thanh tuyệt vời.'], 'negative': ['Dịch vụ khách hàng quá tệ, không ai phản hồi khi tôi gặp vấn đề với sản phẩm của họ.', 'Dịch vụ khách hàng quá tệ, họ không giải quyết được vấn đề của tôi sau nhiều lần liên hệ.', 'Dịch vụ giao hàng quá chậm, tôi đã phải đợi gần một tháng để nhận được đơn hàng của mình.'], 'neutral': ['Sản phẩm này không phải là tốt nhất, nhưng cũng không phải là xấu nhất, phù hợp với giá tiền.', 'Dịch vụ này cũng ổn, không có vấn đề đáng chú ý nhưng cũng không có trải nghiệm đặc biệt.', 'Chất lượng của sản phẩm này không đến nỗi quá xuất sắc nhưng cũng không quá tệ, phù hợp với giá tiền.', 'Sản phẩm này khá bình thường, không có gì đặc biệt nhưng cũng không có gì đáng phàn nàn.', 'Dịch vụ của cửa hàng này trung bình, không gây ấn tượng lớn.']}\"}, excluded_embed_metadata_keys=[], excluded_llm_metadata_keys=[], relationships={<NodeRelationship.SOURCE: '1'>: RelatedNodeInfo(node_id='6aaf18ff-6ada-4aa3-8104-6b792178a1b9', node_type=<ObjectType.DOCUMENT: '4'>, metadata={'PRODUCT_NAME': 'Tai nghe Bluetooth thể thao dẫn khí truyền âm Soul OPENEAR PLUS', 'PRICE_REMAINING': 390000, 'PRODUCT_IMAGE': 'https://cdn2.cellphones.com.vn/insecure/rs:fill:358:358/q:90/plain/https://cellphones.com.vn/media/catalog/product/t/a/tai-nghe-soul-open-ear-plus_1_.png', 'PRODUCT_LINK': 'https://cellphones.com.vn/tai-nghe-soul-open-ear-plus.html', 'Review': \"{'positive': ['Dịch vụ khách hàng tuyệt vời, họ luôn giải quyết mọi vấn đề của tôi một cách nhanh chóng và hiệu quả.', 'Tôi đã sử dụng sản phẩm này trong một thời gian và vẫn cảm thấy hài lòng 100%. Sự kết hợp hoàn hảo giữa chất lượng và giá trị.', 'Dịch vụ khách hàng tuyệt vời! Tôi đã nhận được sự hỗ trợ nhanh chóng và hiệu quả từ nhóm hỗ trợ.', 'Tai nghe này thực sự đỉnh cao của công nghệ! Thiết kế hiện đại, kết nối Bluetooth ổn định và chất lượng âm thanh tuyệt vời.'], 'negative': ['Dịch vụ khách hàng quá tệ, không ai phản hồi khi tôi gặp vấn đề với sản phẩm của họ.', 'Dịch vụ khách hàng quá tệ, họ không giải quyết được vấn đề của tôi sau nhiều lần liên hệ.', 'Dịch vụ giao hàng quá chậm, tôi đã phải đợi gần một tháng để nhận được đơn hàng của mình.'], 'neutral': ['Sản phẩm này không phải là tốt nhất, nhưng cũng không phải là xấu nhất, phù hợp với giá tiền.', 'Dịch vụ này cũng ổn, không có vấn đề đáng chú ý nhưng cũng không có trải nghiệm đặc biệt.', 'Chất lượng của sản phẩm này không đến nỗi quá xuất sắc nhưng cũng không quá tệ, phù hợp với giá tiền.', 'Sản phẩm này khá bình thường, không có gì đặc biệt nhưng cũng không có gì đáng phàn nàn.', 'Dịch vụ của cửa hàng này trung bình, không gây ấn tượng lớn.']}\"}, hash='93162be7e89d5bfd7694e298dade890874103f201cff4498ec5327703114cff4'), <NodeRelationship.PREVIOUS: '2'>: RelatedNodeInfo(node_id='04445d9b-6989-47fe-bd8c-e189342ce467', node_type=<ObjectType.TEXT: '1'>, metadata={'PRODUCT_NAME': 'Tai nghe Gaming không dây Havit TW908', 'PRICE_REMAINING': 400000, 'PRODUCT_IMAGE': 'https://cdn2.cellphones.com.vn/insecure/rs:fill:358:358/q:90/plain/https://cellphones.com.vn/media/catalog/product/t/a/tai-nghe-khong-day-havit-havit-tw908.png', 'PRODUCT_LINK': 'https://cellphones.com.vn/tai-nghe-khong-day-havit-havit-tw908.html', 'Review': \"{'positive': ['Tôi rất hài lòng với chất lượng của sản phẩm, âm thanh rất sống động và không gây đau tai sau một thời gian dài sử dụng.', 'Chất lượng âm thanh của sản phẩm này vượt xa mong đợi của tôi. Tôi đã ngạc nhiên trước sự rõ ràng và chi tiết của âm thanh.', 'Âm thanh sống động, chất lượng tai nghe rất tốt. Tôi đã sử dụng nhiều loại tai nghe nhưng đây là một trong những loại tốt nhất mà tôi từng sở hữu.'], 'negative': ['Dịch vụ của công ty quá tệ, không chuyên nghiệp và không thể tin cậy.', 'Dịch vụ khách hàng quá tệ, không thể giải quyết vấn đề của tôi một cách hiệu quả.', 'Sản phẩm không như mô tả, gặp nhiều vấn đề khi sử dụng, tôi không khuyến khích ai mua.'], 'neutral': ['Chất lượng dịch vụ của cửa hàng này khá trung bình, không quá ấn tượng nhưng cũng không gây phàn nàn.', 'Dịch vụ của cửa hàng này trung bình, không gây ấn tượng lớn.', 'Sản phẩm này không làm tôi cảm thấy hài lòng nhưng cũng không gây ra cảm giác thất vọng.', 'Sản phẩm này khá ổn, âm thanh không quá tốt nhưng cũng không quá tệ.', 'Sản phẩm này không phải là tốt nhất, nhưng cũng không phải là xấu nhất, phù hợp với giá tiền.']}\"}, hash='fa4e9cdf8257ff95c464df7537f3f942ea74847648e4628618bbc90598bb122a'), <NodeRelationship.NEXT: '3'>: RelatedNodeInfo(node_id='cef2b820-d42c-496f-8e2f-d365113f2f6b', node_type=<ObjectType.TEXT: '1'>, metadata={}, hash='670d9ccc3bbb7c52a2f48bd44af7ae7ea715ab215a604badd4c8bcb4c1f35110')}, text='ĐẶC ĐIỂM NỔI BẬT Kiểu dáng Open-ear không gây đau tai, thích hợp khi tập luyện và đạp xe ngoài trời Thời lượng pin 7 giờ phù hợp với nghe audiobook, họp online và xem phim dài tập Kháng nước chuẩn IPX4 giúp đảm bảo an toàn khi đi mưa và thoải mái tập luyện Thiết kế truyền âm qua không khí, driver 14mm cho chất âm vượt trội, sống động Tai nghe Soul Open-Ear Plus - Tai nghe có kiểu dáng nhỏ gọn và âm thanh sắc nét Tai nghe Soul Open-Ear Plus được thiết kế với kiểu dáng nhỏ gọn, giúp bạn dễ dàng sử dụng trong khi tham gia các hoạt động thể thao. Bên cạnh đó, sản phẩm tai nghe thể thao này cũng hỗ trợ bạn tập luyện tốt hơn khi có khả năng phát nhạc với âm thanh sắc nét.', start_char_idx=0, end_char_idx=674, text_template='{metadata_str}\\n\\n{content}', metadata_template='{key}: {value}', metadata_seperator='\\n'), score=0.312092811),\n",
              " NodeWithScore(node=TextNode(id_='e8919ff3-8f83-437c-a245-97bf530ac81d', embedding=[-0.0642953515, 0.0739060864, -0.0288159158, -0.0372209772, -0.0349198543, -0.0463773571, 0.0644752756, -0.00781235751, -0.0180769693, -0.0014295557, 0.115996756, -0.0351162106, -0.0158132166, -0.0274435449, 0.0728705227, 0.0527589135, 0.00294332695, 0.0382287763, -0.0394781716, 0.0630591, -0.0198107306, -0.0177767612, 0.0378522947, 0.0372000672, -0.0175389666, -0.00803808123, -0.0454362035, 0.0467140116, -0.021113405, -0.0417672, 0.0246750433, 0.0774396, -0.0167927463, -0.00953008514, -0.0364153869, 0.0198000204, 0.031600222, -0.0651153699, -0.100706577, -0.0859683, -0.033590693, 0.0768538266, -0.0948810205, 0.0149039859, -0.0135762962, 0.026965443, -0.0338168778, -0.0299971495, 0.00413510157, -0.0190359224, -0.0261893868, 0.051231239, -0.0914940685, -0.0295971856, -0.0341654569, -0.0657477, 0.0278221238, 0.096614711, 0.0189199708, 0.071522437, 0.0431346819, -0.0807495713, -0.039436616, 0.00413096091, -0.0851525366, 0.0161509346, -0.0578491427, -0.0878977552, -0.011373709, -0.0591729432, 0.0695759133, -0.0588101968, -0.061440181, -0.00202137511, 0.0363563932, 0.0576136187, -0.0020384395, 0.0153745897, -0.0271795187, 0.00921385549, 0.0279932115, -0.103353888, -0.0626679808, 0.0253166147, 0.024476083, 0.0749595463, 0.00096678728, -0.0186785776, -0.0272431262, -0.00678869477, -0.116317146, 0.00489915628, -0.015137421, -0.0107036382, 0.0665896684, 0.0611378439, 0.0297247842, 0.0177541636, 0.0274795517, 0.0971347541, 0.0155566512, -0.0530779548, -0.0185832251, -0.0376273841, -0.012541214, -0.0127020711, 0.0750553906, -0.00278720283, -0.0051764315, -0.0220666323, -0.0472973362, -0.0115211457, -0.0684401914, 0.0212188456, -0.0358380489, 0.0112778675, -0.112731405, -0.0430306047, 0.042408146, 0.0300706588, 0.0206076838, -0.00974721834, 0.0308387578, -0.0117199533, 0.0320696682, -0.0932328403, 0.0158783216, 0.0401585028, -0.0186493974, 0.0425352417, 0.0272922404, 0.0531825274, 0.0552937463, -0.000463926146, -0.0306470189, 0.0306440834, -0.040451549, 0.0800340697, -0.065840289, -0.0102291573, -0.0584614389, 0.0814513, 0.034577176, 0.0131134782, -0.0172280371, -0.0154325403, 0.0295297354, 0.00391693972, -0.0276021343, 0.0246006604, -0.0269843, -0.0494276471, 0.135335952, 0.0409326553, 0.0666210577, 0.0368779786, 0.109988034, 0.0343707241, 0.00535103213, -0.0410583, 0.0138696134, -0.0957361609, 0.0101860976, 0.0111353528, -0.0277045928, 0.0329631306, -0.0797349736, 0.00227505737, 0.0211502574, 0.0400363654, -0.167098567, -0.00422432367, -0.0719748363, -0.0467247739, -0.0374332108, -0.0397311114, 0.0384181961, 0.00999586284, -0.08263, -0.0237000585, -0.0378860161, 0.0632322356, 0.012500165, -0.0537989326, -0.0619659349, 0.00337952236, -0.0566569, -0.0358215608, 0.0454524681, -0.0201124493, 0.00321624032, -0.0501949266, 0.00511938054, 0.0519294143, -0.0136480918, -0.0223795399, -0.0126602286, -0.0217616335, -0.00583979348, -0.0420518108, -0.00154516753, 0.00935121, 0.0179841612, 0.0309803598, 0.0220019314, 0.0293442532, -0.000263290451, 0.0101288417, -0.0776984915, 0.0833712667, 0.0679959655, 0.00229170523, -0.091295734, -0.0104972199, 0.00735000754, -0.0520936847, -0.0982947275, 0.0198274683, -0.0200959966, 0.077526778, -0.0608028024, -0.0789285526, -0.0734975114, -0.0819904581, -0.0491046272, 0.0129560381, -0.0628951341, -0.0225768983, -0.0558011644, 0.000155297515, -0.0575565584, 0.0768585354, 0.0300515816, 0.0381711684, 0.0838495567, 0.0247899331, 0.00691052806, 0.00719534373, -0.00736187072, -0.0104015581, 0.000193373722, 0.027049901, 0.0799919292, -0.0100127505, 0.017345082, -0.0756481513, 0.0203896202, 0.0380386375, -0.0574477687, 0.0861333907, 0.0335102677, 0.0411099643, 0.0666188598, 0.0119629875, 0.0845150203, 0.0192199051, -0.0132013895, 0.0584087223, 0.0126312617, -0.0694580376, 0.0230585691, -0.0240331, 0.0122760478, -0.0108257355, 0.0283402372, 0.0887826383, -0.0447880626, 0.00181423733, 0.0381940342, -0.12673603, 0.0515996628, -0.00865370408, 0.0471474193, -0.0435068347, 0.0992838442, -0.0217997562, -0.0240549818, -0.00594065338, -0.0690765902, 0.0371411592, 0.0399547517, 0.0430746339, 0.129235804, -0.018555861, 0.0684234798, -0.0191700775, -0.0595370792, -0.0835800096, -0.0777308419, 0.105424687, 0.0348716676, 0.0646591187, 0.00170061877, -0.0329982191, -0.0502891503, 0.0407840647, 0.0519812, 0.0160018969, -0.10448353, 0.0689545423, -0.0506901518, 0.104796909, 0.0835082754, -0.0212822892, 0.0276845079, -0.00111681456, -0.0764946118, -0.0290471502, 0.122434877, 0.0244316477, 0.0310827401, -0.00549218711, -0.0531884469, -0.00167966611, -0.00925914105, 0.02830863, -0.00621483242, 0.121731602, 0.0211685766, -0.0568683557, 0.0115053728, -0.0366057381, 0.0255389065, 0.0049948683, 0.055809509, 0.111536369, -0.0372320116, -0.0675241649, -0.052335307, 0.00607201, -0.000575913931, -0.0318878517, -0.0574841127, 0.0332549, -0.0141042955, 0.018482646, -0.0616011024, 0.0145883253, 0.0426562391, -0.0590614304, 0.029405944, -0.00234979973, 0.128502563, -0.0236829314, -0.10369131, -0.0825915784, 0.00457420433, 0.0911963135, 0.0664421096, -0.00470774714, -0.0169103, 0.0595135912, -0.00935810059, 0.0192455091, 1.40057109e-05, -0.0319393054, -0.0986756608, -0.00121771661, 0.0548371971, 0.0888470411, 0.0427898057, 0.00902442541, -0.0683958232, 0.0260259844, 0.0793727189, -0.00411826791, 0.0957382396, -0.0348651074, -0.0752158239, 0.0701758042, 0.00946104061, 0.0375162363, 0.0430648364, 0.0416120887, -0.0381631143, 0.0233837292, -0.0496933423, -0.00564162666, -0.0378861427, 0.0361948349, -0.0151159121, -0.0375991873, -0.0471229851, 0.0413750224], metadata={'PRODUCT_NAME': 'Tai nghe Bluetooth thể thao SoundPEATS Wings2', 'PRICE_REMAINING': 590000, 'PRODUCT_IMAGE': 'https://cdn2.cellphones.com.vn/insecure/rs:fill:358:358/q:90/plain/https://cellphones.com.vn/media/catalog/product/t/a/tai-nghe-khong-day-soundpeats-wings2-0.png', 'PRODUCT_LINK': 'https://cellphones.com.vn/tai-nghe-khong-day-soundpeats-wings2.html', 'Review': \"{'positive': ['Tôi rất hài lòng với chất lượng sản phẩm và dịch vụ của công ty. Chắc chắn sẽ mua lại ở đây!', 'Sản phẩm này đáng giá mọi xu mà tôi bỏ ra! Âm thanh chi tiết, độ trầm ấn tượng và khả năng cách âm tốt.', 'Tai nghe này thực sự đỉnh cao của công nghệ! Thiết kế hiện đại, kết nối Bluetooth ổn định và chất lượng âm thanh tuyệt vời.', 'Dịch vụ giao hàng nhanh chóng và chính xác. Tôi rất ấn tượng với cách họ xử lý đơn hàng của tôi.', 'Dịch vụ giao hàng nhanh chóng và sản phẩm được đóng gói cẩn thận. Tôi hoàn toàn hài lòng với trải nghiệm mua hàng này.'], 'negative': ['Tai nghe này không thoải mái khi đeo, gây đau tai sau một thời gian sử dụng.', 'Dịch vụ của công ty này quá kém, không chuyên nghiệp chút nào.', 'Sản phẩm như đồ giả, không giống như mô tả trên trang web. Rất thất vọng với chất lượng này.', 'Dịch vụ khách hàng quá tệ, họ không giải quyết được vấn đề của tôi sau nhiều lần liên hệ.'], 'neutral': ['Dịch vụ của cửa hàng này không tạo ra ấn tượng mạnh mẽ, nhưng cũng không có vấn đề nào lớn.', 'Dịch vụ này chưa đến mức xuất sắc nhưng cũng không tệ, đáp ứng được nhu cầu cơ bản của tôi.', 'Chất lượng dịch vụ của cửa hàng này khá trung bình, không quá ấn tượng nhưng cũng không gây phàn nàn.']}\"}, excluded_embed_metadata_keys=[], excluded_llm_metadata_keys=[], relationships={<NodeRelationship.SOURCE: '1'>: RelatedNodeInfo(node_id='d9a001f9-279c-45cf-9047-ad91bb9311b1', node_type=<ObjectType.DOCUMENT: '4'>, metadata={'PRODUCT_NAME': 'Tai nghe Bluetooth thể thao SoundPEATS Wings2', 'PRICE_REMAINING': 590000, 'PRODUCT_IMAGE': 'https://cdn2.cellphones.com.vn/insecure/rs:fill:358:358/q:90/plain/https://cellphones.com.vn/media/catalog/product/t/a/tai-nghe-khong-day-soundpeats-wings2-0.png', 'PRODUCT_LINK': 'https://cellphones.com.vn/tai-nghe-khong-day-soundpeats-wings2.html', 'Review': \"{'positive': ['Tôi rất hài lòng với chất lượng sản phẩm và dịch vụ của công ty. Chắc chắn sẽ mua lại ở đây!', 'Sản phẩm này đáng giá mọi xu mà tôi bỏ ra! Âm thanh chi tiết, độ trầm ấn tượng và khả năng cách âm tốt.', 'Tai nghe này thực sự đỉnh cao của công nghệ! Thiết kế hiện đại, kết nối Bluetooth ổn định và chất lượng âm thanh tuyệt vời.', 'Dịch vụ giao hàng nhanh chóng và chính xác. Tôi rất ấn tượng với cách họ xử lý đơn hàng của tôi.', 'Dịch vụ giao hàng nhanh chóng và sản phẩm được đóng gói cẩn thận. Tôi hoàn toàn hài lòng với trải nghiệm mua hàng này.'], 'negative': ['Tai nghe này không thoải mái khi đeo, gây đau tai sau một thời gian sử dụng.', 'Dịch vụ của công ty này quá kém, không chuyên nghiệp chút nào.', 'Sản phẩm như đồ giả, không giống như mô tả trên trang web. Rất thất vọng với chất lượng này.', 'Dịch vụ khách hàng quá tệ, họ không giải quyết được vấn đề của tôi sau nhiều lần liên hệ.'], 'neutral': ['Dịch vụ của cửa hàng này không tạo ra ấn tượng mạnh mẽ, nhưng cũng không có vấn đề nào lớn.', 'Dịch vụ này chưa đến mức xuất sắc nhưng cũng không tệ, đáp ứng được nhu cầu cơ bản của tôi.', 'Chất lượng dịch vụ của cửa hàng này khá trung bình, không quá ấn tượng nhưng cũng không gây phàn nàn.']}\"}, hash='d238b2bec465cbd822ab38ca920cc8ccee71603adfce5cbe3ab60d1f35f2e5e0'), <NodeRelationship.PREVIOUS: '2'>: RelatedNodeInfo(node_id='966ab727-c65d-4290-b070-dab11ecb4d77', node_type=<ObjectType.TEXT: '1'>, metadata={'PRODUCT_NAME': 'Tai nghe Bluetooth True Wireless Havit TW958 Pro', 'PRICE_REMAINING': 590000, 'PRODUCT_IMAGE': 'https://cdn2.cellphones.com.vn/insecure/rs:fill:358:358/q:90/plain/https://cellphones.com.vn/media/catalog/product/t/a/tai-nghe-khong-day-havit-tw958-pro_1_.png', 'PRODUCT_LINK': 'https://cellphones.com.vn/tai-nghe-khong-day-havit-tw958-pro.html', 'Review': \"{'positive': ['Dịch vụ của công ty rất tuyệt vời, nhân viên thân thiện và nhiệt tình, luôn sẵn lòng giải đáp mọi thắc mắc của khách hàng.', 'Chất lượng sản phẩm vượt xa mong đợi của tôi. Tôi đã mua nhiều sản phẩm từ công ty này và chưa bao giờ thất vọng.', 'Sản phẩm này vượt xa mong đợi của tôi! Âm thanh sống động, thiết kế đẹp mắt và giá cả hợp lý.', 'Dịch vụ khách hàng tuyệt vời! Tôi đã nhận được sự hỗ trợ nhanh chóng và hiệu quả từ nhóm hỗ trợ.'], 'negative': ['Tai nghe này chất lượng quá kém, âm thanh rè và bị méo mó sau một thời gian sử dụng.', 'Dịch vụ khách hàng quá tệ, không thể giải quyết vấn đề của tôi một cách hiệu quả.', 'Giao hàng muộn, sản phẩm đến tay tôi sau thời hạn đã hứa.', 'Dịch vụ khách hàng quá tệ, không ai phản hồi khi tôi gặp vấn đề với sản phẩm của họ.', 'Dịch vụ sau bán hàng kém chất lượng. Không có hỗ trợ khi gặp sự cố với sản phẩm.'], 'neutral': ['Dịch vụ của họ ổn định, không có gì nổi bật nhưng cũng không có vấn đề gì đáng lo ngại.', 'Dịch vụ này tương đối ổn, không gây ra bất kỳ vấn đề đáng lo ngại nào, nhưng cũng không có gì đặc biệt.', 'Tai nghe này không quá cao cấp nhưng cũng không quá rẻ tiền, phù hợp với nhu cầu sử dụng hàng ngày.', 'Dịch vụ của cửa hàng này trung bình, không gây ấn tượng lớn.']}\"}, hash='00ccc0e27a49869500c9ab3289d8acc06b568591db0c25a088546a22728f6eb8'), <NodeRelationship.NEXT: '3'>: RelatedNodeInfo(node_id='f18ed37b-5ebc-4ba5-9091-973a59c542b1', node_type=<ObjectType.TEXT: '1'>, metadata={}, hash='2dd9b91da0fa3ac7b84045c2fef679ce7a8858b2d16e26968386be6c012fcdb4')}, text='ĐẶC ĐIỂM NỔI BẬT Thiết kế tinh tế với tai nghe dạng móc tai giúp hạn chế rơi khi vận động mạnh Độ trễ thấp 70ms giúp đồng hộ hoá giữa âm thanh và hình ảnh khi chơi game Driver kích thước lên đến 13mm cho ra chất âm sống động, âm trầm sâu lắng Thời lượng pin 30h phù hợp với nghe audiobook, họp online, xem phim dài tập Tai nghe không dây Soundpeats Wings2 - Âm thanh chân thật, sống động Tai nghe không dây Soundpeats Wings2 với thiết kế cực kỳ thời trang mang lại sự năng động cho người dùng. Với tính năng thông minh vượt trội, chất lượng âm thanh tuyệt vời, đây sẽ là mẫu tai nghe Soundpeats đáp ứng nhu cầu của bạn trong hoạt động thể thao và giải trí hàng ngày.', start_char_idx=0, end_char_idx=666, text_template='{metadata_str}\\n\\n{content}', metadata_template='{key}: {value}', metadata_seperator='\\n'), score=0.306747526),\n",
              " NodeWithScore(node=TextNode(id_='f18ed37b-5ebc-4ba5-9091-973a59c542b1', embedding=[-0.0642953515, 0.0739060864, -0.0288159158, -0.0372209772, -0.0349198543, -0.0463773571, 0.0644752756, -0.00781235751, -0.0180769693, -0.0014295557, 0.115996756, -0.0351162106, -0.0158132166, -0.0274435449, 0.0728705227, 0.0527589135, 0.00294332695, 0.0382287763, -0.0394781716, 0.0630591, -0.0198107306, -0.0177767612, 0.0378522947, 0.0372000672, -0.0175389666, -0.00803808123, -0.0454362035, 0.0467140116, -0.021113405, -0.0417672, 0.0246750433, 0.0774396, -0.0167927463, -0.00953008514, -0.0364153869, 0.0198000204, 0.031600222, -0.0651153699, -0.100706577, -0.0859683, -0.033590693, 0.0768538266, -0.0948810205, 0.0149039859, -0.0135762962, 0.026965443, -0.0338168778, -0.0299971495, 0.00413510157, -0.0190359224, -0.0261893868, 0.051231239, -0.0914940685, -0.0295971856, -0.0341654569, -0.0657477, 0.0278221238, 0.096614711, 0.0189199708, 0.071522437, 0.0431346819, -0.0807495713, -0.039436616, 0.00413096091, -0.0851525366, 0.0161509346, -0.0578491427, -0.0878977552, -0.011373709, -0.0591729432, 0.0695759133, -0.0588101968, -0.061440181, -0.00202137511, 0.0363563932, 0.0576136187, -0.0020384395, 0.0153745897, -0.0271795187, 0.00921385549, 0.0279932115, -0.103353888, -0.0626679808, 0.0253166147, 0.024476083, 0.0749595463, 0.00096678728, -0.0186785776, -0.0272431262, -0.00678869477, -0.116317146, 0.00489915628, -0.015137421, -0.0107036382, 0.0665896684, 0.0611378439, 0.0297247842, 0.0177541636, 0.0274795517, 0.0971347541, 0.0155566512, -0.0530779548, -0.0185832251, -0.0376273841, -0.012541214, -0.0127020711, 0.0750553906, -0.00278720283, -0.0051764315, -0.0220666323, -0.0472973362, -0.0115211457, -0.0684401914, 0.0212188456, -0.0358380489, 0.0112778675, -0.112731405, -0.0430306047, 0.042408146, 0.0300706588, 0.0206076838, -0.00974721834, 0.0308387578, -0.0117199533, 0.0320696682, -0.0932328403, 0.0158783216, 0.0401585028, -0.0186493974, 0.0425352417, 0.0272922404, 0.0531825274, 0.0552937463, -0.000463926146, -0.0306470189, 0.0306440834, -0.040451549, 0.0800340697, -0.065840289, -0.0102291573, -0.0584614389, 0.0814513, 0.034577176, 0.0131134782, -0.0172280371, -0.0154325403, 0.0295297354, 0.00391693972, -0.0276021343, 0.0246006604, -0.0269843, -0.0494276471, 0.135335952, 0.0409326553, 0.0666210577, 0.0368779786, 0.109988034, 0.0343707241, 0.00535103213, -0.0410583, 0.0138696134, -0.0957361609, 0.0101860976, 0.0111353528, -0.0277045928, 0.0329631306, -0.0797349736, 0.00227505737, 0.0211502574, 0.0400363654, -0.167098567, -0.00422432367, -0.0719748363, -0.0467247739, -0.0374332108, -0.0397311114, 0.0384181961, 0.00999586284, -0.08263, -0.0237000585, -0.0378860161, 0.0632322356, 0.012500165, -0.0537989326, -0.0619659349, 0.00337952236, -0.0566569, -0.0358215608, 0.0454524681, -0.0201124493, 0.00321624032, -0.0501949266, 0.00511938054, 0.0519294143, -0.0136480918, -0.0223795399, -0.0126602286, -0.0217616335, -0.00583979348, -0.0420518108, -0.00154516753, 0.00935121, 0.0179841612, 0.0309803598, 0.0220019314, 0.0293442532, -0.000263290451, 0.0101288417, -0.0776984915, 0.0833712667, 0.0679959655, 0.00229170523, -0.091295734, -0.0104972199, 0.00735000754, -0.0520936847, -0.0982947275, 0.0198274683, -0.0200959966, 0.077526778, -0.0608028024, -0.0789285526, -0.0734975114, -0.0819904581, -0.0491046272, 0.0129560381, -0.0628951341, -0.0225768983, -0.0558011644, 0.000155297515, -0.0575565584, 0.0768585354, 0.0300515816, 0.0381711684, 0.0838495567, 0.0247899331, 0.00691052806, 0.00719534373, -0.00736187072, -0.0104015581, 0.000193373722, 0.027049901, 0.0799919292, -0.0100127505, 0.017345082, -0.0756481513, 0.0203896202, 0.0380386375, -0.0574477687, 0.0861333907, 0.0335102677, 0.0411099643, 0.0666188598, 0.0119629875, 0.0845150203, 0.0192199051, -0.0132013895, 0.0584087223, 0.0126312617, -0.0694580376, 0.0230585691, -0.0240331, 0.0122760478, -0.0108257355, 0.0283402372, 0.0887826383, -0.0447880626, 0.00181423733, 0.0381940342, -0.12673603, 0.0515996628, -0.00865370408, 0.0471474193, -0.0435068347, 0.0992838442, -0.0217997562, -0.0240549818, -0.00594065338, -0.0690765902, 0.0371411592, 0.0399547517, 0.0430746339, 0.129235804, -0.018555861, 0.0684234798, -0.0191700775, -0.0595370792, -0.0835800096, -0.0777308419, 0.105424687, 0.0348716676, 0.0646591187, 0.00170061877, -0.0329982191, -0.0502891503, 0.0407840647, 0.0519812, 0.0160018969, -0.10448353, 0.0689545423, -0.0506901518, 0.104796909, 0.0835082754, -0.0212822892, 0.0276845079, -0.00111681456, -0.0764946118, -0.0290471502, 0.122434877, 0.0244316477, 0.0310827401, -0.00549218711, -0.0531884469, -0.00167966611, -0.00925914105, 0.02830863, -0.00621483242, 0.121731602, 0.0211685766, -0.0568683557, 0.0115053728, -0.0366057381, 0.0255389065, 0.0049948683, 0.055809509, 0.111536369, -0.0372320116, -0.0675241649, -0.052335307, 0.00607201, -0.000575913931, -0.0318878517, -0.0574841127, 0.0332549, -0.0141042955, 0.018482646, -0.0616011024, 0.0145883253, 0.0426562391, -0.0590614304, 0.029405944, -0.00234979973, 0.128502563, -0.0236829314, -0.10369131, -0.0825915784, 0.00457420433, 0.0911963135, 0.0664421096, -0.00470774714, -0.0169103, 0.0595135912, -0.00935810059, 0.0192455091, 1.40057109e-05, -0.0319393054, -0.0986756608, -0.00121771661, 0.0548371971, 0.0888470411, 0.0427898057, 0.00902442541, -0.0683958232, 0.0260259844, 0.0793727189, -0.00411826791, 0.0957382396, -0.0348651074, -0.0752158239, 0.0701758042, 0.00946104061, 0.0375162363, 0.0430648364, 0.0416120887, -0.0381631143, 0.0233837292, -0.0496933423, -0.00564162666, -0.0378861427, 0.0361948349, -0.0151159121, -0.0375991873, -0.0471229851, 0.0413750224], metadata={'PRODUCT_NAME': 'Tai nghe Bluetooth thể thao SoundPEATS Wings2', 'PRICE_REMAINING': 590000, 'PRODUCT_IMAGE': 'https://cdn2.cellphones.com.vn/insecure/rs:fill:358:358/q:90/plain/https://cellphones.com.vn/media/catalog/product/t/a/tai-nghe-khong-day-soundpeats-wings2-0.png', 'PRODUCT_LINK': 'https://cellphones.com.vn/tai-nghe-khong-day-soundpeats-wings2.html', 'Review': \"{'positive': ['Tôi rất hài lòng với chất lượng sản phẩm và dịch vụ của công ty. Chắc chắn sẽ mua lại ở đây!', 'Sản phẩm này đáng giá mọi xu mà tôi bỏ ra! Âm thanh chi tiết, độ trầm ấn tượng và khả năng cách âm tốt.', 'Tai nghe này thực sự đỉnh cao của công nghệ! Thiết kế hiện đại, kết nối Bluetooth ổn định và chất lượng âm thanh tuyệt vời.', 'Dịch vụ giao hàng nhanh chóng và chính xác. Tôi rất ấn tượng với cách họ xử lý đơn hàng của tôi.', 'Dịch vụ giao hàng nhanh chóng và sản phẩm được đóng gói cẩn thận. Tôi hoàn toàn hài lòng với trải nghiệm mua hàng này.'], 'negative': ['Tai nghe này không thoải mái khi đeo, gây đau tai sau một thời gian sử dụng.', 'Dịch vụ của công ty này quá kém, không chuyên nghiệp chút nào.', 'Sản phẩm như đồ giả, không giống như mô tả trên trang web. Rất thất vọng với chất lượng này.', 'Dịch vụ khách hàng quá tệ, họ không giải quyết được vấn đề của tôi sau nhiều lần liên hệ.'], 'neutral': ['Dịch vụ của cửa hàng này không tạo ra ấn tượng mạnh mẽ, nhưng cũng không có vấn đề nào lớn.', 'Dịch vụ này chưa đến mức xuất sắc nhưng cũng không tệ, đáp ứng được nhu cầu cơ bản của tôi.', 'Chất lượng dịch vụ của cửa hàng này khá trung bình, không quá ấn tượng nhưng cũng không gây phàn nàn.']}\"}, excluded_embed_metadata_keys=[], excluded_llm_metadata_keys=[], relationships={<NodeRelationship.SOURCE: '1'>: RelatedNodeInfo(node_id='d9a001f9-279c-45cf-9047-ad91bb9311b1', node_type=<ObjectType.DOCUMENT: '4'>, metadata={'PRODUCT_NAME': 'Tai nghe Bluetooth thể thao SoundPEATS Wings2', 'PRICE_REMAINING': 590000, 'PRODUCT_IMAGE': 'https://cdn2.cellphones.com.vn/insecure/rs:fill:358:358/q:90/plain/https://cellphones.com.vn/media/catalog/product/t/a/tai-nghe-khong-day-soundpeats-wings2-0.png', 'PRODUCT_LINK': 'https://cellphones.com.vn/tai-nghe-khong-day-soundpeats-wings2.html', 'Review': \"{'positive': ['Tôi rất hài lòng với chất lượng sản phẩm và dịch vụ của công ty. Chắc chắn sẽ mua lại ở đây!', 'Sản phẩm này đáng giá mọi xu mà tôi bỏ ra! Âm thanh chi tiết, độ trầm ấn tượng và khả năng cách âm tốt.', 'Tai nghe này thực sự đỉnh cao của công nghệ! Thiết kế hiện đại, kết nối Bluetooth ổn định và chất lượng âm thanh tuyệt vời.', 'Dịch vụ giao hàng nhanh chóng và chính xác. Tôi rất ấn tượng với cách họ xử lý đơn hàng của tôi.', 'Dịch vụ giao hàng nhanh chóng và sản phẩm được đóng gói cẩn thận. Tôi hoàn toàn hài lòng với trải nghiệm mua hàng này.'], 'negative': ['Tai nghe này không thoải mái khi đeo, gây đau tai sau một thời gian sử dụng.', 'Dịch vụ của công ty này quá kém, không chuyên nghiệp chút nào.', 'Sản phẩm như đồ giả, không giống như mô tả trên trang web. Rất thất vọng với chất lượng này.', 'Dịch vụ khách hàng quá tệ, họ không giải quyết được vấn đề của tôi sau nhiều lần liên hệ.'], 'neutral': ['Dịch vụ của cửa hàng này không tạo ra ấn tượng mạnh mẽ, nhưng cũng không có vấn đề nào lớn.', 'Dịch vụ này chưa đến mức xuất sắc nhưng cũng không tệ, đáp ứng được nhu cầu cơ bản của tôi.', 'Chất lượng dịch vụ của cửa hàng này khá trung bình, không quá ấn tượng nhưng cũng không gây phàn nàn.']}\"}, hash='d238b2bec465cbd822ab38ca920cc8ccee71603adfce5cbe3ab60d1f35f2e5e0'), <NodeRelationship.PREVIOUS: '2'>: RelatedNodeInfo(node_id='e8919ff3-8f83-437c-a245-97bf530ac81d', node_type=<ObjectType.TEXT: '1'>, metadata={'PRODUCT_NAME': 'Tai nghe Bluetooth thể thao SoundPEATS Wings2', 'PRICE_REMAINING': 590000, 'PRODUCT_IMAGE': 'https://cdn2.cellphones.com.vn/insecure/rs:fill:358:358/q:90/plain/https://cellphones.com.vn/media/catalog/product/t/a/tai-nghe-khong-day-soundpeats-wings2-0.png', 'PRODUCT_LINK': 'https://cellphones.com.vn/tai-nghe-khong-day-soundpeats-wings2.html', 'Review': \"{'positive': ['Tôi rất hài lòng với chất lượng sản phẩm và dịch vụ của công ty. Chắc chắn sẽ mua lại ở đây!', 'Sản phẩm này đáng giá mọi xu mà tôi bỏ ra! Âm thanh chi tiết, độ trầm ấn tượng và khả năng cách âm tốt.', 'Tai nghe này thực sự đỉnh cao của công nghệ! Thiết kế hiện đại, kết nối Bluetooth ổn định và chất lượng âm thanh tuyệt vời.', 'Dịch vụ giao hàng nhanh chóng và chính xác. Tôi rất ấn tượng với cách họ xử lý đơn hàng của tôi.', 'Dịch vụ giao hàng nhanh chóng và sản phẩm được đóng gói cẩn thận. Tôi hoàn toàn hài lòng với trải nghiệm mua hàng này.'], 'negative': ['Tai nghe này không thoải mái khi đeo, gây đau tai sau một thời gian sử dụng.', 'Dịch vụ của công ty này quá kém, không chuyên nghiệp chút nào.', 'Sản phẩm như đồ giả, không giống như mô tả trên trang web. Rất thất vọng với chất lượng này.', 'Dịch vụ khách hàng quá tệ, họ không giải quyết được vấn đề của tôi sau nhiều lần liên hệ.'], 'neutral': ['Dịch vụ của cửa hàng này không tạo ra ấn tượng mạnh mẽ, nhưng cũng không có vấn đề nào lớn.', 'Dịch vụ này chưa đến mức xuất sắc nhưng cũng không tệ, đáp ứng được nhu cầu cơ bản của tôi.', 'Chất lượng dịch vụ của cửa hàng này khá trung bình, không quá ấn tượng nhưng cũng không gây phàn nàn.']}\"}, hash='41e155bee105f3adcf35fa2500ca2822130e52bee646d2d96b9eaf127161c85e'), <NodeRelationship.NEXT: '3'>: RelatedNodeInfo(node_id='4a1d46f4-bb4f-4592-a26d-c8dd55438186', node_type=<ObjectType.TEXT: '1'>, metadata={}, hash='47f51072c8fe74cb9cee82401ee6bd8910622dd51d547f462401018d06036736')}, text='Với tính năng thông minh vượt trội, chất lượng âm thanh tuyệt vời, đây sẽ là mẫu tai nghe Soundpeats đáp ứng nhu cầu của bạn trong hoạt động thể thao và giải trí hàng ngày. Thiết kế năng động, móc tai chắc chắn Tai nghe SoundPEATS Wings2 được thiết kế đặc biệt cho hoạt động thể thao, với khả năng đảm bảo độ ổn định cao. Tai nghe với thiết kế mọc tai nhờ đó hạn chế đố đa tình trạng rơi tai nghe trong quá trình tập luyện thể thao. Bên cạnh đó thì kết nối không dây Bluetooth 5.3, tai nghe đảm bảo kết nối liên tục và ổn định với thiết bị của bạn.  Xem thêm', start_char_idx=494, end_char_idx=1052, text_template='{metadata_str}\\n\\n{content}', metadata_template='{key}: {value}', metadata_seperator='\\n'), score=0.306747526),\n",
              " NodeWithScore(node=TextNode(id_='7686ed87-b62a-42e0-8107-a5212d86bf47', embedding=[-0.0501064323, 0.0430001579, -0.0141551197, -0.00885209534, -0.013348992, -0.0212369729, 0.0374279544, -0.0262386557, -0.0368252397, 0.00972809, 0.112348773, -0.0372141339, 0.00464440044, 0.00159458339, 0.0798158, 0.0607191846, 0.0214947592, 0.0272118784, -0.0292063691, 0.0181458276, -0.0448006727, -0.0408203341, 0.023965627, 0.0186102781, -0.00715149427, -0.0119715668, 0.00769862253, 0.0186593495, -0.0388119183, -0.000525554875, 0.0369712375, 0.0369970202, -0.0103057176, -0.0117004346, -0.0542574227, -0.0166863594, 0.00628411397, -0.0612638071, -0.0808964074, -0.092208378, -0.0301326662, 0.0839849636, -0.074377574, 0.025929343, -0.0106929485, -0.00418164628, -0.0812104195, -0.015358462, -0.0132041136, -0.0260164086, 0.00260151853, 0.079348, -0.0739040375, 0.000651585346, -0.0190948695, -0.0800648853, 0.0304065, 0.116163611, 0.00472297287, 0.101744056, 0.0531483628, -0.0743178576, -0.0554506108, -0.0150312958, -0.0474321954, 0.0645753741, -0.00879460294, -0.0870154947, -0.00282037538, -0.0282008778, 0.0434274673, -0.0683788583, -0.0349577591, 0.0182777364, 0.00637063291, 0.0546481237, -0.00252593961, 0.0310231075, -0.0601755753, 0.0556266494, 0.00837608334, -0.0659378171, -0.0361068137, 0.0335426629, 0.0520068, 0.0670252517, -0.028810855, -0.0120769637, -0.0783786848, -0.0465935431, -0.139986277, -0.00445086136, -0.0489470363, -0.0248651821, 0.0885821059, 0.0847129673, 0.0281663239, 0.05595598, 0.0306773093, 0.0549123, 0.00466426509, -0.0513214208, -0.051548209, -0.048251465, -0.0270955041, 0.012828744, 0.028547002, 0.0228298102, -0.00657163374, 0.000898861967, -0.0405533686, -0.0418840088, -0.0665126741, 0.00965851732, 0.00450879103, 0.0374213457, -0.103945225, -0.0208193362, 0.0346216522, 0.0536953025, -0.00458526099, 0.0048035644, 0.0385537, -0.0469133221, 0.0493468083, -0.097556822, 0.0249736849, 0.0444614515, -0.0421415977, 0.0177362058, 0.027835479, 0.0175626315, 0.0600509979, 0.0159264188, -0.0388953798, -0.0195505805, -0.0358199328, 0.0910034, -0.0828703195, 0.0355426297, -0.0843355507, 0.0666993931, 0.0629542843, -0.0107714264, -0.0269840416, -0.00498263631, 0.0179805402, 0.0155501701, -0.0103595247, -0.0351580344, 0.00896379631, -0.0376885869, 0.122257799, 0.0143736294, 0.0357802361, 0.0805361792, 0.115114801, 0.0241076052, 0.000792215404, -0.05355791, 0.0272158924, -0.0960299373, 0.0312585, 0.00950829685, -0.0463704467, 0.0777078643, -0.0741100237, -0.0260366835, 0.0133671341, 0.0110133057, -0.193430558, -0.0311544947, -0.0585813075, -0.0251537524, -0.0427922383, -0.0429244861, 0.0482691, 0.0123207616, -0.0878863, -0.0615395196, -0.0680981949, 0.0572688915, 0.0190551933, -0.0937375873, -0.055357907, 0.0299375895, -0.0368181914, -0.0325373374, 0.0626004562, -0.0142606441, -0.00491935061, -0.044345092, 0.00311488356, 0.0348496065, -0.0124196922, -0.0237792227, -0.0144192576, -0.0316143297, 0.0113055203, -0.0222297758, 0.00121704524, 0.0299134273, 0.0438175686, 0.0275732912, 0.00845594238, 0.064694792, 0.00213518343, -0.000498009729, -0.076311253, 0.0395502225, 0.0293381605, 0.0199654326, -0.0566169061, -0.0138675394, -0.0407250226, -0.0476608239, -0.132335126, 0.055414129, 0.0164525844, 0.11015413, -0.0655492246, -0.0711996853, -0.081905432, -0.0711508915, -0.0411862507, 0.0492004454, -0.0208575148, 0.00412803143, -0.0461437218, -0.0285969246, -0.0248916317, 0.06576363, 0.0250491779, 0.0442856513, 0.0916237682, 0.0107816868, 0.0227102432, 0.0396193936, 0.00119099906, -0.0457897671, 0.0267104879, 0.033265885, 0.0908685923, -0.00403757673, -0.00514956191, -0.0897563845, -0.00985663384, -0.017973857, -0.0469525233, 0.0706907287, -0.00673995493, 0.0390697569, 0.0530125573, 0.0287674982, 0.0796717778, 0.0143588409, -0.00355296023, 0.00800612196, 0.0430271029, -0.0777056962, 0.00562182674, 0.0156601332, 0.0383115225, -0.0363380089, 0.0417289, 0.0765742138, -0.0258780923, -0.0168239716, 0.0403540358, -0.119353779, 0.0192257892, -0.0347786248, -0.0108256796, -0.0614288226, 0.110215724, -0.0198155101, 0.013632603, -0.00940640643, -0.0587812178, 0.0645822287, -0.00379057508, 0.0563197881, 0.105767466, -0.0297949966, 0.116310187, -0.0327354409, -0.0354993977, -0.0569741, -0.046129141, 0.0921486169, -0.00306175626, 0.0513057373, 0.0253734048, -0.0167408064, -0.0575268753, 0.0294754226, 0.0318431482, 0.0349831, -0.119909309, 4.28090898e-05, -0.0830257237, 0.0802154094, 0.0255854484, 0.0241747908, 0.0315981731, 0.0205619559, -0.0668288469, -0.0531933717, 0.137628362, 0.0340300351, 0.0333678871, 0.0217803568, -0.0185222365, 0.020063648, 0.00429953, 0.0620137192, -0.0349241495, 0.0992087, -0.0470797084, -0.0454339273, 0.00422525126, -0.0425073132, 0.0336678736, -0.0429580621, 0.0897026807, 0.0635386631, -0.00773932319, -0.0726101846, -0.0382478125, 0.0153847318, 0.0230324436, -0.000935366668, -0.0779850855, 0.039389167, -0.0303282533, 0.0251339171, -0.0334264934, 0.0175355207, 0.0540057905, -0.0406441726, 0.0271438118, 0.0175173916, 0.0626476482, 0.0230358727, -0.0453156307, -0.0945581272, 0.06091436, 0.122283764, 0.0463205054, -0.0107203834, -0.0246453807, 0.0562035702, -0.00563610671, 0.0314676315, -0.0449834764, -0.00985710882, -0.0815818235, 0.00324756512, 0.0355682075, 0.0733995661, 0.0385593, 0.00573859597, -0.0699903369, 0.0294486135, 0.0688857585, -0.0441719107, 0.12078359, -0.0112819094, -0.0701168627, 0.09251789, 0.00201106025, 0.0290870275, -0.00477911392, 0.019997634, -0.015234042, -0.0232842732, -0.0417919829, 0.0189272929, -0.068014428, 0.0567319244, -0.0416281037, -0.0184726622, -0.00283121201, 0.0546732917], metadata={'PRODUCT_NAME': 'Tai nghe Bluetooth True Wireless SoundPEATS Clear', 'PRICE_REMAINING': 530000, 'PRODUCT_IMAGE': 'https://cdn2.cellphones.com.vn/insecure/rs:fill:358:358/q:90/plain/https://cellphones.com.vn/media/catalog/product/t/a/tai-nghe-khong-day-soundpeats-clear_1_.png', 'PRODUCT_LINK': 'https://cellphones.com.vn/tai-nghe-khong-day-soundpeats-clear.html', 'Review': \"{'positive': ['Dịch vụ khách hàng tuyệt vời! Nhân viên thân thiện và nhiệt tình, đã giúp tôi giải quyết vấn đề ngay lập tức.', 'Tôi đã dùng nhiều loại tai nghe trước đây nhưng không có cái nào có thể so sánh được với sản phẩm này. Đây là một lựa chọn hoàn hảo cho mọi người yêu thích âm nhạc.', 'Chất lượng âm thanh của sản phẩm này vượt xa mong đợi của tôi. Tôi rất hài lòng với trải nghiệm nghe nhạc của mình.'], 'negative': ['Chất lượng dịch vụ kém, nhân viên không thân thiện và không chuyên nghiệp.', 'Sản phẩm đến tay tôi đã bị hỏng, đóng gói kém chất lượng.', 'Dịch vụ sau bán hàng kém chất lượng. Không có hỗ trợ khi gặp sự cố với sản phẩm.', 'Tôi rất thất vọng với sản phẩm này, không giống như quảng cáo cho thấy.', 'Sản phẩm này thực sự tệ, chất lượng không đáng giá số tiền mình đã chi trả'], 'neutral': ['Dịch vụ của họ ổn định, không có gì nổi bật nhưng cũng không có vấn đề gì đáng lo ngại.', 'Sản phẩm này khá bình thường, không có gì đặc biệt nhưng cũng không có gì đáng phàn nàn.', 'Sản phẩm này đủ tốt để sử dụng, không gây ra bất kỳ vấn đề nào đáng kể, nhưng cũng không có ấn tượng sâu sắc.']}\"}, excluded_embed_metadata_keys=[], excluded_llm_metadata_keys=[], relationships={<NodeRelationship.SOURCE: '1'>: RelatedNodeInfo(node_id='175c1f14-8a24-47b2-beb5-07a7c54ff16d', node_type=<ObjectType.DOCUMENT: '4'>, metadata={'PRODUCT_NAME': 'Tai nghe Bluetooth True Wireless SoundPEATS Clear', 'PRICE_REMAINING': 530000, 'PRODUCT_IMAGE': 'https://cdn2.cellphones.com.vn/insecure/rs:fill:358:358/q:90/plain/https://cellphones.com.vn/media/catalog/product/t/a/tai-nghe-khong-day-soundpeats-clear_1_.png', 'PRODUCT_LINK': 'https://cellphones.com.vn/tai-nghe-khong-day-soundpeats-clear.html', 'Review': \"{'positive': ['Dịch vụ khách hàng tuyệt vời! Nhân viên thân thiện và nhiệt tình, đã giúp tôi giải quyết vấn đề ngay lập tức.', 'Tôi đã dùng nhiều loại tai nghe trước đây nhưng không có cái nào có thể so sánh được với sản phẩm này. Đây là một lựa chọn hoàn hảo cho mọi người yêu thích âm nhạc.', 'Chất lượng âm thanh của sản phẩm này vượt xa mong đợi của tôi. Tôi rất hài lòng với trải nghiệm nghe nhạc của mình.'], 'negative': ['Chất lượng dịch vụ kém, nhân viên không thân thiện và không chuyên nghiệp.', 'Sản phẩm đến tay tôi đã bị hỏng, đóng gói kém chất lượng.', 'Dịch vụ sau bán hàng kém chất lượng. Không có hỗ trợ khi gặp sự cố với sản phẩm.', 'Tôi rất thất vọng với sản phẩm này, không giống như quảng cáo cho thấy.', 'Sản phẩm này thực sự tệ, chất lượng không đáng giá số tiền mình đã chi trả'], 'neutral': ['Dịch vụ của họ ổn định, không có gì nổi bật nhưng cũng không có vấn đề gì đáng lo ngại.', 'Sản phẩm này khá bình thường, không có gì đặc biệt nhưng cũng không có gì đáng phàn nàn.', 'Sản phẩm này đủ tốt để sử dụng, không gây ra bất kỳ vấn đề nào đáng kể, nhưng cũng không có ấn tượng sâu sắc.']}\"}, hash='c8c2a5c3ffd4fc61e78d6acb699198724dc814e96e08f9dd26364700fe739dff'), <NodeRelationship.PREVIOUS: '2'>: RelatedNodeInfo(node_id='c534667d-2742-4bd0-bb26-6c0c35444768', node_type=<ObjectType.TEXT: '1'>, metadata={'PRODUCT_NAME': 'Tai nghe Bluetooth True Wireless SoundPEATS Clear', 'PRICE_REMAINING': 530000, 'PRODUCT_IMAGE': 'https://cdn2.cellphones.com.vn/insecure/rs:fill:358:358/q:90/plain/https://cellphones.com.vn/media/catalog/product/t/a/tai-nghe-khong-day-soundpeats-clear_1_.png', 'PRODUCT_LINK': 'https://cellphones.com.vn/tai-nghe-khong-day-soundpeats-clear.html', 'Review': \"{'positive': ['Dịch vụ khách hàng tuyệt vời! Nhân viên thân thiện và nhiệt tình, đã giúp tôi giải quyết vấn đề ngay lập tức.', 'Tôi đã dùng nhiều loại tai nghe trước đây nhưng không có cái nào có thể so sánh được với sản phẩm này. Đây là một lựa chọn hoàn hảo cho mọi người yêu thích âm nhạc.', 'Chất lượng âm thanh của sản phẩm này vượt xa mong đợi của tôi. Tôi rất hài lòng với trải nghiệm nghe nhạc của mình.'], 'negative': ['Chất lượng dịch vụ kém, nhân viên không thân thiện và không chuyên nghiệp.', 'Sản phẩm đến tay tôi đã bị hỏng, đóng gói kém chất lượng.', 'Dịch vụ sau bán hàng kém chất lượng. Không có hỗ trợ khi gặp sự cố với sản phẩm.', 'Tôi rất thất vọng với sản phẩm này, không giống như quảng cáo cho thấy.', 'Sản phẩm này thực sự tệ, chất lượng không đáng giá số tiền mình đã chi trả'], 'neutral': ['Dịch vụ của họ ổn định, không có gì nổi bật nhưng cũng không có vấn đề gì đáng lo ngại.', 'Sản phẩm này khá bình thường, không có gì đặc biệt nhưng cũng không có gì đáng phàn nàn.', 'Sản phẩm này đủ tốt để sử dụng, không gây ra bất kỳ vấn đề nào đáng kể, nhưng cũng không có ấn tượng sâu sắc.']}\"}, hash='a1e71b85892348e08ae6aabac175590a4c824b9c3054428fbf2b5cbd947e6d53'), <NodeRelationship.NEXT: '3'>: RelatedNodeInfo(node_id='3574708a-2bad-4978-bba9-c1ea152e021b', node_type=<ObjectType.TEXT: '1'>, metadata={}, hash='382e3770ff904ea7765372b668f2e18d9bfaead74bbdf07a6bd708332f5893ea')}, text='Với thiết kế siêu ấn tượng, sản phẩm phản ánh phong cách hiện đại và thời thượng, đặc biệt hấp dẫn với các bạn trẻ đam mê xu hướng. Âm trầm dày dặn, chuẩn Bluetooth thế hệ mới Tai nghe Soundpeats Clear mang đến hiệu suất âm thanh xuất sắc với driver Dynamic màng sinh học 12mm. Màng loa dày dặn giúp tái tạo chất âm trầm mạnh mẽ, âm thanh vững vàng, và dải cao tinh tế. Sự kết hợp này tạo ra trải nghiệm nghe nhạc trọn vẹn, từ những giai điệu nhẹ nhàng đến những bản nhạc đầy năng lượng. Xem thêm', start_char_idx=831, end_char_idx=1327, text_template='{metadata_str}\\n\\n{content}', metadata_template='{key}: {value}', metadata_seperator='\\n'), score=0.28674835),\n",
              " NodeWithScore(node=TextNode(id_='c534667d-2742-4bd0-bb26-6c0c35444768', embedding=[-0.0501064323, 0.0430001579, -0.0141551197, -0.00885209534, -0.013348992, -0.0212369729, 0.0374279544, -0.0262386557, -0.0368252397, 0.00972809, 0.112348773, -0.0372141339, 0.00464440044, 0.00159458339, 0.0798158, 0.0607191846, 0.0214947592, 0.0272118784, -0.0292063691, 0.0181458276, -0.0448006727, -0.0408203341, 0.023965627, 0.0186102781, -0.00715149427, -0.0119715668, 0.00769862253, 0.0186593495, -0.0388119183, -0.000525554875, 0.0369712375, 0.0369970202, -0.0103057176, -0.0117004346, -0.0542574227, -0.0166863594, 0.00628411397, -0.0612638071, -0.0808964074, -0.092208378, -0.0301326662, 0.0839849636, -0.074377574, 0.025929343, -0.0106929485, -0.00418164628, -0.0812104195, -0.015358462, -0.0132041136, -0.0260164086, 0.00260151853, 0.079348, -0.0739040375, 0.000651585346, -0.0190948695, -0.0800648853, 0.0304065, 0.116163611, 0.00472297287, 0.101744056, 0.0531483628, -0.0743178576, -0.0554506108, -0.0150312958, -0.0474321954, 0.0645753741, -0.00879460294, -0.0870154947, -0.00282037538, -0.0282008778, 0.0434274673, -0.0683788583, -0.0349577591, 0.0182777364, 0.00637063291, 0.0546481237, -0.00252593961, 0.0310231075, -0.0601755753, 0.0556266494, 0.00837608334, -0.0659378171, -0.0361068137, 0.0335426629, 0.0520068, 0.0670252517, -0.028810855, -0.0120769637, -0.0783786848, -0.0465935431, -0.139986277, -0.00445086136, -0.0489470363, -0.0248651821, 0.0885821059, 0.0847129673, 0.0281663239, 0.05595598, 0.0306773093, 0.0549123, 0.00466426509, -0.0513214208, -0.051548209, -0.048251465, -0.0270955041, 0.012828744, 0.028547002, 0.0228298102, -0.00657163374, 0.000898861967, -0.0405533686, -0.0418840088, -0.0665126741, 0.00965851732, 0.00450879103, 0.0374213457, -0.103945225, -0.0208193362, 0.0346216522, 0.0536953025, -0.00458526099, 0.0048035644, 0.0385537, -0.0469133221, 0.0493468083, -0.097556822, 0.0249736849, 0.0444614515, -0.0421415977, 0.0177362058, 0.027835479, 0.0175626315, 0.0600509979, 0.0159264188, -0.0388953798, -0.0195505805, -0.0358199328, 0.0910034, -0.0828703195, 0.0355426297, -0.0843355507, 0.0666993931, 0.0629542843, -0.0107714264, -0.0269840416, -0.00498263631, 0.0179805402, 0.0155501701, -0.0103595247, -0.0351580344, 0.00896379631, -0.0376885869, 0.122257799, 0.0143736294, 0.0357802361, 0.0805361792, 0.115114801, 0.0241076052, 0.000792215404, -0.05355791, 0.0272158924, -0.0960299373, 0.0312585, 0.00950829685, -0.0463704467, 0.0777078643, -0.0741100237, -0.0260366835, 0.0133671341, 0.0110133057, -0.193430558, -0.0311544947, -0.0585813075, -0.0251537524, -0.0427922383, -0.0429244861, 0.0482691, 0.0123207616, -0.0878863, -0.0615395196, -0.0680981949, 0.0572688915, 0.0190551933, -0.0937375873, -0.055357907, 0.0299375895, -0.0368181914, -0.0325373374, 0.0626004562, -0.0142606441, -0.00491935061, -0.044345092, 0.00311488356, 0.0348496065, -0.0124196922, -0.0237792227, -0.0144192576, -0.0316143297, 0.0113055203, -0.0222297758, 0.00121704524, 0.0299134273, 0.0438175686, 0.0275732912, 0.00845594238, 0.064694792, 0.00213518343, -0.000498009729, -0.076311253, 0.0395502225, 0.0293381605, 0.0199654326, -0.0566169061, -0.0138675394, -0.0407250226, -0.0476608239, -0.132335126, 0.055414129, 0.0164525844, 0.11015413, -0.0655492246, -0.0711996853, -0.081905432, -0.0711508915, -0.0411862507, 0.0492004454, -0.0208575148, 0.00412803143, -0.0461437218, -0.0285969246, -0.0248916317, 0.06576363, 0.0250491779, 0.0442856513, 0.0916237682, 0.0107816868, 0.0227102432, 0.0396193936, 0.00119099906, -0.0457897671, 0.0267104879, 0.033265885, 0.0908685923, -0.00403757673, -0.00514956191, -0.0897563845, -0.00985663384, -0.017973857, -0.0469525233, 0.0706907287, -0.00673995493, 0.0390697569, 0.0530125573, 0.0287674982, 0.0796717778, 0.0143588409, -0.00355296023, 0.00800612196, 0.0430271029, -0.0777056962, 0.00562182674, 0.0156601332, 0.0383115225, -0.0363380089, 0.0417289, 0.0765742138, -0.0258780923, -0.0168239716, 0.0403540358, -0.119353779, 0.0192257892, -0.0347786248, -0.0108256796, -0.0614288226, 0.110215724, -0.0198155101, 0.013632603, -0.00940640643, -0.0587812178, 0.0645822287, -0.00379057508, 0.0563197881, 0.105767466, -0.0297949966, 0.116310187, -0.0327354409, -0.0354993977, -0.0569741, -0.046129141, 0.0921486169, -0.00306175626, 0.0513057373, 0.0253734048, -0.0167408064, -0.0575268753, 0.0294754226, 0.0318431482, 0.0349831, -0.119909309, 4.28090898e-05, -0.0830257237, 0.0802154094, 0.0255854484, 0.0241747908, 0.0315981731, 0.0205619559, -0.0668288469, -0.0531933717, 0.137628362, 0.0340300351, 0.0333678871, 0.0217803568, -0.0185222365, 0.020063648, 0.00429953, 0.0620137192, -0.0349241495, 0.0992087, -0.0470797084, -0.0454339273, 0.00422525126, -0.0425073132, 0.0336678736, -0.0429580621, 0.0897026807, 0.0635386631, -0.00773932319, -0.0726101846, -0.0382478125, 0.0153847318, 0.0230324436, -0.000935366668, -0.0779850855, 0.039389167, -0.0303282533, 0.0251339171, -0.0334264934, 0.0175355207, 0.0540057905, -0.0406441726, 0.0271438118, 0.0175173916, 0.0626476482, 0.0230358727, -0.0453156307, -0.0945581272, 0.06091436, 0.122283764, 0.0463205054, -0.0107203834, -0.0246453807, 0.0562035702, -0.00563610671, 0.0314676315, -0.0449834764, -0.00985710882, -0.0815818235, 0.00324756512, 0.0355682075, 0.0733995661, 0.0385593, 0.00573859597, -0.0699903369, 0.0294486135, 0.0688857585, -0.0441719107, 0.12078359, -0.0112819094, -0.0701168627, 0.09251789, 0.00201106025, 0.0290870275, -0.00477911392, 0.019997634, -0.015234042, -0.0232842732, -0.0417919829, 0.0189272929, -0.068014428, 0.0567319244, -0.0416281037, -0.0184726622, -0.00283121201, 0.0546732917], metadata={'PRODUCT_NAME': 'Tai nghe Bluetooth True Wireless SoundPEATS Clear', 'PRICE_REMAINING': 530000, 'PRODUCT_IMAGE': 'https://cdn2.cellphones.com.vn/insecure/rs:fill:358:358/q:90/plain/https://cellphones.com.vn/media/catalog/product/t/a/tai-nghe-khong-day-soundpeats-clear_1_.png', 'PRODUCT_LINK': 'https://cellphones.com.vn/tai-nghe-khong-day-soundpeats-clear.html', 'Review': \"{'positive': ['Dịch vụ khách hàng tuyệt vời! Nhân viên thân thiện và nhiệt tình, đã giúp tôi giải quyết vấn đề ngay lập tức.', 'Tôi đã dùng nhiều loại tai nghe trước đây nhưng không có cái nào có thể so sánh được với sản phẩm này. Đây là một lựa chọn hoàn hảo cho mọi người yêu thích âm nhạc.', 'Chất lượng âm thanh của sản phẩm này vượt xa mong đợi của tôi. Tôi rất hài lòng với trải nghiệm nghe nhạc của mình.'], 'negative': ['Chất lượng dịch vụ kém, nhân viên không thân thiện và không chuyên nghiệp.', 'Sản phẩm đến tay tôi đã bị hỏng, đóng gói kém chất lượng.', 'Dịch vụ sau bán hàng kém chất lượng. Không có hỗ trợ khi gặp sự cố với sản phẩm.', 'Tôi rất thất vọng với sản phẩm này, không giống như quảng cáo cho thấy.', 'Sản phẩm này thực sự tệ, chất lượng không đáng giá số tiền mình đã chi trả'], 'neutral': ['Dịch vụ của họ ổn định, không có gì nổi bật nhưng cũng không có vấn đề gì đáng lo ngại.', 'Sản phẩm này khá bình thường, không có gì đặc biệt nhưng cũng không có gì đáng phàn nàn.', 'Sản phẩm này đủ tốt để sử dụng, không gây ra bất kỳ vấn đề nào đáng kể, nhưng cũng không có ấn tượng sâu sắc.']}\"}, excluded_embed_metadata_keys=[], excluded_llm_metadata_keys=[], relationships={<NodeRelationship.SOURCE: '1'>: RelatedNodeInfo(node_id='175c1f14-8a24-47b2-beb5-07a7c54ff16d', node_type=<ObjectType.DOCUMENT: '4'>, metadata={'PRODUCT_NAME': 'Tai nghe Bluetooth True Wireless SoundPEATS Clear', 'PRICE_REMAINING': 530000, 'PRODUCT_IMAGE': 'https://cdn2.cellphones.com.vn/insecure/rs:fill:358:358/q:90/plain/https://cellphones.com.vn/media/catalog/product/t/a/tai-nghe-khong-day-soundpeats-clear_1_.png', 'PRODUCT_LINK': 'https://cellphones.com.vn/tai-nghe-khong-day-soundpeats-clear.html', 'Review': \"{'positive': ['Dịch vụ khách hàng tuyệt vời! Nhân viên thân thiện và nhiệt tình, đã giúp tôi giải quyết vấn đề ngay lập tức.', 'Tôi đã dùng nhiều loại tai nghe trước đây nhưng không có cái nào có thể so sánh được với sản phẩm này. Đây là một lựa chọn hoàn hảo cho mọi người yêu thích âm nhạc.', 'Chất lượng âm thanh của sản phẩm này vượt xa mong đợi của tôi. Tôi rất hài lòng với trải nghiệm nghe nhạc của mình.'], 'negative': ['Chất lượng dịch vụ kém, nhân viên không thân thiện và không chuyên nghiệp.', 'Sản phẩm đến tay tôi đã bị hỏng, đóng gói kém chất lượng.', 'Dịch vụ sau bán hàng kém chất lượng. Không có hỗ trợ khi gặp sự cố với sản phẩm.', 'Tôi rất thất vọng với sản phẩm này, không giống như quảng cáo cho thấy.', 'Sản phẩm này thực sự tệ, chất lượng không đáng giá số tiền mình đã chi trả'], 'neutral': ['Dịch vụ của họ ổn định, không có gì nổi bật nhưng cũng không có vấn đề gì đáng lo ngại.', 'Sản phẩm này khá bình thường, không có gì đặc biệt nhưng cũng không có gì đáng phàn nàn.', 'Sản phẩm này đủ tốt để sử dụng, không gây ra bất kỳ vấn đề nào đáng kể, nhưng cũng không có ấn tượng sâu sắc.']}\"}, hash='c8c2a5c3ffd4fc61e78d6acb699198724dc814e96e08f9dd26364700fe739dff'), <NodeRelationship.PREVIOUS: '2'>: RelatedNodeInfo(node_id='606f2b24-49dd-4a85-b72c-0e3130ea2ea2', node_type=<ObjectType.TEXT: '1'>, metadata={'PRODUCT_NAME': 'Tai nghe Bluetooth True Wireless SoundPEATS Clear', 'PRICE_REMAINING': 530000, 'PRODUCT_IMAGE': 'https://cdn2.cellphones.com.vn/insecure/rs:fill:358:358/q:90/plain/https://cellphones.com.vn/media/catalog/product/t/a/tai-nghe-khong-day-soundpeats-clear_1_.png', 'PRODUCT_LINK': 'https://cellphones.com.vn/tai-nghe-khong-day-soundpeats-clear.html', 'Review': \"{'positive': ['Dịch vụ khách hàng tuyệt vời! Nhân viên thân thiện và nhiệt tình, đã giúp tôi giải quyết vấn đề ngay lập tức.', 'Tôi đã dùng nhiều loại tai nghe trước đây nhưng không có cái nào có thể so sánh được với sản phẩm này. Đây là một lựa chọn hoàn hảo cho mọi người yêu thích âm nhạc.', 'Chất lượng âm thanh của sản phẩm này vượt xa mong đợi của tôi. Tôi rất hài lòng với trải nghiệm nghe nhạc của mình.'], 'negative': ['Chất lượng dịch vụ kém, nhân viên không thân thiện và không chuyên nghiệp.', 'Sản phẩm đến tay tôi đã bị hỏng, đóng gói kém chất lượng.', 'Dịch vụ sau bán hàng kém chất lượng. Không có hỗ trợ khi gặp sự cố với sản phẩm.', 'Tôi rất thất vọng với sản phẩm này, không giống như quảng cáo cho thấy.', 'Sản phẩm này thực sự tệ, chất lượng không đáng giá số tiền mình đã chi trả'], 'neutral': ['Dịch vụ của họ ổn định, không có gì nổi bật nhưng cũng không có vấn đề gì đáng lo ngại.', 'Sản phẩm này khá bình thường, không có gì đặc biệt nhưng cũng không có gì đáng phàn nàn.', 'Sản phẩm này đủ tốt để sử dụng, không gây ra bất kỳ vấn đề nào đáng kể, nhưng cũng không có ấn tượng sâu sắc.']}\"}, hash='cec9a623f6f40dc614fc4d9019210e44538151d5a0c9189f554860f28717b9a8'), <NodeRelationship.NEXT: '3'>: RelatedNodeInfo(node_id='7686ed87-b62a-42e0-8107-a5212d86bf47', node_type=<ObjectType.TEXT: '1'>, metadata={}, hash='5668f8e91711c9b78bc1aacf0c728b9baa35d5d2f3799df313981bf14d4882b3')}, text='Hỗ trợ mic kép chống ồn ENC giúp đảm bảo chất lượng đàm thoại rõ ràng, làm tăng trải nghiệm người dùng. Sản phẩm tai nghe Soundpeat trendy này có thời gian sử dụng lên đến 40 giờ với kết nối Bluetooth 5.3 ổn định, mượt mà.  Tai nghe Soundpeats Clear - Âm trầm mạnh mẽ, dải cao chính xác Soundpeats Clear ấn tượng không chỉ bởi thiết kế hiện đại mà còn với nhiều công nghệ tiên tiến tích hợp. Với thiết kế siêu ấn tượng, sản phẩm phản ánh phong cách hiện đại và thời thượng, đặc biệt hấp dẫn với các bạn trẻ đam mê xu hướng. Âm trầm dày dặn, chuẩn Bluetooth thế hệ mới Tai nghe Soundpeats Clear mang đến hiệu suất âm thanh xuất sắc với driver Dynamic màng sinh học 12mm. Màng loa dày dặn giúp tái tạo chất âm trầm mạnh mẽ, âm thanh vững vàng, và dải cao tinh tế.', start_char_idx=439, end_char_idx=1200, text_template='{metadata_str}\\n\\n{content}', metadata_template='{key}: {value}', metadata_seperator='\\n'), score=0.28674835),\n",
              " NodeWithScore(node=TextNode(id_='606f2b24-49dd-4a85-b72c-0e3130ea2ea2', embedding=[-0.0501064323, 0.0430001579, -0.0141551197, -0.00885209534, -0.013348992, -0.0212369729, 0.0374279544, -0.0262386557, -0.0368252397, 0.00972809, 0.112348773, -0.0372141339, 0.00464440044, 0.00159458339, 0.0798158, 0.0607191846, 0.0214947592, 0.0272118784, -0.0292063691, 0.0181458276, -0.0448006727, -0.0408203341, 0.023965627, 0.0186102781, -0.00715149427, -0.0119715668, 0.00769862253, 0.0186593495, -0.0388119183, -0.000525554875, 0.0369712375, 0.0369970202, -0.0103057176, -0.0117004346, -0.0542574227, -0.0166863594, 0.00628411397, -0.0612638071, -0.0808964074, -0.092208378, -0.0301326662, 0.0839849636, -0.074377574, 0.025929343, -0.0106929485, -0.00418164628, -0.0812104195, -0.015358462, -0.0132041136, -0.0260164086, 0.00260151853, 0.079348, -0.0739040375, 0.000651585346, -0.0190948695, -0.0800648853, 0.0304065, 0.116163611, 0.00472297287, 0.101744056, 0.0531483628, -0.0743178576, -0.0554506108, -0.0150312958, -0.0474321954, 0.0645753741, -0.00879460294, -0.0870154947, -0.00282037538, -0.0282008778, 0.0434274673, -0.0683788583, -0.0349577591, 0.0182777364, 0.00637063291, 0.0546481237, -0.00252593961, 0.0310231075, -0.0601755753, 0.0556266494, 0.00837608334, -0.0659378171, -0.0361068137, 0.0335426629, 0.0520068, 0.0670252517, -0.028810855, -0.0120769637, -0.0783786848, -0.0465935431, -0.139986277, -0.00445086136, -0.0489470363, -0.0248651821, 0.0885821059, 0.0847129673, 0.0281663239, 0.05595598, 0.0306773093, 0.0549123, 0.00466426509, -0.0513214208, -0.051548209, -0.048251465, -0.0270955041, 0.012828744, 0.028547002, 0.0228298102, -0.00657163374, 0.000898861967, -0.0405533686, -0.0418840088, -0.0665126741, 0.00965851732, 0.00450879103, 0.0374213457, -0.103945225, -0.0208193362, 0.0346216522, 0.0536953025, -0.00458526099, 0.0048035644, 0.0385537, -0.0469133221, 0.0493468083, -0.097556822, 0.0249736849, 0.0444614515, -0.0421415977, 0.0177362058, 0.027835479, 0.0175626315, 0.0600509979, 0.0159264188, -0.0388953798, -0.0195505805, -0.0358199328, 0.0910034, -0.0828703195, 0.0355426297, -0.0843355507, 0.0666993931, 0.0629542843, -0.0107714264, -0.0269840416, -0.00498263631, 0.0179805402, 0.0155501701, -0.0103595247, -0.0351580344, 0.00896379631, -0.0376885869, 0.122257799, 0.0143736294, 0.0357802361, 0.0805361792, 0.115114801, 0.0241076052, 0.000792215404, -0.05355791, 0.0272158924, -0.0960299373, 0.0312585, 0.00950829685, -0.0463704467, 0.0777078643, -0.0741100237, -0.0260366835, 0.0133671341, 0.0110133057, -0.193430558, -0.0311544947, -0.0585813075, -0.0251537524, -0.0427922383, -0.0429244861, 0.0482691, 0.0123207616, -0.0878863, -0.0615395196, -0.0680981949, 0.0572688915, 0.0190551933, -0.0937375873, -0.055357907, 0.0299375895, -0.0368181914, -0.0325373374, 0.0626004562, -0.0142606441, -0.00491935061, -0.044345092, 0.00311488356, 0.0348496065, -0.0124196922, -0.0237792227, -0.0144192576, -0.0316143297, 0.0113055203, -0.0222297758, 0.00121704524, 0.0299134273, 0.0438175686, 0.0275732912, 0.00845594238, 0.064694792, 0.00213518343, -0.000498009729, -0.076311253, 0.0395502225, 0.0293381605, 0.0199654326, -0.0566169061, -0.0138675394, -0.0407250226, -0.0476608239, -0.132335126, 0.055414129, 0.0164525844, 0.11015413, -0.0655492246, -0.0711996853, -0.081905432, -0.0711508915, -0.0411862507, 0.0492004454, -0.0208575148, 0.00412803143, -0.0461437218, -0.0285969246, -0.0248916317, 0.06576363, 0.0250491779, 0.0442856513, 0.0916237682, 0.0107816868, 0.0227102432, 0.0396193936, 0.00119099906, -0.0457897671, 0.0267104879, 0.033265885, 0.0908685923, -0.00403757673, -0.00514956191, -0.0897563845, -0.00985663384, -0.017973857, -0.0469525233, 0.0706907287, -0.00673995493, 0.0390697569, 0.0530125573, 0.0287674982, 0.0796717778, 0.0143588409, -0.00355296023, 0.00800612196, 0.0430271029, -0.0777056962, 0.00562182674, 0.0156601332, 0.0383115225, -0.0363380089, 0.0417289, 0.0765742138, -0.0258780923, -0.0168239716, 0.0403540358, -0.119353779, 0.0192257892, -0.0347786248, -0.0108256796, -0.0614288226, 0.110215724, -0.0198155101, 0.013632603, -0.00940640643, -0.0587812178, 0.0645822287, -0.00379057508, 0.0563197881, 0.105767466, -0.0297949966, 0.116310187, -0.0327354409, -0.0354993977, -0.0569741, -0.046129141, 0.0921486169, -0.00306175626, 0.0513057373, 0.0253734048, -0.0167408064, -0.0575268753, 0.0294754226, 0.0318431482, 0.0349831, -0.119909309, 4.28090898e-05, -0.0830257237, 0.0802154094, 0.0255854484, 0.0241747908, 0.0315981731, 0.0205619559, -0.0668288469, -0.0531933717, 0.137628362, 0.0340300351, 0.0333678871, 0.0217803568, -0.0185222365, 0.020063648, 0.00429953, 0.0620137192, -0.0349241495, 0.0992087, -0.0470797084, -0.0454339273, 0.00422525126, -0.0425073132, 0.0336678736, -0.0429580621, 0.0897026807, 0.0635386631, -0.00773932319, -0.0726101846, -0.0382478125, 0.0153847318, 0.0230324436, -0.000935366668, -0.0779850855, 0.039389167, -0.0303282533, 0.0251339171, -0.0334264934, 0.0175355207, 0.0540057905, -0.0406441726, 0.0271438118, 0.0175173916, 0.0626476482, 0.0230358727, -0.0453156307, -0.0945581272, 0.06091436, 0.122283764, 0.0463205054, -0.0107203834, -0.0246453807, 0.0562035702, -0.00563610671, 0.0314676315, -0.0449834764, -0.00985710882, -0.0815818235, 0.00324756512, 0.0355682075, 0.0733995661, 0.0385593, 0.00573859597, -0.0699903369, 0.0294486135, 0.0688857585, -0.0441719107, 0.12078359, -0.0112819094, -0.0701168627, 0.09251789, 0.00201106025, 0.0290870275, -0.00477911392, 0.019997634, -0.015234042, -0.0232842732, -0.0417919829, 0.0189272929, -0.068014428, 0.0567319244, -0.0416281037, -0.0184726622, -0.00283121201, 0.0546732917], metadata={'PRODUCT_NAME': 'Tai nghe Bluetooth True Wireless SoundPEATS Clear', 'PRICE_REMAINING': 530000, 'PRODUCT_IMAGE': 'https://cdn2.cellphones.com.vn/insecure/rs:fill:358:358/q:90/plain/https://cellphones.com.vn/media/catalog/product/t/a/tai-nghe-khong-day-soundpeats-clear_1_.png', 'PRODUCT_LINK': 'https://cellphones.com.vn/tai-nghe-khong-day-soundpeats-clear.html', 'Review': \"{'positive': ['Dịch vụ khách hàng tuyệt vời! Nhân viên thân thiện và nhiệt tình, đã giúp tôi giải quyết vấn đề ngay lập tức.', 'Tôi đã dùng nhiều loại tai nghe trước đây nhưng không có cái nào có thể so sánh được với sản phẩm này. Đây là một lựa chọn hoàn hảo cho mọi người yêu thích âm nhạc.', 'Chất lượng âm thanh của sản phẩm này vượt xa mong đợi của tôi. Tôi rất hài lòng với trải nghiệm nghe nhạc của mình.'], 'negative': ['Chất lượng dịch vụ kém, nhân viên không thân thiện và không chuyên nghiệp.', 'Sản phẩm đến tay tôi đã bị hỏng, đóng gói kém chất lượng.', 'Dịch vụ sau bán hàng kém chất lượng. Không có hỗ trợ khi gặp sự cố với sản phẩm.', 'Tôi rất thất vọng với sản phẩm này, không giống như quảng cáo cho thấy.', 'Sản phẩm này thực sự tệ, chất lượng không đáng giá số tiền mình đã chi trả'], 'neutral': ['Dịch vụ của họ ổn định, không có gì nổi bật nhưng cũng không có vấn đề gì đáng lo ngại.', 'Sản phẩm này khá bình thường, không có gì đặc biệt nhưng cũng không có gì đáng phàn nàn.', 'Sản phẩm này đủ tốt để sử dụng, không gây ra bất kỳ vấn đề nào đáng kể, nhưng cũng không có ấn tượng sâu sắc.']}\"}, excluded_embed_metadata_keys=[], excluded_llm_metadata_keys=[], relationships={<NodeRelationship.SOURCE: '1'>: RelatedNodeInfo(node_id='175c1f14-8a24-47b2-beb5-07a7c54ff16d', node_type=<ObjectType.DOCUMENT: '4'>, metadata={'PRODUCT_NAME': 'Tai nghe Bluetooth True Wireless SoundPEATS Clear', 'PRICE_REMAINING': 530000, 'PRODUCT_IMAGE': 'https://cdn2.cellphones.com.vn/insecure/rs:fill:358:358/q:90/plain/https://cellphones.com.vn/media/catalog/product/t/a/tai-nghe-khong-day-soundpeats-clear_1_.png', 'PRODUCT_LINK': 'https://cellphones.com.vn/tai-nghe-khong-day-soundpeats-clear.html', 'Review': \"{'positive': ['Dịch vụ khách hàng tuyệt vời! Nhân viên thân thiện và nhiệt tình, đã giúp tôi giải quyết vấn đề ngay lập tức.', 'Tôi đã dùng nhiều loại tai nghe trước đây nhưng không có cái nào có thể so sánh được với sản phẩm này. Đây là một lựa chọn hoàn hảo cho mọi người yêu thích âm nhạc.', 'Chất lượng âm thanh của sản phẩm này vượt xa mong đợi của tôi. Tôi rất hài lòng với trải nghiệm nghe nhạc của mình.'], 'negative': ['Chất lượng dịch vụ kém, nhân viên không thân thiện và không chuyên nghiệp.', 'Sản phẩm đến tay tôi đã bị hỏng, đóng gói kém chất lượng.', 'Dịch vụ sau bán hàng kém chất lượng. Không có hỗ trợ khi gặp sự cố với sản phẩm.', 'Tôi rất thất vọng với sản phẩm này, không giống như quảng cáo cho thấy.', 'Sản phẩm này thực sự tệ, chất lượng không đáng giá số tiền mình đã chi trả'], 'neutral': ['Dịch vụ của họ ổn định, không có gì nổi bật nhưng cũng không có vấn đề gì đáng lo ngại.', 'Sản phẩm này khá bình thường, không có gì đặc biệt nhưng cũng không có gì đáng phàn nàn.', 'Sản phẩm này đủ tốt để sử dụng, không gây ra bất kỳ vấn đề nào đáng kể, nhưng cũng không có ấn tượng sâu sắc.']}\"}, hash='c8c2a5c3ffd4fc61e78d6acb699198724dc814e96e08f9dd26364700fe739dff'), <NodeRelationship.PREVIOUS: '2'>: RelatedNodeInfo(node_id='908a9b8b-fba0-4f9e-a5a4-2f27d1a3d143', node_type=<ObjectType.TEXT: '1'>, metadata={'PRODUCT_NAME': 'Tai nghe Bluetooth True Wireless Redmi Buds 4 Lite', 'PRICE_REMAINING': 540000, 'PRODUCT_IMAGE': 'https://cdn2.cellphones.com.vn/insecure/rs:fill:358:358/q:90/plain/https://cellphones.com.vn/media/catalog/product/t/_/t_i_xu_ng_23__4_4.png', 'PRODUCT_LINK': 'https://cellphones.com.vn/tai-nghe-khong-day-xiaomi-redmi-buds-4-lite.html', 'Review': \"{'positive': ['Tai nghe này thực sự đỉnh cao của công nghệ! Thiết kế hiện đại, kết nối Bluetooth ổn định và chất lượng âm thanh tuyệt vời.', 'Sản phẩm này đáng giá mọi xu mà tôi bỏ ra! Âm thanh chi tiết, độ trầm ấn tượng và khả năng cách âm tốt.', 'Chất lượng sản phẩm vượt xa mong đợi của tôi. Tôi đã mua nhiều sản phẩm từ công ty này và chưa bao giờ thất vọng.', 'Âm thanh sống động, chất lượng tai nghe rất tốt. Tôi đã sử dụng nhiều loại tai nghe nhưng đây là một trong những loại tốt nhất mà tôi từng sở hữu.'], 'negative': ['Tôi không hài lòng với chất lượng sản phẩm, độ bền thấp và dễ hỏng.', 'Giao hàng muộn, sản phẩm đến tay tôi sau thời hạn đã hứa.'], 'neutral': ['Sản phẩm này khá ổn, không gây ấn tượng sâu nhưng cũng không có vấn đề gì đáng ngại.', 'Dịch vụ này không hoàn hảo nhưng cũng không tồi, phù hợp với mức giá được đưa ra.', 'Tai nghe này không quá tốt, nhưng cũng không quá xấu. Nó nằm ở mức trung bình.', 'Sản phẩm này làm việc như mong đợi, không quá hoàn hảo nhưng cũng không gây ra bất kỳ vấn đề nào.', 'Tai nghe này không phải là lựa chọn hàng đầu của tôi, nhưng cũng không tệ.']}\"}, hash='f1fe40a626cd3038a90efb11d4adf726428b8c4c82f330a220f5b00af588e5c0'), <NodeRelationship.NEXT: '3'>: RelatedNodeInfo(node_id='c534667d-2742-4bd0-bb26-6c0c35444768', node_type=<ObjectType.TEXT: '1'>, metadata={}, hash='897c0dc25f8f9d0c5658cb519c35c32008105b4b30851369ddaeb5cf0cb7c6cb')}, text='ĐẶC ĐIỂM NỔI BẬT Kết nối Bluetooth 5.3 nhanh chóng, ổn định, giảm độ trễ và tiết kiệm pin Chế độ Game Mode độ trễ chỉ 90ms, tối ưu cho trải nghiệm chơi game Driver kích thước 12mm mang đến âm thanh sống động và chân thực Trang bị mic kép chống ồn ENC, đảm bảo chất lượng đàm thoại rõ ràng Tai nghe Soundpeats Clear được trang bị driver Dynamic 12mm màng sinh học, cho khả năng tái tạo âm thanh sống động và chân thực trên từng khuôn nhạc. Hỗ trợ mic kép chống ồn ENC giúp đảm bảo chất lượng đàm thoại rõ ràng, làm tăng trải nghiệm người dùng. Sản phẩm tai nghe Soundpeat trendy này có thời gian sử dụng lên đến 40 giờ với kết nối Bluetooth 5.3 ổn định, mượt mà.  Tai nghe Soundpeats Clear - Âm trầm mạnh mẽ, dải cao chính xác Soundpeats Clear ấn tượng không chỉ bởi thiết kế hiện đại mà còn với nhiều công nghệ tiên tiến tích hợp.', start_char_idx=0, end_char_idx=830, text_template='{metadata_str}\\n\\n{content}', metadata_template='{key}: {value}', metadata_seperator='\\n'), score=0.28674835),\n",
              " NodeWithScore(node=TextNode(id_='279aa238-a12b-486b-a65e-6c840fae6d9e', embedding=[-0.0832101926, 0.0352738611, -0.0269228891, -0.00886260625, -0.041757524, -0.0489183106, 0.0559136, -0.0133836633, 0.0222953074, -0.0143140433, 0.130632684, -0.0293910932, 0.00703589758, -0.00360241742, 0.0545129403, 0.026525436, 0.0146651985, 0.020493228, -0.0550583, 0.0937398374, -0.0354296, -0.0687599853, 0.0344021171, 0.00784755871, -0.0188720264, -0.00938155595, -0.0522572212, 0.0201622173, -0.0268772133, -0.0425931364, 0.075705, 0.0748400763, -0.0635409579, 0.0119248163, -0.0486835837, 0.020646356, -0.033827886, -0.0458727367, -0.0628017485, -0.0821956247, -0.0245745424, 0.086558722, -0.0983014926, 0.0169713888, 0.03496572, 0.0261397138, 0.0011607667, -0.0184936449, -0.0170750339, -0.0200290978, -0.0332906432, 0.0399726331, -0.0700510815, -0.0207328815, -0.0291025452, -0.0694872, -0.0136442306, 0.0659593716, -0.00215237029, 0.0568588302, 0.0642718747, -0.050112009, -0.0355542451, 0.000848128111, -0.0598926172, 0.00620975485, -0.0470529795, -0.0816941634, -0.00772799365, -0.0415281393, 0.0627207458, -0.0715818331, -0.101524435, 0.00302999862, 0.0504883565, 0.0626036301, 0.00565559417, -0.0031300846, -0.0333254524, -0.0266618673, 0.00309758889, -0.0763528869, -0.0448867045, 0.0148295034, -0.0116927885, 0.0778327137, 0.0118621932, -0.0235403944, -0.0357469209, 0.000611290743, -0.072155185, 0.0290601645, -0.0148930615, -0.00874026679, 0.0849004313, 0.0443745665, 0.0125804301, 0.0223861244, 0.0419802852, 0.0863057449, -0.00555406697, 0.00043156484, -0.0417020805, -0.0114626717, 0.0168351699, -0.0283056013, 0.0968338549, 0.0138536319, -0.00911887456, 0.0173137821, -0.0249395166, -0.0430237278, -0.0493556298, 0.034473069, -0.0414846577, -0.00533428043, -0.137956336, -0.0176269803, 0.0498153195, 0.0601890907, 0.0551674142, 0.00493707508, 0.0531477034, -0.0051611, 0.0483750291, -0.109528862, 0.020615343, 0.0451643616, -0.0372172855, 0.0539669096, 0.0638323501, 0.0500211567, 0.0310207531, 0.0179441758, -0.0248657186, 0.0367520265, -0.0760853812, 0.105054617, -0.0893087462, 0.0194175392, -0.0724069, 0.109166592, 0.0107042864, 0.0229186378, -0.0138013642, -0.0213799179, 0.0569268838, -0.00151809328, -0.00230357284, 0.0609879978, -0.0355726667, -0.0597004555, 0.073826842, 0.0924500152, 0.0472569, 0.0589355864, 0.106678396, 0.0328023545, -0.0447415411, -0.0232585426, 0.0590519235, -0.0889706537, 0.0289361738, -0.00418642117, -0.0473274961, 0.0180867352, -0.0404618606, -0.00307705114, 0.00450527528, 0.0430288352, -0.14654015, -0.0253722314, -0.0899121091, 0.0122271162, -0.0226680376, -0.0535443947, 0.0485820323, 0.0404577591, -0.0664494, -0.0236178283, -0.0341970623, 0.0584980734, -0.0049313847, -0.0365795, -0.075355731, 0.0306934677, -0.0430653207, -0.017512152, 0.00605032407, -0.00705557363, 0.0163176451, -0.0476979725, -0.00336186658, 0.0287370142, -0.0110874, -0.0448557027, 0.00449759699, 0.00084084383, -0.0205325857, -0.0415786803, -0.000275985658, 0.00294041098, 0.0487485714, -0.0301925838, 0.0176120251, 0.0430040658, -0.0119477259, 0.0155418329, -0.096088104, 0.0654546, 0.0108385012, -0.00325986161, -0.0992393494, 0.0133273816, -0.0272451527, -0.0279337559, -0.137049347, -0.00691918284, 0.0292953197, 0.051576823, -0.018833667, -0.0761608779, -0.105103046, -0.106604114, -0.0346217677, -0.00314022787, -0.0247112662, -0.0217293389, -0.0529510602, -0.013267695, -0.0756915212, 0.0685572922, 0.0267826281, 0.0888395756, 0.0874564126, 0.0439443216, 0.0323828, -0.0153729301, -0.0112088174, -0.0328325815, -0.00451521389, 0.0112412935, 0.0884337127, -0.0159877464, 0.0203361977, -0.0520375781, -0.0102025606, 0.027099371, -0.0159303807, 0.10339357, 0.0500851981, 0.0259923544, 0.0350207873, 0.00492531108, 0.105043076, 0.0563052818, -0.054705, 0.0421261638, 0.0426835604, -0.0693146586, 0.00328552653, -0.0153535372, 0.014340437, -0.0834601, 0.0188221727, 0.0679573119, -0.0716438815, 0.0166019, 0.0202285387, -0.110562153, 0.053739015, -0.0180514976, 0.0790023133, -0.0418804, 0.0875014663, -0.00843522605, -0.00167597109, -0.050545197, -0.0437191054, 0.0375060551, 0.0204315595, 0.00281930715, 0.118811831, -0.037425708, 0.0458590537, 0.00735300779, -0.0246081073, -0.0489673056, -0.0955944881, 0.0305012185, 0.0158038698, 0.10256701, -0.06952326, -0.015395279, -0.0269641299, 0.0318553112, 0.0653898, 0.0180608612, -0.0577716082, 0.0619837753, -0.0409457721, 0.0943233669, 0.0679306835, -0.0273549743, 0.00714950869, 0.00755599886, -0.0478033498, -0.0297256149, 0.100662798, 0.0138924131, 0.0183744319, 0.00182776526, -0.0476371497, 0.0208867118, -0.0194754582, -0.0169888157, -0.0165056866, 0.138822973, -0.0208766982, -0.0748549104, 0.0254867133, -0.0535199419, 0.0504753627, -0.00424789358, 0.0663842112, 0.117188148, -0.0588301457, -0.0193121079, -0.0728646815, 0.0410548113, 0.0241727158, -0.0394650735, -0.0267349817, 0.0260764845, -0.0015620034, 0.00650488958, -0.0518520176, -0.00912171416, 0.0348466337, -0.0731090829, 0.0260101892, 0.0258570369, 0.128865376, -0.0704066753, -0.0790664777, -0.0656476, 0.0194805562, 0.0610475689, 0.0592090115, -0.016880082, 0.0206499454, 0.0630376115, 0.0183243044, 0.0524282269, -0.0112352828, -0.0182305705, -0.0916547328, 0.0424472317, 0.0531548448, 0.0765582472, 0.0697784051, 0.00181853946, -0.0554207936, 0.0456116721, 0.0373837724, -0.00132109819, 0.0784134269, -0.0618700795, -0.0488159806, 0.0601036437, -0.00217874325, 0.0233025793, 0.00466158101, 0.0389797166, -0.00978878513, -0.0361880846, -0.0837817863, 0.0230045561, -0.0504009426, 0.0369298384, 0.00464869896, -0.0618412346, -0.0595784113, 0.0191957839], metadata={'PRODUCT_NAME': 'Tai nghe Bluetooth chụp tai Soul Ultra Dynamic 2', 'PRICE_REMAINING': 650000, 'PRODUCT_IMAGE': 'https://cdn2.cellphones.com.vn/insecure/rs:fill:358:358/q:90/plain/https://cellphones.com.vn/media/catalog/product/g/r/group_247_1_2.png', 'PRODUCT_LINK': 'https://cellphones.com.vn/tai-nghe-chup-tai-soul-ultra-dynamic-2.html', 'Review': \"{'positive': ['Dịch vụ giao hàng nhanh chóng và sản phẩm được đóng gói cẩn thận. Tôi hoàn toàn hài lòng với trải nghiệm mua hàng này.', 'Dịch vụ sau bán hàng xuất sắc. Họ luôn sẵn lòng giải đáp mọi thắc mắc của tôi và giúp tôi khắc phục các vấn đề nhanh chóng.', 'Sản phẩm này đáng giá mọi xu mà tôi bỏ ra! Âm thanh chi tiết, độ trầm ấn tượng và khả năng cách âm tốt.', 'Tai nghe này thực sự tuyệt vời, âm thanh rõ ràng và bass mạnh mẽ, không có gì phải chê cả!', 'Âm thanh sống động, chất lượng tai nghe rất tốt. Tôi đã sử dụng nhiều loại tai nghe nhưng đây là một trong những loại tốt nhất mà tôi từng sở hữu.'], 'negative': ['Tai nghe gây đau tai khi sử dụng lâu, không thoải mái cho tai của tôi.', 'Dịch vụ của công ty quá tệ, không chuyên nghiệp và không thể tin cậy.', 'Không bao giờ mua lại sản phẩm từ nhà cung cấp này. Chất lượng kém và dịch vụ khách hàng không chuyên nghiệp.', 'Sản phẩm này rất không đáng giá, chất lượng rất kém so với giá tiền.'], 'neutral': ['Chất lượng dịch vụ của cửa hàng này khá trung bình, không quá ấn tượng nhưng cũng không gây phàn nàn.', 'Dịch vụ này khá chấp nhận được, không có gì quá nổi bật nhưng cũng không có vấn đề nào đáng lưu ý.', 'Tai nghe này không quá cao cấp nhưng cũng không quá rẻ tiền, phù hợp với nhu cầu sử dụng hàng ngày.', 'Sản phẩm này đủ tốt để sử dụng, không gây ra bất kỳ vấn đề nào đáng kể, nhưng cũng không có ấn tượng sâu sắc.']}\"}, excluded_embed_metadata_keys=[], excluded_llm_metadata_keys=[], relationships={<NodeRelationship.SOURCE: '1'>: RelatedNodeInfo(node_id='8b0960cd-d3d0-4b19-865f-6c29683faea3', node_type=<ObjectType.DOCUMENT: '4'>, metadata={'PRODUCT_NAME': 'Tai nghe Bluetooth chụp tai Soul Ultra Dynamic 2', 'PRICE_REMAINING': 650000, 'PRODUCT_IMAGE': 'https://cdn2.cellphones.com.vn/insecure/rs:fill:358:358/q:90/plain/https://cellphones.com.vn/media/catalog/product/g/r/group_247_1_2.png', 'PRODUCT_LINK': 'https://cellphones.com.vn/tai-nghe-chup-tai-soul-ultra-dynamic-2.html', 'Review': \"{'positive': ['Dịch vụ giao hàng nhanh chóng và sản phẩm được đóng gói cẩn thận. Tôi hoàn toàn hài lòng với trải nghiệm mua hàng này.', 'Dịch vụ sau bán hàng xuất sắc. Họ luôn sẵn lòng giải đáp mọi thắc mắc của tôi và giúp tôi khắc phục các vấn đề nhanh chóng.', 'Sản phẩm này đáng giá mọi xu mà tôi bỏ ra! Âm thanh chi tiết, độ trầm ấn tượng và khả năng cách âm tốt.', 'Tai nghe này thực sự tuyệt vời, âm thanh rõ ràng và bass mạnh mẽ, không có gì phải chê cả!', 'Âm thanh sống động, chất lượng tai nghe rất tốt. Tôi đã sử dụng nhiều loại tai nghe nhưng đây là một trong những loại tốt nhất mà tôi từng sở hữu.'], 'negative': ['Tai nghe gây đau tai khi sử dụng lâu, không thoải mái cho tai của tôi.', 'Dịch vụ của công ty quá tệ, không chuyên nghiệp và không thể tin cậy.', 'Không bao giờ mua lại sản phẩm từ nhà cung cấp này. Chất lượng kém và dịch vụ khách hàng không chuyên nghiệp.', 'Sản phẩm này rất không đáng giá, chất lượng rất kém so với giá tiền.'], 'neutral': ['Chất lượng dịch vụ của cửa hàng này khá trung bình, không quá ấn tượng nhưng cũng không gây phàn nàn.', 'Dịch vụ này khá chấp nhận được, không có gì quá nổi bật nhưng cũng không có vấn đề nào đáng lưu ý.', 'Tai nghe này không quá cao cấp nhưng cũng không quá rẻ tiền, phù hợp với nhu cầu sử dụng hàng ngày.', 'Sản phẩm này đủ tốt để sử dụng, không gây ra bất kỳ vấn đề nào đáng kể, nhưng cũng không có ấn tượng sâu sắc.']}\"}, hash='3847fe156fcf844bb7fd024250120f0a747352de875d8d3fc8b0ca6595cc9737'), <NodeRelationship.PREVIOUS: '2'>: RelatedNodeInfo(node_id='24765195-0680-4820-b0be-2713fa33722f', node_type=<ObjectType.TEXT: '1'>, metadata={'PRODUCT_NAME': 'Tai nghe Bluetooth chụp tai Soul Ultra Dynamic 2', 'PRICE_REMAINING': 650000, 'PRODUCT_IMAGE': 'https://cdn2.cellphones.com.vn/insecure/rs:fill:358:358/q:90/plain/https://cellphones.com.vn/media/catalog/product/g/r/group_247_1_2.png', 'PRODUCT_LINK': 'https://cellphones.com.vn/tai-nghe-chup-tai-soul-ultra-dynamic-2.html', 'Review': \"{'positive': ['Dịch vụ giao hàng nhanh chóng và sản phẩm được đóng gói cẩn thận. Tôi hoàn toàn hài lòng với trải nghiệm mua hàng này.', 'Dịch vụ sau bán hàng xuất sắc. Họ luôn sẵn lòng giải đáp mọi thắc mắc của tôi và giúp tôi khắc phục các vấn đề nhanh chóng.', 'Sản phẩm này đáng giá mọi xu mà tôi bỏ ra! Âm thanh chi tiết, độ trầm ấn tượng và khả năng cách âm tốt.', 'Tai nghe này thực sự tuyệt vời, âm thanh rõ ràng và bass mạnh mẽ, không có gì phải chê cả!', 'Âm thanh sống động, chất lượng tai nghe rất tốt. Tôi đã sử dụng nhiều loại tai nghe nhưng đây là một trong những loại tốt nhất mà tôi từng sở hữu.'], 'negative': ['Tai nghe gây đau tai khi sử dụng lâu, không thoải mái cho tai của tôi.', 'Dịch vụ của công ty quá tệ, không chuyên nghiệp và không thể tin cậy.', 'Không bao giờ mua lại sản phẩm từ nhà cung cấp này. Chất lượng kém và dịch vụ khách hàng không chuyên nghiệp.', 'Sản phẩm này rất không đáng giá, chất lượng rất kém so với giá tiền.'], 'neutral': ['Chất lượng dịch vụ của cửa hàng này khá trung bình, không quá ấn tượng nhưng cũng không gây phàn nàn.', 'Dịch vụ này khá chấp nhận được, không có gì quá nổi bật nhưng cũng không có vấn đề nào đáng lưu ý.', 'Tai nghe này không quá cao cấp nhưng cũng không quá rẻ tiền, phù hợp với nhu cầu sử dụng hàng ngày.', 'Sản phẩm này đủ tốt để sử dụng, không gây ra bất kỳ vấn đề nào đáng kể, nhưng cũng không có ấn tượng sâu sắc.']}\"}, hash='9f9e3a39926ab1c019fc5bf1553fdebcab5f7832ab9d729e4b962677ca39f688'), <NodeRelationship.NEXT: '3'>: RelatedNodeInfo(node_id='09b0dd83-7926-424c-8341-c6dc3c26fc3e', node_type=<ObjectType.TEXT: '1'>, metadata={}, hash='f102c4c05fa728652674ce154b3b54aa577bef33658e47dcde68d013eb1a37cb')}, text='Đặc biệt, mẫu tai nghe không dây dạng chụp tai này có thể điều chỉnh được kích thước của sản phẩm một cách linh hoạt, để đeo vừa vặn với từng người. Thiết kế tinh tế Tai nghe chụp tai SOUL Ultra Dynamic 2 hoàn thiện phần ốp tai khá chỉn chu, chất liệu mềm mại, ôm kín tai trong quá trình nghe nhạc. Với kiểu thiết kế này, hạn chế bị đẩy âm thanh ra ngoài, giúp người dùng trải nghiệm một cách trọn vẹn nhất. Xem thêm', start_char_idx=461, end_char_idx=877, text_template='{metadata_str}\\n\\n{content}', metadata_template='{key}: {value}', metadata_seperator='\\n'), score=0.272807181),\n",
              " NodeWithScore(node=TextNode(id_='24765195-0680-4820-b0be-2713fa33722f', embedding=[-0.0832101926, 0.0352738611, -0.0269228891, -0.00886260625, -0.041757524, -0.0489183106, 0.0559136, -0.0133836633, 0.0222953074, -0.0143140433, 0.130632684, -0.0293910932, 0.00703589758, -0.00360241742, 0.0545129403, 0.026525436, 0.0146651985, 0.020493228, -0.0550583, 0.0937398374, -0.0354296, -0.0687599853, 0.0344021171, 0.00784755871, -0.0188720264, -0.00938155595, -0.0522572212, 0.0201622173, -0.0268772133, -0.0425931364, 0.075705, 0.0748400763, -0.0635409579, 0.0119248163, -0.0486835837, 0.020646356, -0.033827886, -0.0458727367, -0.0628017485, -0.0821956247, -0.0245745424, 0.086558722, -0.0983014926, 0.0169713888, 0.03496572, 0.0261397138, 0.0011607667, -0.0184936449, -0.0170750339, -0.0200290978, -0.0332906432, 0.0399726331, -0.0700510815, -0.0207328815, -0.0291025452, -0.0694872, -0.0136442306, 0.0659593716, -0.00215237029, 0.0568588302, 0.0642718747, -0.050112009, -0.0355542451, 0.000848128111, -0.0598926172, 0.00620975485, -0.0470529795, -0.0816941634, -0.00772799365, -0.0415281393, 0.0627207458, -0.0715818331, -0.101524435, 0.00302999862, 0.0504883565, 0.0626036301, 0.00565559417, -0.0031300846, -0.0333254524, -0.0266618673, 0.00309758889, -0.0763528869, -0.0448867045, 0.0148295034, -0.0116927885, 0.0778327137, 0.0118621932, -0.0235403944, -0.0357469209, 0.000611290743, -0.072155185, 0.0290601645, -0.0148930615, -0.00874026679, 0.0849004313, 0.0443745665, 0.0125804301, 0.0223861244, 0.0419802852, 0.0863057449, -0.00555406697, 0.00043156484, -0.0417020805, -0.0114626717, 0.0168351699, -0.0283056013, 0.0968338549, 0.0138536319, -0.00911887456, 0.0173137821, -0.0249395166, -0.0430237278, -0.0493556298, 0.034473069, -0.0414846577, -0.00533428043, -0.137956336, -0.0176269803, 0.0498153195, 0.0601890907, 0.0551674142, 0.00493707508, 0.0531477034, -0.0051611, 0.0483750291, -0.109528862, 0.020615343, 0.0451643616, -0.0372172855, 0.0539669096, 0.0638323501, 0.0500211567, 0.0310207531, 0.0179441758, -0.0248657186, 0.0367520265, -0.0760853812, 0.105054617, -0.0893087462, 0.0194175392, -0.0724069, 0.109166592, 0.0107042864, 0.0229186378, -0.0138013642, -0.0213799179, 0.0569268838, -0.00151809328, -0.00230357284, 0.0609879978, -0.0355726667, -0.0597004555, 0.073826842, 0.0924500152, 0.0472569, 0.0589355864, 0.106678396, 0.0328023545, -0.0447415411, -0.0232585426, 0.0590519235, -0.0889706537, 0.0289361738, -0.00418642117, -0.0473274961, 0.0180867352, -0.0404618606, -0.00307705114, 0.00450527528, 0.0430288352, -0.14654015, -0.0253722314, -0.0899121091, 0.0122271162, -0.0226680376, -0.0535443947, 0.0485820323, 0.0404577591, -0.0664494, -0.0236178283, -0.0341970623, 0.0584980734, -0.0049313847, -0.0365795, -0.075355731, 0.0306934677, -0.0430653207, -0.017512152, 0.00605032407, -0.00705557363, 0.0163176451, -0.0476979725, -0.00336186658, 0.0287370142, -0.0110874, -0.0448557027, 0.00449759699, 0.00084084383, -0.0205325857, -0.0415786803, -0.000275985658, 0.00294041098, 0.0487485714, -0.0301925838, 0.0176120251, 0.0430040658, -0.0119477259, 0.0155418329, -0.096088104, 0.0654546, 0.0108385012, -0.00325986161, -0.0992393494, 0.0133273816, -0.0272451527, -0.0279337559, -0.137049347, -0.00691918284, 0.0292953197, 0.051576823, -0.018833667, -0.0761608779, -0.105103046, -0.106604114, -0.0346217677, -0.00314022787, -0.0247112662, -0.0217293389, -0.0529510602, -0.013267695, -0.0756915212, 0.0685572922, 0.0267826281, 0.0888395756, 0.0874564126, 0.0439443216, 0.0323828, -0.0153729301, -0.0112088174, -0.0328325815, -0.00451521389, 0.0112412935, 0.0884337127, -0.0159877464, 0.0203361977, -0.0520375781, -0.0102025606, 0.027099371, -0.0159303807, 0.10339357, 0.0500851981, 0.0259923544, 0.0350207873, 0.00492531108, 0.105043076, 0.0563052818, -0.054705, 0.0421261638, 0.0426835604, -0.0693146586, 0.00328552653, -0.0153535372, 0.014340437, -0.0834601, 0.0188221727, 0.0679573119, -0.0716438815, 0.0166019, 0.0202285387, -0.110562153, 0.053739015, -0.0180514976, 0.0790023133, -0.0418804, 0.0875014663, -0.00843522605, -0.00167597109, -0.050545197, -0.0437191054, 0.0375060551, 0.0204315595, 0.00281930715, 0.118811831, -0.037425708, 0.0458590537, 0.00735300779, -0.0246081073, -0.0489673056, -0.0955944881, 0.0305012185, 0.0158038698, 0.10256701, -0.06952326, -0.015395279, -0.0269641299, 0.0318553112, 0.0653898, 0.0180608612, -0.0577716082, 0.0619837753, -0.0409457721, 0.0943233669, 0.0679306835, -0.0273549743, 0.00714950869, 0.00755599886, -0.0478033498, -0.0297256149, 0.100662798, 0.0138924131, 0.0183744319, 0.00182776526, -0.0476371497, 0.0208867118, -0.0194754582, -0.0169888157, -0.0165056866, 0.138822973, -0.0208766982, -0.0748549104, 0.0254867133, -0.0535199419, 0.0504753627, -0.00424789358, 0.0663842112, 0.117188148, -0.0588301457, -0.0193121079, -0.0728646815, 0.0410548113, 0.0241727158, -0.0394650735, -0.0267349817, 0.0260764845, -0.0015620034, 0.00650488958, -0.0518520176, -0.00912171416, 0.0348466337, -0.0731090829, 0.0260101892, 0.0258570369, 0.128865376, -0.0704066753, -0.0790664777, -0.0656476, 0.0194805562, 0.0610475689, 0.0592090115, -0.016880082, 0.0206499454, 0.0630376115, 0.0183243044, 0.0524282269, -0.0112352828, -0.0182305705, -0.0916547328, 0.0424472317, 0.0531548448, 0.0765582472, 0.0697784051, 0.00181853946, -0.0554207936, 0.0456116721, 0.0373837724, -0.00132109819, 0.0784134269, -0.0618700795, -0.0488159806, 0.0601036437, -0.00217874325, 0.0233025793, 0.00466158101, 0.0389797166, -0.00978878513, -0.0361880846, -0.0837817863, 0.0230045561, -0.0504009426, 0.0369298384, 0.00464869896, -0.0618412346, -0.0595784113, 0.0191957839], metadata={'PRODUCT_NAME': 'Tai nghe Bluetooth chụp tai Soul Ultra Dynamic 2', 'PRICE_REMAINING': 650000, 'PRODUCT_IMAGE': 'https://cdn2.cellphones.com.vn/insecure/rs:fill:358:358/q:90/plain/https://cellphones.com.vn/media/catalog/product/g/r/group_247_1_2.png', 'PRODUCT_LINK': 'https://cellphones.com.vn/tai-nghe-chup-tai-soul-ultra-dynamic-2.html', 'Review': \"{'positive': ['Dịch vụ giao hàng nhanh chóng và sản phẩm được đóng gói cẩn thận. Tôi hoàn toàn hài lòng với trải nghiệm mua hàng này.', 'Dịch vụ sau bán hàng xuất sắc. Họ luôn sẵn lòng giải đáp mọi thắc mắc của tôi và giúp tôi khắc phục các vấn đề nhanh chóng.', 'Sản phẩm này đáng giá mọi xu mà tôi bỏ ra! Âm thanh chi tiết, độ trầm ấn tượng và khả năng cách âm tốt.', 'Tai nghe này thực sự tuyệt vời, âm thanh rõ ràng và bass mạnh mẽ, không có gì phải chê cả!', 'Âm thanh sống động, chất lượng tai nghe rất tốt. Tôi đã sử dụng nhiều loại tai nghe nhưng đây là một trong những loại tốt nhất mà tôi từng sở hữu.'], 'negative': ['Tai nghe gây đau tai khi sử dụng lâu, không thoải mái cho tai của tôi.', 'Dịch vụ của công ty quá tệ, không chuyên nghiệp và không thể tin cậy.', 'Không bao giờ mua lại sản phẩm từ nhà cung cấp này. Chất lượng kém và dịch vụ khách hàng không chuyên nghiệp.', 'Sản phẩm này rất không đáng giá, chất lượng rất kém so với giá tiền.'], 'neutral': ['Chất lượng dịch vụ của cửa hàng này khá trung bình, không quá ấn tượng nhưng cũng không gây phàn nàn.', 'Dịch vụ này khá chấp nhận được, không có gì quá nổi bật nhưng cũng không có vấn đề nào đáng lưu ý.', 'Tai nghe này không quá cao cấp nhưng cũng không quá rẻ tiền, phù hợp với nhu cầu sử dụng hàng ngày.', 'Sản phẩm này đủ tốt để sử dụng, không gây ra bất kỳ vấn đề nào đáng kể, nhưng cũng không có ấn tượng sâu sắc.']}\"}, excluded_embed_metadata_keys=[], excluded_llm_metadata_keys=[], relationships={<NodeRelationship.SOURCE: '1'>: RelatedNodeInfo(node_id='8b0960cd-d3d0-4b19-865f-6c29683faea3', node_type=<ObjectType.DOCUMENT: '4'>, metadata={'PRODUCT_NAME': 'Tai nghe Bluetooth chụp tai Soul Ultra Dynamic 2', 'PRICE_REMAINING': 650000, 'PRODUCT_IMAGE': 'https://cdn2.cellphones.com.vn/insecure/rs:fill:358:358/q:90/plain/https://cellphones.com.vn/media/catalog/product/g/r/group_247_1_2.png', 'PRODUCT_LINK': 'https://cellphones.com.vn/tai-nghe-chup-tai-soul-ultra-dynamic-2.html', 'Review': \"{'positive': ['Dịch vụ giao hàng nhanh chóng và sản phẩm được đóng gói cẩn thận. Tôi hoàn toàn hài lòng với trải nghiệm mua hàng này.', 'Dịch vụ sau bán hàng xuất sắc. Họ luôn sẵn lòng giải đáp mọi thắc mắc của tôi và giúp tôi khắc phục các vấn đề nhanh chóng.', 'Sản phẩm này đáng giá mọi xu mà tôi bỏ ra! Âm thanh chi tiết, độ trầm ấn tượng và khả năng cách âm tốt.', 'Tai nghe này thực sự tuyệt vời, âm thanh rõ ràng và bass mạnh mẽ, không có gì phải chê cả!', 'Âm thanh sống động, chất lượng tai nghe rất tốt. Tôi đã sử dụng nhiều loại tai nghe nhưng đây là một trong những loại tốt nhất mà tôi từng sở hữu.'], 'negative': ['Tai nghe gây đau tai khi sử dụng lâu, không thoải mái cho tai của tôi.', 'Dịch vụ của công ty quá tệ, không chuyên nghiệp và không thể tin cậy.', 'Không bao giờ mua lại sản phẩm từ nhà cung cấp này. Chất lượng kém và dịch vụ khách hàng không chuyên nghiệp.', 'Sản phẩm này rất không đáng giá, chất lượng rất kém so với giá tiền.'], 'neutral': ['Chất lượng dịch vụ của cửa hàng này khá trung bình, không quá ấn tượng nhưng cũng không gây phàn nàn.', 'Dịch vụ này khá chấp nhận được, không có gì quá nổi bật nhưng cũng không có vấn đề nào đáng lưu ý.', 'Tai nghe này không quá cao cấp nhưng cũng không quá rẻ tiền, phù hợp với nhu cầu sử dụng hàng ngày.', 'Sản phẩm này đủ tốt để sử dụng, không gây ra bất kỳ vấn đề nào đáng kể, nhưng cũng không có ấn tượng sâu sắc.']}\"}, hash='3847fe156fcf844bb7fd024250120f0a747352de875d8d3fc8b0ca6595cc9737'), <NodeRelationship.PREVIOUS: '2'>: RelatedNodeInfo(node_id='1341d206-093f-4ee4-8c17-feaaf111d6c5', node_type=<ObjectType.TEXT: '1'>, metadata={'PRODUCT_NAME': 'Tai nghe chụp tai Sony MDR-ZX310AP', 'PRICE_REMAINING': 690000, 'PRODUCT_IMAGE': 'https://cdn2.cellphones.com.vn/insecure/rs:fill:358:358/q:90/plain/https://cellphones.com.vn/media/catalog/product/s/o/sony-mdr-zx310ap.png', 'PRODUCT_LINK': 'https://cellphones.com.vn/sony-mdr-zx310ap.html', 'Review': \"{'positive': ['Tai nghe này không chỉ mang lại trải nghiệm âm nhạc tuyệt vời mà còn rất thoải mái khi đeo lâu. Tôi cảm thấy thích thú mỗi khi sử dụng chúng.', 'Chất lượng âm thanh của sản phẩm này vượt xa mong đợi của tôi. Tôi rất hài lòng với trải nghiệm nghe nhạc của mình.', 'Chất lượng sản phẩm vượt xa mong đợi của tôi. Tôi đã mua nhiều sản phẩm từ công ty này và chưa bao giờ thất vọng.'], 'negative': ['Chất lượng dịch vụ kém, nhân viên không thân thiện và không chuyên nghiệp.', 'Sản phẩm như đồ giả, không giống như mô tả trên trang web. Rất thất vọng với chất lượng này.', 'Sản phẩm này thực sự tệ, chất lượng không đáng giá số tiền mình đã chi trả', 'Dịch vụ khách hàng quá tệ, không ai phản hồi khi tôi gặp vấn đề với sản phẩm của họ.', 'Tôi rất thất vọng với sản phẩm này, không giống như quảng cáo cho thấy.'], 'neutral': ['Dịch vụ giao hàng tốt, nhưng sản phẩm không đặc biệt lắm.', 'Tai nghe này không quá cao cấp nhưng cũng không quá rẻ tiền, phù hợp với nhu cầu sử dụng hàng ngày.']}\"}, hash='ab6ae853f48f527039456cdf416b356e17c58ad04d9f3e485dc177b44bf118a2'), <NodeRelationship.NEXT: '3'>: RelatedNodeInfo(node_id='279aa238-a12b-486b-a65e-6c840fae6d9e', node_type=<ObjectType.TEXT: '1'>, metadata={}, hash='91980e449fa5450444671f7602554e22d186665cc1af52dbf89910622832ceba')}, text='ĐẶC ĐIỂM NỔI BẬT Thiết kế hiện đại, tai nghe có thể gấp gọn linh hoạt giúp dễ dàng mang theo Trình điều khiển 40 mm cho chất lượng âm thanh sống động và chân thực Trải nghiệm không gián đoạn với viên pin có thời lượng đến 60 giờ liên tục Công nghệ Bluetooth 5.2 giúp kết nối nhanh chóng, đường truyền ổn định Tai nghe chụp tai SOUL Ultra Dynamic 2 - Thiết kế tối giản, hiện đại Tai nghe chụp tai SOUL Ultra Dynamic 2 có ngoại hình trẻ trung, thiết kế đơn giản.', start_char_idx=0, end_char_idx=460, text_template='{metadata_str}\\n\\n{content}', metadata_template='{key}: {value}', metadata_seperator='\\n'), score=0.272807181),\n",
              " NodeWithScore(node=TextNode(id_='657ef023-d195-40a8-945d-87f5b726ebd3', embedding=[-0.0399007089, 0.0219878219, -0.0124523919, -0.0274165887, -0.0113262162, -0.0162561871, 0.0322559401, 0.000532490201, -0.000840525434, -0.0109624369, 0.127380878, -0.00824922137, 0.0147256246, 0.0150124123, 0.0564000271, 0.0798444748, 0.0188060477, -0.00468181772, -0.0386238471, 0.0410247073, -0.0355301797, -0.0669117272, 0.0482915863, -0.00391432457, 0.0120887756, -0.0133869499, -0.0448368, 0.013469141, -0.0378563218, 0.0324846134, 0.0771577805, 0.0457757302, -0.0261897203, -0.0704049245, -0.0579508729, -0.0032553263, 0.00263171294, -0.0390754119, -0.0842497423, -0.0779363587, -0.048967462, 0.0837424099, -0.094846867, 0.043331556, -0.00470584631, 0.00307596195, -0.0565644465, -0.0295768883, -0.0129157053, -0.0269677341, -0.0282229837, 0.0413873, -0.0589086451, -0.0341126472, 0.000673728355, -0.0932141468, -0.0111465678, 0.0850923434, 0.0100627197, 0.0852262527, 0.0756337047, -0.0979304537, -0.0301608164, -0.0184202772, -0.0455964878, 0.0499798395, -0.00834440254, -0.0757918805, 0.00994043238, -0.0234638192, 0.0451966561, -0.0778930634, -0.080546312, 0.00952803437, -0.00746299606, 0.0979336649, 0.00909268577, 0.0242179092, -0.0330984108, 0.0309437, 0.0116399666, -0.0794575065, -0.0558168404, -0.00395976612, 0.0230289027, 0.0227427222, -0.00380760105, -0.0121884914, -0.0890380815, -0.0185093153, -0.129357323, 0.00987054501, -0.0105749611, -0.0256822947, 0.0703586936, 0.118061319, 0.032558091, 0.0466239452, 0.0458839, 0.03863414, 0.00368286902, -0.0136623168, -0.0356293023, -0.0202714689, -0.0144052682, 0.00687366212, 0.0127714658, 0.0519168898, 0.0160569139, -0.00175576087, -0.0437852293, -0.0318901, -0.0645527616, 0.017655611, -0.0159532949, 0.0399994068, -0.117406391, -0.0200134628, 0.0687029138, 0.0818539038, 0.010531907, 0.000787930796, 0.0571839772, -0.0517605, 0.0500783361, -0.0889307857, 0.0369653553, 0.056892015, -0.0187018737, 0.0347934552, 0.0543048494, 0.0273679048, 0.0588986836, 0.0240056962, -0.042011898, -0.000900864776, 0.00735965325, 0.100464247, -0.0708023, 0.0268721096, -0.0594648421, 0.0625641346, 0.0346223228, -0.00244943146, -0.0694085211, 0.011328835, 0.031663809, 0.0161195751, -0.00488740532, -0.0464871153, 0.0257174838, -0.0335097685, 0.127196074, 0.018232435, 0.0308733564, 0.0598856919, 0.0914567485, 0.0273679756, -0.00246942556, -0.0454436243, 0.0256716143, -0.106244184, 0.0540170297, 0.0136236306, -0.0496261865, 0.0678301826, -0.0869988948, -0.0371247493, -0.00681864843, 0.021365324, -0.155263, -0.0200358182, -0.0692132935, -0.0283888616, -0.0307124406, -0.0173630416, 0.0435918607, 0.0259986725, -0.0700201467, -0.0738532916, -0.0805185363, 0.0383563377, 0.00298154447, -0.0456271321, -0.0786741, 0.0454470627, -0.0426083803, -0.0639945939, 0.0531687401, -0.015838936, 0.023419274, -0.0535816066, 0.0210580472, 0.0639410913, 0.00508987857, -0.0336290151, -0.007504059, -0.0346733704, 0.0370112322, -0.0184544399, -0.018217098, 0.00910892058, 0.0634377673, 0.0340645686, 0.0165103618, 0.0508150384, -0.0124865202, 0.000746341189, -0.0626625791, 0.0279531963, 0.0187935047, 0.00965817831, -0.0286451112, -0.00636837212, -0.0423866101, -0.0421558246, -0.166309446, 0.0845830217, 0.0412385911, 0.0808272511, -0.0641338527, -0.0491514765, -0.0867979154, -0.0898744538, -0.0579029657, 0.0566256978, -0.0103954803, -0.0220811106, -0.0179970339, 0.0104284175, -0.0674797669, 0.0790109, 0.0352630354, 0.0589104556, 0.0591975562, 0.0159008428, 0.0293824058, 0.0368550047, -0.0406181216, -0.0525332205, -0.00106456433, 0.00347569934, 0.0726118386, -0.0327295028, -0.0142483329, -0.0800563, -0.017704051, -0.00184607657, -0.0410310403, 0.0823681206, -0.0239092838, 0.0249799062, 0.0426731855, -0.00663102046, 0.0788294077, 0.0395074189, -0.0243672729, 0.0328842811, 0.0614922382, -0.0749636665, 0.00812619459, -0.00626393873, 0.0251962226, -0.0508741215, 0.0541487485, 0.0697910115, -0.0496381409, -0.0198342409, 0.0280286223, -0.126840577, 0.040726658, -0.0506286919, 0.016368622, -0.0321225896, 0.105413042, -0.0141764134, -0.0186313484, -0.00182812032, -0.0447713956, 0.0490043275, -0.0109394714, 0.0173170324, 0.101853132, -0.0535958074, 0.0739236549, -0.000773816893, -0.0363373235, -0.0352524146, -0.0717131123, 0.107548483, -0.00416637724, 0.061025776, -0.0282110367, 0.00365979504, -0.0726303756, 0.0320579968, 0.000898254104, 0.00258972286, -0.0878191069, 0.0120226843, -0.0748940557, 0.0828878134, 0.0344499238, 0.0148919746, 0.004031213, 0.0342649743, -0.0438006222, -0.067111969, 0.135938898, 0.0198292751, 0.0452495813, -0.0102408025, -0.0121408487, 0.00750137726, -0.0120238755, 0.0429717898, -0.0647942126, 0.0972429141, -0.0485897064, -0.05280957, 0.0101255961, -0.00226837955, 0.0488727465, -0.00684534479, 0.0773169473, 0.0785966814, -0.00392058631, -0.0525880717, -0.0629226193, 0.0417026579, 0.034899544, 0.0110068172, -0.0666561201, 0.0351271741, -0.0441143364, -0.000574688427, -0.0524796359, 0.0096125761, 0.0421389416, -0.0313210599, 0.0359093547, 0.024191903, 0.0808249786, 0.0223809797, -0.0277848765, -0.101245202, 0.110795915, 0.100663692, 0.0628540888, -0.0205112677, -0.0208001379, 0.0707819089, -0.0198460445, 0.0494126603, -0.0638743117, -0.0417771414, -0.0748270079, 0.0270314403, 0.0255539864, 0.0659626946, 0.0236302223, 0.0369343, -0.0561086163, 0.0278286356, 0.0691998526, -0.0107683018, 0.095967263, -0.0166509636, -0.0565152653, 0.0803851783, 0.0103049194, 0.0314197205, -0.0182436034, 0.0134573439, -0.0204975456, -0.00733190868, -0.0521237217, 0.0431424789, -0.0770614445, 0.0288367644, -0.0313936174, -0.0633747056, -0.00219430635, 0.0396842547], metadata={'PRODUCT_NAME': 'Tai nghe Bluetooth True Wireless SoundPEATS Life', 'PRICE_REMAINING': 690000, 'PRODUCT_IMAGE': 'https://cdn2.cellphones.com.vn/insecure/rs:fill:358:358/q:90/plain/https://cellphones.com.vn/media/catalog/product/g/r/group_115_1.png', 'PRODUCT_LINK': 'https://cellphones.com.vn/tai-nghe-bluetooth-soundpeats-life.html', 'Review': \"{'positive': ['Dịch vụ giao hàng nhanh chóng và đúng hẹn. Sản phẩm đóng gói cẩn thận và đến tay khách hàng một cách an toàn.', 'Tôi đã sử dụng sản phẩm này trong một thời gian và vẫn cảm thấy hài lòng 100%. Sự kết hợp hoàn hảo giữa chất lượng và giá trị.', 'Dịch vụ giao hàng nhanh chóng và chính xác. Tôi rất ấn tượng với cách họ xử lý đơn hàng của tôi.', 'Chất lượng sản phẩm vượt xa mong đợi của tôi. Tôi đã mua nhiều sản phẩm từ công ty này và chưa bao giờ thất vọng.'], 'negative': ['Dịch vụ khách hàng quá tệ, họ không giải quyết được vấn đề của tôi sau nhiều lần liên hệ.', 'Dịch vụ giao hàng quá chậm chạp. Đã phải đợi hàng tuần và cuối cùng nhận được sản phẩm hỏng.', 'Chất lượng âm thanh quá kém, không có bass và âm trầm.', 'Giao hàng muộn, sản phẩm đến tay tôi sau thời hạn đã hứa.', 'Dịch vụ giao hàng quá chậm, tôi đã phải đợi gần một tháng để nhận được đơn hàng của mình.'], 'neutral': ['Chất lượng âm thanh của tai nghe này trung bình, không có gì nổi bật.', 'Dịch vụ khách hàng ở đây khá ổn, không có gì đặc biệt nhưng cũng không gây thất vọng.', 'Tai nghe này không xuất sắc lắm, nhưng cũng không phải là điều tồi tệ nhất.', 'Tai nghe này không quá tốt nhưng cũng không quá tệ, chất lượng âm thanh ổn định.']}\"}, excluded_embed_metadata_keys=[], excluded_llm_metadata_keys=[], relationships={<NodeRelationship.SOURCE: '1'>: RelatedNodeInfo(node_id='ba697145-4d2f-4de0-b8fe-f1cde5e6ed9e', node_type=<ObjectType.DOCUMENT: '4'>, metadata={'PRODUCT_NAME': 'Tai nghe Bluetooth True Wireless SoundPEATS Life', 'PRICE_REMAINING': 690000, 'PRODUCT_IMAGE': 'https://cdn2.cellphones.com.vn/insecure/rs:fill:358:358/q:90/plain/https://cellphones.com.vn/media/catalog/product/g/r/group_115_1.png', 'PRODUCT_LINK': 'https://cellphones.com.vn/tai-nghe-bluetooth-soundpeats-life.html', 'Review': \"{'positive': ['Dịch vụ giao hàng nhanh chóng và đúng hẹn. Sản phẩm đóng gói cẩn thận và đến tay khách hàng một cách an toàn.', 'Tôi đã sử dụng sản phẩm này trong một thời gian và vẫn cảm thấy hài lòng 100%. Sự kết hợp hoàn hảo giữa chất lượng và giá trị.', 'Dịch vụ giao hàng nhanh chóng và chính xác. Tôi rất ấn tượng với cách họ xử lý đơn hàng của tôi.', 'Chất lượng sản phẩm vượt xa mong đợi của tôi. Tôi đã mua nhiều sản phẩm từ công ty này và chưa bao giờ thất vọng.'], 'negative': ['Dịch vụ khách hàng quá tệ, họ không giải quyết được vấn đề của tôi sau nhiều lần liên hệ.', 'Dịch vụ giao hàng quá chậm chạp. Đã phải đợi hàng tuần và cuối cùng nhận được sản phẩm hỏng.', 'Chất lượng âm thanh quá kém, không có bass và âm trầm.', 'Giao hàng muộn, sản phẩm đến tay tôi sau thời hạn đã hứa.', 'Dịch vụ giao hàng quá chậm, tôi đã phải đợi gần một tháng để nhận được đơn hàng của mình.'], 'neutral': ['Chất lượng âm thanh của tai nghe này trung bình, không có gì nổi bật.', 'Dịch vụ khách hàng ở đây khá ổn, không có gì đặc biệt nhưng cũng không gây thất vọng.', 'Tai nghe này không xuất sắc lắm, nhưng cũng không phải là điều tồi tệ nhất.', 'Tai nghe này không quá tốt nhưng cũng không quá tệ, chất lượng âm thanh ổn định.']}\"}, hash='fef422904e5a31bf20898bf8b6660e10cffdcb34bbc0b95c39549bb105d1bea2'), <NodeRelationship.PREVIOUS: '2'>: RelatedNodeInfo(node_id='49f86482-e068-4b67-b835-1f542d61cf5f', node_type=<ObjectType.TEXT: '1'>, metadata={'PRODUCT_NAME': 'Tai nghe Bluetooth True Wireless SoundPEATS Life', 'PRICE_REMAINING': 690000, 'PRODUCT_IMAGE': 'https://cdn2.cellphones.com.vn/insecure/rs:fill:358:358/q:90/plain/https://cellphones.com.vn/media/catalog/product/g/r/group_115_1.png', 'PRODUCT_LINK': 'https://cellphones.com.vn/tai-nghe-bluetooth-soundpeats-life.html', 'Review': \"{'positive': ['Dịch vụ giao hàng nhanh chóng và đúng hẹn. Sản phẩm đóng gói cẩn thận và đến tay khách hàng một cách an toàn.', 'Tôi đã sử dụng sản phẩm này trong một thời gian và vẫn cảm thấy hài lòng 100%. Sự kết hợp hoàn hảo giữa chất lượng và giá trị.', 'Dịch vụ giao hàng nhanh chóng và chính xác. Tôi rất ấn tượng với cách họ xử lý đơn hàng của tôi.', 'Chất lượng sản phẩm vượt xa mong đợi của tôi. Tôi đã mua nhiều sản phẩm từ công ty này và chưa bao giờ thất vọng.'], 'negative': ['Dịch vụ khách hàng quá tệ, họ không giải quyết được vấn đề của tôi sau nhiều lần liên hệ.', 'Dịch vụ giao hàng quá chậm chạp. Đã phải đợi hàng tuần và cuối cùng nhận được sản phẩm hỏng.', 'Chất lượng âm thanh quá kém, không có bass và âm trầm.', 'Giao hàng muộn, sản phẩm đến tay tôi sau thời hạn đã hứa.', 'Dịch vụ giao hàng quá chậm, tôi đã phải đợi gần một tháng để nhận được đơn hàng của mình.'], 'neutral': ['Chất lượng âm thanh của tai nghe này trung bình, không có gì nổi bật.', 'Dịch vụ khách hàng ở đây khá ổn, không có gì đặc biệt nhưng cũng không gây thất vọng.', 'Tai nghe này không xuất sắc lắm, nhưng cũng không phải là điều tồi tệ nhất.', 'Tai nghe này không quá tốt nhưng cũng không quá tệ, chất lượng âm thanh ổn định.']}\"}, hash='78c583a840d3f77376c9bc97e48211f710235eac2a14cb62fa1c65816588acef'), <NodeRelationship.NEXT: '3'>: RelatedNodeInfo(node_id='5a78a576-f6ce-4db6-a2eb-612a4dd00ebb', node_type=<ObjectType.TEXT: '1'>, metadata={}, hash='e5e6dc51bfa862c5f588884237ec43f0ffa27d3071182dac3a17dcdab7f910f0')}, text='Với thiết kế cực kỳ gọn nhẹ cùng hàng loạt tính năng hiện đại, chiếc tai nghe Soundpeats sẽ mang tới cho người dùng những trải nghiệm âm thanh vô cùng sống động và lôi cuốn. Sở hữu thiết kế nhỏ gọn, tinh tế Ấn tượng đầu tiên của người dùng với sản phẩm tai nghe Bluetooth Soundpeats Life là ở vẻ ngoài hiện đại, sang trọng nhưng vẫn cực kỳ nhỏ gọn, tinh tế. Nhờ ưu điểm nổi trội này, người dùng có thể dễ dàng mang theo sản phẩm tới bất kỳ đâu. Xem thêm', start_char_idx=599, end_char_idx=1052, text_template='{metadata_str}\\n\\n{content}', metadata_template='{key}: {value}', metadata_seperator='\\n'), score=0.26940605)]"
            ]
          },
          "execution_count": 45,
          "metadata": {},
          "output_type": "execute_result"
        }
      ],
      "source": [
        "retriever.retrieve(\"những tai nghe dưới 700.000đ nên mua\")"
      ]
    },
    {
      "cell_type": "code",
      "execution_count": 46,
      "metadata": {
        "id": "DDRRI3r6NNVp"
      },
      "outputs": [],
      "source": [
        "\n",
        "def tool_get_RAG():\n",
        "    \"\"\"Returns the RAG\"\"\"\n",
        "    from llama_index.core.tools import QueryEngineTool\n",
        "    tool = QueryEngineTool.from_defaults(\n",
        "        query_engine,\n",
        "        name=\"VectorDB\",\n",
        "        description=\"Đây là công cụ tìm kiếm sản phẩm của cửa hàng cellphones\",\n",
        "    )\n",
        "    # run tool as langchain structured tool\n",
        "    lc_tool = tool.as_langchain_tool()\n",
        "    return lc_tool"
      ]
    },
    {
      "cell_type": "code",
      "execution_count": 47,
      "metadata": {},
      "outputs": [
        {
          "name": "stdout",
          "output_type": "stream",
          "text": [
            "Using query str: Những tai nghe nên mua\n",
            "Using filters: [('PRICE_REMAINING', '<', 700000)]\n",
            "**********\n",
            "Trace: query\n",
            "    |_query -> 9.811105 seconds\n",
            "      |_retrieve -> 3.722864 seconds\n",
            "        |_templating -> 2.6e-05 seconds\n",
            "        |_llm -> 3.241098 seconds\n",
            "      |_synthesize -> 6.081739 seconds\n",
            "        |_templating -> 3.4e-05 seconds\n",
            "        |_llm -> 6.059912 seconds\n",
            "**********\n"
          ]
        },
        {
          "data": {
            "text/plain": [
              "'- Tai nghe Bluetooth True Wireless SoundPEATS Free2 Classic (420.000đ)\\n- Tai nghe Bluetooth True Wireless SoundPEATS Clear (530.000đ)\\n- Tai nghe Bluetooth True Wireless SoundPEATS Mac (450.000đ)'"
            ]
          },
          "execution_count": 47,
          "metadata": {},
          "output_type": "execute_result"
        }
      ],
      "source": [
        "tool_get_RAG().invoke(\"Những tai nghe dưới 700.000đ nên mua\")"
      ]
    },
    {
      "cell_type": "markdown",
      "metadata": {
        "id": "93XLkVOUNNVq"
      },
      "source": [
        "# Agent\n"
      ]
    },
    {
      "cell_type": "code",
      "execution_count": 9,
      "metadata": {
        "id": "5Op9OrDYNNVq"
      },
      "outputs": [],
      "source": [
        "from config import GEMINI\n",
        "import os\n",
        "os.environ[\"GOOGLE_API_KEY\"] = GEMINI\n",
        "from langchain_google_genai import GoogleGenerativeAI\n",
        "\n",
        "llm = GoogleGenerativeAI(model=\"gemini-pro\")"
      ]
    },
    {
      "cell_type": "code",
      "execution_count": 13,
      "metadata": {
        "id": "7BraQrJZNNVq"
      },
      "outputs": [],
      "source": [
        "from langchain.agents import AgentExecutor\n",
        "from langchain_community.tools.tavily_search import TavilySearchResults\n",
        "from langchain_core.prompts import ChatPromptTemplate\n",
        "from langchain import hub\n",
        "from langchain.chains import LLMChain\n",
        "from langchain.agents import AgentExecutor, create_react_agent\n",
        "from langchain.memory import ConversationSummaryBufferMemory, ConversationBufferWindowMemory\n"
      ]
    },
    {
      "cell_type": "code",
      "execution_count": 14,
      "metadata": {
        "id": "XbLVrFgiNNVq"
      },
      "outputs": [],
      "source": [
        "from langchain_core.prompts import PromptTemplate\n",
        "\n",
        "classify_prompt = PromptTemplate.from_template(\n",
        "    \"\"\"Mục tiêu của bạn là tạo ra một câu trả lời được soạn thảo kỹ lưỡng cho một câu hỏi cụ thể.\n",
        "      Câu trả lời của bạn sẽ được sử dụng để tiếp cận hướng đi của mô hình LLM. Bạn sẽ được giao câu hỏi và mục tiêu của bạn là làm theo định dạng đầu ra bên dưới có hướng dẫn\n",
        "\n",
        "\n",
        "      Hướng dẫn lựa chọn câu trả lời\n",
        "      Định vị phương án đúng sao cho số lần xuất hiện ở mỗi vị trí có thể có trong mỗi câu trả lời là như nhau\n",
        "      Các lựa chọn trả lời phải được viết rõ ràng và giống nhau về nội dung, độ dài, và ngữ pháp; tránh đưa ra manh mối thông qua việc sử dụng cấu trúc ngữ pháp sai lầm\n",
        "      Làm cho tất cả những yếu tố gây phân tâm trở nên hợp lý; chúng phải là những quan niệm sai lầm phổ biến mà người học có thể mắc phải.\n",
        "      Trong các lựa chọn trả lời, hãy tránh sử dụng “tất cả những câu trên” và “không có câu nào ở trên,” \" điều này có thể dẫn đến mức hiệu suất cao hơn một cách giả tạo.\n",
        "      Trong các lựa chọn câu trả lời, hãy tránh tham chiếu đến các lựa chọn trả lời bằng chữ cái (ví dụ: “Cả A và B”), vì các câu trả lời của chúng tôi được chọn ngẫu nhiên\n",
        "      Khi sử dụng các tùy chọn số, các tùy chọn phải là được liệt kê theo thứ tự số và ở một định dạng duy nhất (tức là dưới dạng thuật ngữ hoặc phạm vi).\n",
        "      Nguyên tắc cơ bản\n",
        "      Tất cả cơ sở lý luận phải bắt đầu bằng các từ khóa trong câu trả lời.\n",
        "      Tất cả các lựa chọn trả lời (bao gồm (các) câu trả lời đúng và (các) câu trả lời gây phân tâm) phải có cơ sở lý luận riêng.\n",
        "      Các cơ sở lý luận phải là duy nhất cho mỗi phương án trả lời khi thích hợp. Lý do lý tưởng nhất cho người phân tâm là chỉ ra lỗi hiểu của người học và cung cấp ngữ cảnh để giúp họ quay lại và tìm ra họ nên chọn theo kết quả nào.\n",
        "      Các lý do không nên đề cập đến câu trả lời bằng chữ cái (ví dụ: “lựa chọn A không chính xác vì…”) vì các lựa chọn trả lời sẽ được chọn ngẫu nhiên trong hệ thống của chúng tôi.\n",
        "      Các lý do gây mất tập trung không được đưa ra câu trả lời đúng cho câu hỏi.Các câu hỏi trắc nghiệm hình thành (xuất hiện sau mỗi học phần) phải bao gồm một câu ở cuối mỗi lý do để hướng người học quay lại video liên quan để xem lại thông tin .\n",
        "      Ví dụ:\n",
        "Question: Tai nghe nào tốt nhất với giá dưới 1000k\"\n",
        "a. Đề xuất sản phẩm: Sử dụng lời nhắc này khi mục đích của người dùng là khám phá các sản phẩm mới hoặc tìm đề xuất dựa trên sở thích hoặc giao dịch mua trước đây của họ.\n",
        "         b. Truy xuất thông tin sản phẩm: Sử dụng lời nhắc này khi người dùng tìm kiếm thông tin chi tiết về một sản phẩm cụ thể, chẳng hạn như tính năng, thông số kỹ thuật hoặc đánh giá.\n",
        "         c. Câu hỏi thường gặp Trả lời: Sử dụng lời nhắc này khi truy vấn của người dùng phù hợp với các câu hỏi thường gặp hoặc giải quyết các vấn đề hỗ trợ kỹ thuật.\n",
        "         d. Thanh toán: Tận dụng lời nhắc này để tạo điều kiện thuận lợi cho quá trình mua hàng, bao gồm xử lý thông tin thanh toán, xác nhận đơn hàng và chi tiết giao hàng.\n",
        "         e. Khác: Sử dụng lời nhắc này cho các truy vấn không phù hợp với các danh mục trước đó, chẳng hạn như cung cấp hỗ trợ chung, cung cấp hỗ trợ quản lý tài khoản hoặc xử lý phản hồi.\n",
        "\n",
        "Answer: \"a. Khuyến nghị sản phẩm\"\n",
        "\n",
        "Explain: Mục đích của người dùng là khám phá các sản phẩm mới phù hợp với ngân sách và sở thích cụ thể của họ. Lời nhắc \"Khuyến nghị sản phẩm\" sẽ hướng dẫn hệ thống đề xuất tai nghe phù hợp dựa trên tiêu chí của người dùng.\n",
        "\n",
        "Ví dụ:\n",
        "\n",
        "Question: Cho tôi biết thêm thông tin về Sony WH-1000XM5\".\n",
        "a. Đề xuất sản phẩm: Sử dụng lời nhắc này khi mục đích của người dùng là khám phá các sản phẩm mới hoặc tìm đề xuất dựa trên sở thích hoặc giao dịch mua trước đây của họ.\n",
        "         b. Truy xuất thông tin sản phẩm: Sử dụng lời nhắc này khi người dùng tìm kiếm thông tin chi tiết về một sản phẩm cụ thể, chẳng hạn như tính năng, thông số kỹ thuật hoặc đánh giá.\n",
        "         c. Câu hỏi thường gặp Trả lời: Sử dụng lời nhắc này khi truy vấn của người dùng phù hợp với các câu hỏi thường gặp hoặc giải quyết các vấn đề hỗ trợ kỹ thuật.\n",
        "         d. Thanh toán: Tận dụng lời nhắc này để tạo điều kiện thuận lợi cho quá trình mua hàng, bao gồm xử lý thông tin thanh toán, xác nhận đơn hàng và chi tiết giao hàng.\n",
        "         e. Khác: Sử dụng lời nhắc này cho các truy vấn không phù hợp với các danh mục trước đó, chẳng hạn như cung cấp hỗ trợ chung, cung cấp hỗ trợ quản lý tài khoản hoặc xử lý phản hồi.\n",
        "Answer: \"b. Truy xuất thông tin sản phẩm\"\n",
        "\n",
        "Explain: Người dùng đang tìm kiếm thông tin chi tiết về một sản phẩm cụ thể, trong trường hợp này là tai nghe Sony WH-1000XM5. Lời nhắc \"Truy xuất thông tin sản phẩm\" sẽ hướng dẫn hệ thống cung cấp thông tin chi tiết toàn diện về sản phẩm, bao gồm các tính năng, thông số kỹ thuật, đánh giá và so sánh.\n",
        "\n",
        "\n",
        "Question: Người dùng gặp thông báo lỗi khi sử dụng ứng dụng phần mềm và hỏi \"Làm cách nào để sửa mã lỗi 404?\"\n",
        "a. Đề xuất sản phẩm: Sử dụng lời nhắc này khi mục đích của người dùng là khám phá các sản phẩm mới hoặc tìm đề xuất dựa trên sở thích hoặc giao dịch mua trước đây của họ.\n",
        "         b. Truy xuất thông tin sản phẩm: Sử dụng lời nhắc này khi người dùng tìm kiếm thông tin chi tiết về một sản phẩm cụ thể, chẳng hạn như tính năng, thông số kỹ thuật hoặc đánh giá.\n",
        "         c. Câu hỏi thường gặp Trả lời: Sử dụng lời nhắc này khi truy vấn của người dùng phù hợp với các câu hỏi thường gặp hoặc giải quyết các vấn đề hỗ trợ kỹ thuật.\n",
        "         d. Thanh toán: Tận dụng lời nhắc này để tạo điều kiện thuận lợi cho quá trình mua hàng, bao gồm xử lý thông tin thanh toán, xác nhận đơn hàng và chi tiết giao hàng.\n",
        "         e. Khác: Sử dụng lời nhắc này cho các truy vấn không phù hợp với các danh mục trước đó, chẳng hạn như cung cấp hỗ trợ chung, cung cấp hỗ trợ quản lý tài khoản hoặc xử lý phản hồi.\n",
        "Answer: \"c. Câu trả lời Câu hỏi thường gặp\"\n",
        "\n",
        "Explain: Truy vấn của người dùng phù hợp với câu hỏi thường gặp hoặc giải quyết vấn đề hỗ trợ kỹ thuật. Lời nhắc \"Câu hỏi thường gặp\" sẽ hướng dẫn hệ thống tìm kiếm các bài viết cơ sở kiến thức liên quan hoặc hướng dẫn khắc phục sự cố để hỗ trợ người dùng.\n",
        "\n",
        "\n",
        "Question: Một khách hàng đã thêm mặt hàng vào giỏ hàng và sẵn sàng tiến hành mua hàng. Họ bấm vào nút \"Thanh toán\".\n",
        "a. Đề xuất sản phẩm: Sử dụng lời nhắc này khi mục đích của người dùng là khám phá các sản phẩm mới hoặc tìm đề xuất dựa trên sở thích hoặc giao dịch mua trước đây của họ.\n",
        "         b. Truy xuất thông tin sản phẩm: Sử dụng lời nhắc này khi người dùng tìm kiếm thông tin chi tiết về một sản phẩm cụ thể, chẳng hạn như tính năng, thông số kỹ thuật hoặc đánh giá.\n",
        "         c. Câu hỏi thường gặp Trả lời: Sử dụng lời nhắc này khi truy vấn của người dùng phù hợp với các câu hỏi thường gặp hoặc giải quyết các vấn đề hỗ trợ kỹ thuật.\n",
        "         d. Thanh toán: Tận dụng lời nhắc này để tạo điều kiện thuận lợi cho quá trình mua hàng, bao gồm xử lý thông tin thanh toán, xác nhận đơn hàng và chi tiết giao hàng.\n",
        "         e. Khác: Sử dụng lời nhắc này cho các truy vấn không phù hợp với các danh mục trước đó, chẳng hạn như cung cấp hỗ trợ chung, cung cấp hỗ trợ quản lý tài khoản hoặc xử lý phản hồi.\n",
        "\n",
        "Answer: \"d. Thanh toán\"\n",
        "\n",
        "Explain: Người dùng đang bắt đầu quá trình mua hàng. Lời nhắc \"Thanh toán\" sẽ kích hoạt hệ thống hướng dẫn người dùng thực hiện các bước thanh toán, bao gồm xử lý thông tin thanh toán, xác nhận đơn hàng và chi tiết giao hàng.\n",
        "\n",
        "\n",
        "Question: Một người dùng muốn cung cấp phản hồi về sản phẩm họ đã mua gần đây và để lại nhận xét: \"Tôi rất hài lòng với chất lượng của sản phẩm này\".\n",
        "a. Đề xuất sản phẩm: Sử dụng lời nhắc này khi mục đích của người dùng là khám phá các sản phẩm mới hoặc tìm đề xuất dựa trên sở thích hoặc giao dịch mua trước đây của họ.\n",
        "         b. Truy xuất thông tin sản phẩm: Sử dụng lời nhắc này khi người dùng tìm kiếm thông tin chi tiết về một sản phẩm cụ thể, chẳng hạn như tính năng, thông số kỹ thuật hoặc đánh giá.\n",
        "         c. Câu hỏi thường gặp Trả lời: Sử dụng lời nhắc này khi truy vấn của người dùng phù hợp với các câu hỏi thường gặp hoặc giải quyết các vấn đề hỗ trợ kỹ thuật.\n",
        "         d. Thanh toán: Tận dụng lời nhắc này để tạo điều kiện thuận lợi cho quá trình mua hàng, bao gồm xử lý thông tin thanh toán, xác nhận đơn hàng và chi tiết giao hàng.\n",
        "         e. Khác: Sử dụng lời nhắc này cho các truy vấn không phù hợp với các danh mục trước đó, chẳng hạn như cung cấp hỗ trợ chung, cung cấp hỗ trợ quản lý tài khoản hoặc xử lý phản hồi.\n",
        "\n",
        "Answer: \"e. Khác\"\n",
        "\n",
        "Explain: Truy vấn của người dùng không phù hợp với các danh mục trước đó và nhằm mục đích cung cấp phản hồi hoặc hỗ trợ chung. Lời nhắc \"Khác\" sẽ cho phép hệ thống xử lý các tương tác đó một cách thích hợp.\n",
        "\n",
        "      Question: {question}\n",
        "      {context}\n",
        "      Answer:\n",
        "      Explain: \"\"\"\n",
        ")\n",
        "# Construct the JSON agent\n",
        "chain = LLMChain(llm=llm, prompt=classify_prompt)"
      ]
    },
    {
      "cell_type": "code",
      "execution_count": 15,
      "metadata": {
        "id": "edLln1YmNNVq",
        "outputId": "b7546660-1921-4ffe-fa25-e929f1fbc536"
      },
      "outputs": [
        {
          "name": "stdout",
          "output_type": "stream",
          "text": [
            "Lời nhắc \"Đề xuất sản phẩm\" phù hợp với mục đích của người dùng là khám phá các sản phẩm mới hoặc tìm đề xuất dựa trên sở thích hoặc giao dịch mua trước đây của họ.\n"
          ]
        }
      ],
      "source": [
        "def get_prompt_input(user_input: str):\n",
        "    # Construct the JSON agent\n",
        "    chain = LLMChain(llm=llm, prompt=classify_prompt)\n",
        "    return chain.invoke(\n",
        "        {\n",
        "            \"question\": f\"{user_input}\",\n",
        "            \"context\": \"\"\"a. Đề xuất sản phẩm: Sử dụng lời nhắc này khi mục đích của người dùng là khám phá các sản phẩm mới hoặc tìm đề xuất dựa trên sở thích hoặc giao dịch mua trước đây của họ.\n",
        "         b. Truy xuất thông tin sản phẩm: Sử dụng lời nhắc này khi người dùng tìm kiếm thông tin chi tiết về một sản phẩm cụ thể, chẳng hạn như tính năng, thông số kỹ thuật hoặc đánh giá.\n",
        "         c. Câu hỏi thường gặp Trả lời: Sử dụng lời nhắc này khi truy vấn của người dùng phù hợp với các câu hỏi thường gặp hoặc giải quyết các vấn đề hỗ trợ kỹ thuật, chính sách của các sản phẩm.\n",
        "         d. Thanh toán: Tận dụng lời nhắc này để tạo điều kiện thuận lợi cho quá trình mua hàng, bao gồm xử lý thông tin thanh toán, xác nhận đơn hàng và chi tiết giao hàng.\n",
        "         e. Khác: Sử dụng lời nhắc này cho các truy vấn không phù hợp với các danh mục trước đó, chẳng hạn như cung cấp hỗ trợ chung, cung cấp hỗ trợ quản lý tài khoản hoặc xử lý phản hồi.\"\"\",\n",
        "        }\n",
        "    )\n",
        "\n",
        "\n",
        "def handle_user_prompt(user_prompt):\n",
        "    user_prompt = user_prompt.splitlines()\n",
        "    return [\n",
        "        line.split(\": \", maxsplit=1)[1]\n",
        "        for line in user_prompt\n",
        "        if line.strip().startswith(\"Answer:\") or line.strip().startswith(\"Explain:\")\n",
        "    ]\n",
        "\n",
        "\n",
        "def handle_conversation_turn(user_input: str):\n",
        "    while True:\n",
        "        user_prompt = get_prompt_input(user_input)\n",
        "        return_prompt = handle_user_prompt(user_prompt[\"text\"])\n",
        "        if return_prompt is not None:\n",
        "            try:\n",
        "                if (\n",
        "                    \"Đề xuất sản phẩm\" in return_prompt[0]\n",
        "                    or \"Truy xuất thông tin sản phẩm\" in return_prompt[0]\n",
        "                    or \"Câu hỏi thường gặp Trả lời\" in return_prompt[0]\n",
        "                    or \"Thanh toán\" in return_prompt[0]\n",
        "                    or \"Khác\" in return_prompt[0]\n",
        "                ):\n",
        "                    if len(return_prompt) > 1:\n",
        "                        return return_prompt[-1]\n",
        "                    return return_prompt[0]\n",
        "            except:\n",
        "                print(\"Error\")\n",
        "\n",
        "\n",
        "tools = [tool_get_RAG()]\n",
        "\n",
        "\n",
        "def generate_agent(input):\n",
        "    user_prompt = handle_conversation_turn(input)\n",
        "    print(user_prompt)\n",
        "    react_prompt = PromptTemplate.from_template(\n",
        "        \"\"\"\n",
        "        Trợ lý được thiết kế để có thể hỗ trợ nhiều nhiệm vụ khác nhau, từ trả lời các câu hỏi đơn giản đến đưa ra những giải thích và thảo luận sâu sắc về nhiều chủ đề. Là một mô hình ngôn ngữ, Trợ lý có thể tạo văn bản giống con người dựa trên dữ liệu đầu vào mà nó nhận được, cho phép Trợ lý tham gia vào các cuộc trò chuyện có vẻ tự nhiên và đưa ra phản hồi mạch lạc và phù hợp với chủ đề hiện tại.\n",
        "\n",
        "        Trợ lý không ngừng học hỏi và cải tiến cũng như các khả năng của Trợ lý không ngừng phát triển. Nó có thể xử lý và hiểu một lượng lớn văn bản, đồng thời có thể sử dụng kiến thức này để đưa ra câu trả lời chính xác và giàu thông tin cho nhiều câu hỏi. Ngoài ra, Trợ lý có thể tạo văn bản riêng dựa trên thông tin đầu vào nhận được, cho phép Trợ lý tham gia vào các cuộc thảo luận và đưa ra lời giải thích cũng như mô tả về nhiều chủ đề.\n",
        "\n",
        "        Nhìn chung, Trợ lý là một công cụ mạnh mẽ {user_prompt}\n",
        "\n",
        "        CÔNG CỤ:\n",
        "        ------handle_react\n",
        "\n",
        "        Trợ lý có quyền truy cập vào các công cụ sau:\n",
        "\n",
        "        {tools}\n",
        "        Với truy xuất dữ liệu thì mô hình sẽ không tự đưa ra kết quả mà sẽ truy cập vào các công cụ truy xuất dữ liệu để lấy kết quả. Nếu không có thì hãy bảo người dùng nhập lại rõ ràng hơn\n",
        "        Để sử dụng một công cụ, vui lòng sử dụng định dạng sau:\n",
        "\n",
        "        ```\n",
        "        Thought: Tôi có cần sử dụng một công cụ không? Đúng\n",
        "        Action: hành động cần thực hiện, phải là một trong [{tool_names}]\n",
        "        Action Input: đầu vào của hành động\n",
        "        Observation: kết quả của hành động\n",
        "        ```\n",
        "\n",
        "        Khi bạn có câu trả lời muốn nói với Con người hoặc nếu bạn không cần sử dụng công cụ, bạn PHẢI sử dụng định dạng:\n",
        "\n",
        "        ```\n",
        "        Thought: Tôi có cần sử dụng một công cụ không? KHÔNG\n",
        "        Final Answer:[your answer here]\n",
        "        ```\n",
        "\n",
        "        Bắt đầu!\n",
        "\n",
        "        Lịch sử cuộc trò chuyện trước đây:\n",
        "        {chat_history}\n",
        "\n",
        "        Đầu vào mới: {input}\n",
        "        {agent_scratchpad}\n",
        "        \"\"\",\n",
        "        partial_variables = {\"user_prompt\": user_prompt}\n",
        "    )\n",
        "    # react_prompt.format(user_prompt=user_prompt)\n",
        "\n",
        "    # Construct the ReAct agent\n",
        "\n",
        "    #   Lịch sử cuộc trò chuyện trước đây:\n",
        "    #   {chat_history}\n",
        "    agent = create_react_agent(llm, tools, react_prompt)\n",
        "\n",
        "    # Create an agent executor by passing in the agent and tools\n",
        "    agent_executor = AgentExecutor(\n",
        "        agent=agent,\n",
        "        tools=tools,\n",
        "        verbose=True,\n",
        "        memory=ConversationBufferWindowMemory(\n",
        "           k=5, memory_key=\"chat_history\", return_messages=True\n",
        "        ),\n",
        "        handle_parsing_errors=True,\n",
        "    )\n",
        "    return agent_executor\n",
        "\n",
        "agent = generate_agent(input)\n",
        "def handle_react_chat(input):\n",
        "    print(agent.memory.load_memory_variables({}))\n",
        "    return agent.invoke({\"input\": input})"
      ]
    },
    {
      "cell_type": "code",
      "execution_count": 16,
      "metadata": {
        "id": "YN4CuWLjNNVq",
        "outputId": "790c98ce-4f00-42a6-9820-8890ac9102ec"
      },
      "outputs": [
        {
          "name": "stdout",
          "output_type": "stream",
          "text": [
            "{'chat_history': []}\n",
            "\n",
            "\n",
            "\u001b[1m> Entering new AgentExecutor chain...\u001b[0m\n",
            "\u001b[32;1m\u001b[1;3mThought: Tôi có cần sử dụng một công cụ không? Đúng\n",
            "        Action: VectorDB\n",
            "        Action Input: {\"query\": \"dưới 100k\", \"max_price\": 100000}\n",
            "        Observation: kết quả của hành động\u001b[0mUsing query str: dưới 100k\n",
            "Using filters: [('PRICE_REMAINING', '<', '100000')]\n",
            "**********\n",
            "Trace: query\n",
            "    |_query -> 3.348999 seconds\n",
            "      |_retrieve -> 3.348812 seconds\n",
            "        |_templating -> 1.2e-05 seconds\n",
            "        |_llm -> 3.330254 seconds\n",
            "**********\n"
          ]
        },
        {
          "ename": "ValueError",
          "evalue": "Vector Store only supports exact match filters. Please use ExactMatchFilter or FilterOperator.EQ instead.",
          "output_type": "error",
          "traceback": [
            "\u001b[0;31m---------------------------------------------------------------------------\u001b[0m",
            "\u001b[0;31mValueError\u001b[0m                                Traceback (most recent call last)",
            "Cell \u001b[0;32mIn[16], line 1\u001b[0m\n\u001b[0;32m----> 1\u001b[0m \u001b[43mhandle_react_chat\u001b[49m\u001b[43m(\u001b[49m\u001b[38;5;124;43m\"\u001b[39;49m\u001b[38;5;124;43mCho tôi sản phẩm dưới 100k\u001b[39;49m\u001b[38;5;124;43m\"\u001b[39;49m\u001b[43m)\u001b[49m\n",
            "Cell \u001b[0;32mIn[15], line 115\u001b[0m, in \u001b[0;36mhandle_react_chat\u001b[0;34m(input)\u001b[0m\n\u001b[1;32m    113\u001b[0m \u001b[38;5;28;01mdef\u001b[39;00m \u001b[38;5;21mhandle_react_chat\u001b[39m(\u001b[38;5;28minput\u001b[39m):\n\u001b[1;32m    114\u001b[0m     \u001b[38;5;28mprint\u001b[39m(agent\u001b[38;5;241m.\u001b[39mmemory\u001b[38;5;241m.\u001b[39mload_memory_variables({}))\n\u001b[0;32m--> 115\u001b[0m     \u001b[38;5;28;01mreturn\u001b[39;00m \u001b[43magent\u001b[49m\u001b[38;5;241;43m.\u001b[39;49m\u001b[43minvoke\u001b[49m\u001b[43m(\u001b[49m\u001b[43m{\u001b[49m\u001b[38;5;124;43m\"\u001b[39;49m\u001b[38;5;124;43minput\u001b[39;49m\u001b[38;5;124;43m\"\u001b[39;49m\u001b[43m:\u001b[49m\u001b[43m \u001b[49m\u001b[38;5;28;43minput\u001b[39;49m\u001b[43m}\u001b[49m\u001b[43m)\u001b[49m\n",
            "File \u001b[0;32m~/anaconda3/envs/LLMs/lib/python3.10/site-packages/langchain/chains/base.py:163\u001b[0m, in \u001b[0;36mChain.invoke\u001b[0;34m(self, input, config, **kwargs)\u001b[0m\n\u001b[1;32m    161\u001b[0m \u001b[38;5;28;01mexcept\u001b[39;00m \u001b[38;5;167;01mBaseException\u001b[39;00m \u001b[38;5;28;01mas\u001b[39;00m e:\n\u001b[1;32m    162\u001b[0m     run_manager\u001b[38;5;241m.\u001b[39mon_chain_error(e)\n\u001b[0;32m--> 163\u001b[0m     \u001b[38;5;28;01mraise\u001b[39;00m e\n\u001b[1;32m    164\u001b[0m run_manager\u001b[38;5;241m.\u001b[39mon_chain_end(outputs)\n\u001b[1;32m    166\u001b[0m \u001b[38;5;28;01mif\u001b[39;00m include_run_info:\n",
            "File \u001b[0;32m~/anaconda3/envs/LLMs/lib/python3.10/site-packages/langchain/chains/base.py:153\u001b[0m, in \u001b[0;36mChain.invoke\u001b[0;34m(self, input, config, **kwargs)\u001b[0m\n\u001b[1;32m    150\u001b[0m \u001b[38;5;28;01mtry\u001b[39;00m:\n\u001b[1;32m    151\u001b[0m     \u001b[38;5;28mself\u001b[39m\u001b[38;5;241m.\u001b[39m_validate_inputs(inputs)\n\u001b[1;32m    152\u001b[0m     outputs \u001b[38;5;241m=\u001b[39m (\n\u001b[0;32m--> 153\u001b[0m         \u001b[38;5;28;43mself\u001b[39;49m\u001b[38;5;241;43m.\u001b[39;49m\u001b[43m_call\u001b[49m\u001b[43m(\u001b[49m\u001b[43minputs\u001b[49m\u001b[43m,\u001b[49m\u001b[43m \u001b[49m\u001b[43mrun_manager\u001b[49m\u001b[38;5;241;43m=\u001b[39;49m\u001b[43mrun_manager\u001b[49m\u001b[43m)\u001b[49m\n\u001b[1;32m    154\u001b[0m         \u001b[38;5;28;01mif\u001b[39;00m new_arg_supported\n\u001b[1;32m    155\u001b[0m         \u001b[38;5;28;01melse\u001b[39;00m \u001b[38;5;28mself\u001b[39m\u001b[38;5;241m.\u001b[39m_call(inputs)\n\u001b[1;32m    156\u001b[0m     )\n\u001b[1;32m    158\u001b[0m     final_outputs: Dict[\u001b[38;5;28mstr\u001b[39m, Any] \u001b[38;5;241m=\u001b[39m \u001b[38;5;28mself\u001b[39m\u001b[38;5;241m.\u001b[39mprep_outputs(\n\u001b[1;32m    159\u001b[0m         inputs, outputs, return_only_outputs\n\u001b[1;32m    160\u001b[0m     )\n\u001b[1;32m    161\u001b[0m \u001b[38;5;28;01mexcept\u001b[39;00m \u001b[38;5;167;01mBaseException\u001b[39;00m \u001b[38;5;28;01mas\u001b[39;00m e:\n",
            "File \u001b[0;32m~/anaconda3/envs/LLMs/lib/python3.10/site-packages/langchain/agents/agent.py:1432\u001b[0m, in \u001b[0;36mAgentExecutor._call\u001b[0;34m(self, inputs, run_manager)\u001b[0m\n\u001b[1;32m   1430\u001b[0m \u001b[38;5;66;03m# We now enter the agent loop (until it returns something).\u001b[39;00m\n\u001b[1;32m   1431\u001b[0m \u001b[38;5;28;01mwhile\u001b[39;00m \u001b[38;5;28mself\u001b[39m\u001b[38;5;241m.\u001b[39m_should_continue(iterations, time_elapsed):\n\u001b[0;32m-> 1432\u001b[0m     next_step_output \u001b[38;5;241m=\u001b[39m \u001b[38;5;28;43mself\u001b[39;49m\u001b[38;5;241;43m.\u001b[39;49m\u001b[43m_take_next_step\u001b[49m\u001b[43m(\u001b[49m\n\u001b[1;32m   1433\u001b[0m \u001b[43m        \u001b[49m\u001b[43mname_to_tool_map\u001b[49m\u001b[43m,\u001b[49m\n\u001b[1;32m   1434\u001b[0m \u001b[43m        \u001b[49m\u001b[43mcolor_mapping\u001b[49m\u001b[43m,\u001b[49m\n\u001b[1;32m   1435\u001b[0m \u001b[43m        \u001b[49m\u001b[43minputs\u001b[49m\u001b[43m,\u001b[49m\n\u001b[1;32m   1436\u001b[0m \u001b[43m        \u001b[49m\u001b[43mintermediate_steps\u001b[49m\u001b[43m,\u001b[49m\n\u001b[1;32m   1437\u001b[0m \u001b[43m        \u001b[49m\u001b[43mrun_manager\u001b[49m\u001b[38;5;241;43m=\u001b[39;49m\u001b[43mrun_manager\u001b[49m\u001b[43m,\u001b[49m\n\u001b[1;32m   1438\u001b[0m \u001b[43m    \u001b[49m\u001b[43m)\u001b[49m\n\u001b[1;32m   1439\u001b[0m     \u001b[38;5;28;01mif\u001b[39;00m \u001b[38;5;28misinstance\u001b[39m(next_step_output, AgentFinish):\n\u001b[1;32m   1440\u001b[0m         \u001b[38;5;28;01mreturn\u001b[39;00m \u001b[38;5;28mself\u001b[39m\u001b[38;5;241m.\u001b[39m_return(\n\u001b[1;32m   1441\u001b[0m             next_step_output, intermediate_steps, run_manager\u001b[38;5;241m=\u001b[39mrun_manager\n\u001b[1;32m   1442\u001b[0m         )\n",
            "File \u001b[0;32m~/anaconda3/envs/LLMs/lib/python3.10/site-packages/langchain/agents/agent.py:1138\u001b[0m, in \u001b[0;36mAgentExecutor._take_next_step\u001b[0;34m(self, name_to_tool_map, color_mapping, inputs, intermediate_steps, run_manager)\u001b[0m\n\u001b[1;32m   1129\u001b[0m \u001b[38;5;28;01mdef\u001b[39;00m \u001b[38;5;21m_take_next_step\u001b[39m(\n\u001b[1;32m   1130\u001b[0m     \u001b[38;5;28mself\u001b[39m,\n\u001b[1;32m   1131\u001b[0m     name_to_tool_map: Dict[\u001b[38;5;28mstr\u001b[39m, BaseTool],\n\u001b[0;32m   (...)\u001b[0m\n\u001b[1;32m   1135\u001b[0m     run_manager: Optional[CallbackManagerForChainRun] \u001b[38;5;241m=\u001b[39m \u001b[38;5;28;01mNone\u001b[39;00m,\n\u001b[1;32m   1136\u001b[0m ) \u001b[38;5;241m-\u001b[39m\u001b[38;5;241m>\u001b[39m Union[AgentFinish, List[Tuple[AgentAction, \u001b[38;5;28mstr\u001b[39m]]]:\n\u001b[1;32m   1137\u001b[0m     \u001b[38;5;28;01mreturn\u001b[39;00m \u001b[38;5;28mself\u001b[39m\u001b[38;5;241m.\u001b[39m_consume_next_step(\n\u001b[0;32m-> 1138\u001b[0m         [\n\u001b[1;32m   1139\u001b[0m             a\n\u001b[1;32m   1140\u001b[0m             \u001b[38;5;28;01mfor\u001b[39;00m a \u001b[38;5;129;01min\u001b[39;00m \u001b[38;5;28mself\u001b[39m\u001b[38;5;241m.\u001b[39m_iter_next_step(\n\u001b[1;32m   1141\u001b[0m                 name_to_tool_map,\n\u001b[1;32m   1142\u001b[0m                 color_mapping,\n\u001b[1;32m   1143\u001b[0m                 inputs,\n\u001b[1;32m   1144\u001b[0m                 intermediate_steps,\n\u001b[1;32m   1145\u001b[0m                 run_manager,\n\u001b[1;32m   1146\u001b[0m             )\n\u001b[1;32m   1147\u001b[0m         ]\n\u001b[1;32m   1148\u001b[0m     )\n",
            "File \u001b[0;32m~/anaconda3/envs/LLMs/lib/python3.10/site-packages/langchain/agents/agent.py:1138\u001b[0m, in \u001b[0;36m<listcomp>\u001b[0;34m(.0)\u001b[0m\n\u001b[1;32m   1129\u001b[0m \u001b[38;5;28;01mdef\u001b[39;00m \u001b[38;5;21m_take_next_step\u001b[39m(\n\u001b[1;32m   1130\u001b[0m     \u001b[38;5;28mself\u001b[39m,\n\u001b[1;32m   1131\u001b[0m     name_to_tool_map: Dict[\u001b[38;5;28mstr\u001b[39m, BaseTool],\n\u001b[0;32m   (...)\u001b[0m\n\u001b[1;32m   1135\u001b[0m     run_manager: Optional[CallbackManagerForChainRun] \u001b[38;5;241m=\u001b[39m \u001b[38;5;28;01mNone\u001b[39;00m,\n\u001b[1;32m   1136\u001b[0m ) \u001b[38;5;241m-\u001b[39m\u001b[38;5;241m>\u001b[39m Union[AgentFinish, List[Tuple[AgentAction, \u001b[38;5;28mstr\u001b[39m]]]:\n\u001b[1;32m   1137\u001b[0m     \u001b[38;5;28;01mreturn\u001b[39;00m \u001b[38;5;28mself\u001b[39m\u001b[38;5;241m.\u001b[39m_consume_next_step(\n\u001b[0;32m-> 1138\u001b[0m         [\n\u001b[1;32m   1139\u001b[0m             a\n\u001b[1;32m   1140\u001b[0m             \u001b[38;5;28;01mfor\u001b[39;00m a \u001b[38;5;129;01min\u001b[39;00m \u001b[38;5;28mself\u001b[39m\u001b[38;5;241m.\u001b[39m_iter_next_step(\n\u001b[1;32m   1141\u001b[0m                 name_to_tool_map,\n\u001b[1;32m   1142\u001b[0m                 color_mapping,\n\u001b[1;32m   1143\u001b[0m                 inputs,\n\u001b[1;32m   1144\u001b[0m                 intermediate_steps,\n\u001b[1;32m   1145\u001b[0m                 run_manager,\n\u001b[1;32m   1146\u001b[0m             )\n\u001b[1;32m   1147\u001b[0m         ]\n\u001b[1;32m   1148\u001b[0m     )\n",
            "File \u001b[0;32m~/anaconda3/envs/LLMs/lib/python3.10/site-packages/langchain/agents/agent.py:1223\u001b[0m, in \u001b[0;36mAgentExecutor._iter_next_step\u001b[0;34m(self, name_to_tool_map, color_mapping, inputs, intermediate_steps, run_manager)\u001b[0m\n\u001b[1;32m   1221\u001b[0m     \u001b[38;5;28;01myield\u001b[39;00m agent_action\n\u001b[1;32m   1222\u001b[0m \u001b[38;5;28;01mfor\u001b[39;00m agent_action \u001b[38;5;129;01min\u001b[39;00m actions:\n\u001b[0;32m-> 1223\u001b[0m     \u001b[38;5;28;01myield\u001b[39;00m \u001b[38;5;28;43mself\u001b[39;49m\u001b[38;5;241;43m.\u001b[39;49m\u001b[43m_perform_agent_action\u001b[49m\u001b[43m(\u001b[49m\n\u001b[1;32m   1224\u001b[0m \u001b[43m        \u001b[49m\u001b[43mname_to_tool_map\u001b[49m\u001b[43m,\u001b[49m\u001b[43m \u001b[49m\u001b[43mcolor_mapping\u001b[49m\u001b[43m,\u001b[49m\u001b[43m \u001b[49m\u001b[43magent_action\u001b[49m\u001b[43m,\u001b[49m\u001b[43m \u001b[49m\u001b[43mrun_manager\u001b[49m\n\u001b[1;32m   1225\u001b[0m \u001b[43m    \u001b[49m\u001b[43m)\u001b[49m\n",
            "File \u001b[0;32m~/anaconda3/envs/LLMs/lib/python3.10/site-packages/langchain/agents/agent.py:1245\u001b[0m, in \u001b[0;36mAgentExecutor._perform_agent_action\u001b[0;34m(self, name_to_tool_map, color_mapping, agent_action, run_manager)\u001b[0m\n\u001b[1;32m   1243\u001b[0m         tool_run_kwargs[\u001b[38;5;124m\"\u001b[39m\u001b[38;5;124mllm_prefix\u001b[39m\u001b[38;5;124m\"\u001b[39m] \u001b[38;5;241m=\u001b[39m \u001b[38;5;124m\"\u001b[39m\u001b[38;5;124m\"\u001b[39m\n\u001b[1;32m   1244\u001b[0m     \u001b[38;5;66;03m# We then call the tool on the tool input to get an observation\u001b[39;00m\n\u001b[0;32m-> 1245\u001b[0m     observation \u001b[38;5;241m=\u001b[39m \u001b[43mtool\u001b[49m\u001b[38;5;241;43m.\u001b[39;49m\u001b[43mrun\u001b[49m\u001b[43m(\u001b[49m\n\u001b[1;32m   1246\u001b[0m \u001b[43m        \u001b[49m\u001b[43magent_action\u001b[49m\u001b[38;5;241;43m.\u001b[39;49m\u001b[43mtool_input\u001b[49m\u001b[43m,\u001b[49m\n\u001b[1;32m   1247\u001b[0m \u001b[43m        \u001b[49m\u001b[43mverbose\u001b[49m\u001b[38;5;241;43m=\u001b[39;49m\u001b[38;5;28;43mself\u001b[39;49m\u001b[38;5;241;43m.\u001b[39;49m\u001b[43mverbose\u001b[49m\u001b[43m,\u001b[49m\n\u001b[1;32m   1248\u001b[0m \u001b[43m        \u001b[49m\u001b[43mcolor\u001b[49m\u001b[38;5;241;43m=\u001b[39;49m\u001b[43mcolor\u001b[49m\u001b[43m,\u001b[49m\n\u001b[1;32m   1249\u001b[0m \u001b[43m        \u001b[49m\u001b[43mcallbacks\u001b[49m\u001b[38;5;241;43m=\u001b[39;49m\u001b[43mrun_manager\u001b[49m\u001b[38;5;241;43m.\u001b[39;49m\u001b[43mget_child\u001b[49m\u001b[43m(\u001b[49m\u001b[43m)\u001b[49m\u001b[43m \u001b[49m\u001b[38;5;28;43;01mif\u001b[39;49;00m\u001b[43m \u001b[49m\u001b[43mrun_manager\u001b[49m\u001b[43m \u001b[49m\u001b[38;5;28;43;01melse\u001b[39;49;00m\u001b[43m \u001b[49m\u001b[38;5;28;43;01mNone\u001b[39;49;00m\u001b[43m,\u001b[49m\n\u001b[1;32m   1250\u001b[0m \u001b[43m        \u001b[49m\u001b[38;5;241;43m*\u001b[39;49m\u001b[38;5;241;43m*\u001b[39;49m\u001b[43mtool_run_kwargs\u001b[49m\u001b[43m,\u001b[49m\n\u001b[1;32m   1251\u001b[0m \u001b[43m    \u001b[49m\u001b[43m)\u001b[49m\n\u001b[1;32m   1252\u001b[0m \u001b[38;5;28;01melse\u001b[39;00m:\n\u001b[1;32m   1253\u001b[0m     tool_run_kwargs \u001b[38;5;241m=\u001b[39m \u001b[38;5;28mself\u001b[39m\u001b[38;5;241m.\u001b[39magent\u001b[38;5;241m.\u001b[39mtool_run_logging_kwargs()\n",
            "File \u001b[0;32m~/anaconda3/envs/LLMs/lib/python3.10/site-packages/langchain_core/tools.py:452\u001b[0m, in \u001b[0;36mBaseTool.run\u001b[0;34m(self, tool_input, verbose, start_color, color, callbacks, tags, metadata, run_name, run_id, config, **kwargs)\u001b[0m\n\u001b[1;32m    450\u001b[0m \u001b[38;5;28;01mexcept\u001b[39;00m (\u001b[38;5;167;01mException\u001b[39;00m, \u001b[38;5;167;01mKeyboardInterrupt\u001b[39;00m) \u001b[38;5;28;01mas\u001b[39;00m e:\n\u001b[1;32m    451\u001b[0m     run_manager\u001b[38;5;241m.\u001b[39mon_tool_error(e)\n\u001b[0;32m--> 452\u001b[0m     \u001b[38;5;28;01mraise\u001b[39;00m e\n\u001b[1;32m    453\u001b[0m \u001b[38;5;28;01melse\u001b[39;00m:\n\u001b[1;32m    454\u001b[0m     run_manager\u001b[38;5;241m.\u001b[39mon_tool_end(observation, color\u001b[38;5;241m=\u001b[39mcolor, name\u001b[38;5;241m=\u001b[39m\u001b[38;5;28mself\u001b[39m\u001b[38;5;241m.\u001b[39mname, \u001b[38;5;241m*\u001b[39m\u001b[38;5;241m*\u001b[39mkwargs)\n",
            "File \u001b[0;32m~/anaconda3/envs/LLMs/lib/python3.10/site-packages/langchain_core/tools.py:413\u001b[0m, in \u001b[0;36mBaseTool.run\u001b[0;34m(self, tool_input, verbose, start_color, color, callbacks, tags, metadata, run_name, run_id, config, **kwargs)\u001b[0m\n\u001b[1;32m    406\u001b[0m     parsed_input \u001b[38;5;241m=\u001b[39m \u001b[38;5;28mself\u001b[39m\u001b[38;5;241m.\u001b[39m_parse_input(tool_input)\n\u001b[1;32m    407\u001b[0m     tool_args, tool_kwargs \u001b[38;5;241m=\u001b[39m \u001b[38;5;28mself\u001b[39m\u001b[38;5;241m.\u001b[39m_to_args_and_kwargs(parsed_input)\n\u001b[1;32m    408\u001b[0m     observation \u001b[38;5;241m=\u001b[39m (\n\u001b[1;32m    409\u001b[0m         context\u001b[38;5;241m.\u001b[39mrun(\n\u001b[1;32m    410\u001b[0m             \u001b[38;5;28mself\u001b[39m\u001b[38;5;241m.\u001b[39m_run, \u001b[38;5;241m*\u001b[39mtool_args, run_manager\u001b[38;5;241m=\u001b[39mrun_manager, \u001b[38;5;241m*\u001b[39m\u001b[38;5;241m*\u001b[39mtool_kwargs\n\u001b[1;32m    411\u001b[0m         )\n\u001b[1;32m    412\u001b[0m         \u001b[38;5;28;01mif\u001b[39;00m new_arg_supported\n\u001b[0;32m--> 413\u001b[0m         \u001b[38;5;28;01melse\u001b[39;00m \u001b[43mcontext\u001b[49m\u001b[38;5;241;43m.\u001b[39;49m\u001b[43mrun\u001b[49m\u001b[43m(\u001b[49m\u001b[38;5;28;43mself\u001b[39;49m\u001b[38;5;241;43m.\u001b[39;49m\u001b[43m_run\u001b[49m\u001b[43m,\u001b[49m\u001b[43m \u001b[49m\u001b[38;5;241;43m*\u001b[39;49m\u001b[43mtool_args\u001b[49m\u001b[43m,\u001b[49m\u001b[43m \u001b[49m\u001b[38;5;241;43m*\u001b[39;49m\u001b[38;5;241;43m*\u001b[39;49m\u001b[43mtool_kwargs\u001b[49m\u001b[43m)\u001b[49m\n\u001b[1;32m    414\u001b[0m     )\n\u001b[1;32m    415\u001b[0m \u001b[38;5;28;01mexcept\u001b[39;00m ValidationError \u001b[38;5;28;01mas\u001b[39;00m e:\n\u001b[1;32m    416\u001b[0m     \u001b[38;5;28;01mif\u001b[39;00m \u001b[38;5;129;01mnot\u001b[39;00m \u001b[38;5;28mself\u001b[39m\u001b[38;5;241m.\u001b[39mhandle_validation_error:\n",
            "File \u001b[0;32m~/anaconda3/envs/LLMs/lib/python3.10/site-packages/llama_index/core/langchain_helpers/agents/tools.py:63\u001b[0m, in \u001b[0;36mLlamaIndexTool._run\u001b[0;34m(self, input)\u001b[0m\n\u001b[1;32m     62\u001b[0m \u001b[38;5;28;01mdef\u001b[39;00m \u001b[38;5;21m_run\u001b[39m(\u001b[38;5;28mself\u001b[39m, \u001b[38;5;28minput\u001b[39m: \u001b[38;5;28mstr\u001b[39m) \u001b[38;5;241m-\u001b[39m\u001b[38;5;241m>\u001b[39m \u001b[38;5;28mstr\u001b[39m:\n\u001b[0;32m---> 63\u001b[0m     response \u001b[38;5;241m=\u001b[39m \u001b[38;5;28;43mself\u001b[39;49m\u001b[38;5;241;43m.\u001b[39;49m\u001b[43mquery_engine\u001b[49m\u001b[38;5;241;43m.\u001b[39;49m\u001b[43mquery\u001b[49m\u001b[43m(\u001b[49m\u001b[38;5;28;43minput\u001b[39;49m\u001b[43m)\u001b[49m\n\u001b[1;32m     64\u001b[0m     \u001b[38;5;28;01mif\u001b[39;00m \u001b[38;5;28mself\u001b[39m\u001b[38;5;241m.\u001b[39mreturn_sources:\n\u001b[1;32m     65\u001b[0m         \u001b[38;5;28;01mreturn\u001b[39;00m _get_response_with_sources(response)\n",
            "File \u001b[0;32m~/anaconda3/envs/LLMs/lib/python3.10/site-packages/llama_index/core/instrumentation/dispatcher.py:274\u001b[0m, in \u001b[0;36mDispatcher.span.<locals>.wrapper\u001b[0;34m(func, instance, args, kwargs)\u001b[0m\n\u001b[1;32m    270\u001b[0m \u001b[38;5;28mself\u001b[39m\u001b[38;5;241m.\u001b[39mspan_enter(\n\u001b[1;32m    271\u001b[0m     id_\u001b[38;5;241m=\u001b[39mid_, bound_args\u001b[38;5;241m=\u001b[39mbound_args, instance\u001b[38;5;241m=\u001b[39minstance, parent_id\u001b[38;5;241m=\u001b[39mparent_id\n\u001b[1;32m    272\u001b[0m )\n\u001b[1;32m    273\u001b[0m \u001b[38;5;28;01mtry\u001b[39;00m:\n\u001b[0;32m--> 274\u001b[0m     result \u001b[38;5;241m=\u001b[39m \u001b[43mfunc\u001b[49m\u001b[43m(\u001b[49m\u001b[38;5;241;43m*\u001b[39;49m\u001b[43margs\u001b[49m\u001b[43m,\u001b[49m\u001b[43m \u001b[49m\u001b[38;5;241;43m*\u001b[39;49m\u001b[38;5;241;43m*\u001b[39;49m\u001b[43mkwargs\u001b[49m\u001b[43m)\u001b[49m\n\u001b[1;32m    275\u001b[0m \u001b[38;5;28;01mexcept\u001b[39;00m \u001b[38;5;167;01mBaseException\u001b[39;00m \u001b[38;5;28;01mas\u001b[39;00m e:\n\u001b[1;32m    276\u001b[0m     \u001b[38;5;28mself\u001b[39m\u001b[38;5;241m.\u001b[39mevent(SpanDropEvent(span_id\u001b[38;5;241m=\u001b[39mid_, err_str\u001b[38;5;241m=\u001b[39m\u001b[38;5;28mstr\u001b[39m(e)))\n",
            "File \u001b[0;32m~/anaconda3/envs/LLMs/lib/python3.10/site-packages/llama_index/core/base/base_query_engine.py:53\u001b[0m, in \u001b[0;36mBaseQueryEngine.query\u001b[0;34m(self, str_or_query_bundle)\u001b[0m\n\u001b[1;32m     51\u001b[0m     \u001b[38;5;28;01mif\u001b[39;00m \u001b[38;5;28misinstance\u001b[39m(str_or_query_bundle, \u001b[38;5;28mstr\u001b[39m):\n\u001b[1;32m     52\u001b[0m         str_or_query_bundle \u001b[38;5;241m=\u001b[39m QueryBundle(str_or_query_bundle)\n\u001b[0;32m---> 53\u001b[0m     query_result \u001b[38;5;241m=\u001b[39m \u001b[38;5;28;43mself\u001b[39;49m\u001b[38;5;241;43m.\u001b[39;49m\u001b[43m_query\u001b[49m\u001b[43m(\u001b[49m\u001b[43mstr_or_query_bundle\u001b[49m\u001b[43m)\u001b[49m\n\u001b[1;32m     54\u001b[0m dispatch_event(QueryEndEvent())\n\u001b[1;32m     55\u001b[0m \u001b[38;5;28;01mreturn\u001b[39;00m query_result\n",
            "File \u001b[0;32m~/anaconda3/envs/LLMs/lib/python3.10/site-packages/llama_index/core/instrumentation/dispatcher.py:274\u001b[0m, in \u001b[0;36mDispatcher.span.<locals>.wrapper\u001b[0;34m(func, instance, args, kwargs)\u001b[0m\n\u001b[1;32m    270\u001b[0m \u001b[38;5;28mself\u001b[39m\u001b[38;5;241m.\u001b[39mspan_enter(\n\u001b[1;32m    271\u001b[0m     id_\u001b[38;5;241m=\u001b[39mid_, bound_args\u001b[38;5;241m=\u001b[39mbound_args, instance\u001b[38;5;241m=\u001b[39minstance, parent_id\u001b[38;5;241m=\u001b[39mparent_id\n\u001b[1;32m    272\u001b[0m )\n\u001b[1;32m    273\u001b[0m \u001b[38;5;28;01mtry\u001b[39;00m:\n\u001b[0;32m--> 274\u001b[0m     result \u001b[38;5;241m=\u001b[39m \u001b[43mfunc\u001b[49m\u001b[43m(\u001b[49m\u001b[38;5;241;43m*\u001b[39;49m\u001b[43margs\u001b[49m\u001b[43m,\u001b[49m\u001b[43m \u001b[49m\u001b[38;5;241;43m*\u001b[39;49m\u001b[38;5;241;43m*\u001b[39;49m\u001b[43mkwargs\u001b[49m\u001b[43m)\u001b[49m\n\u001b[1;32m    275\u001b[0m \u001b[38;5;28;01mexcept\u001b[39;00m \u001b[38;5;167;01mBaseException\u001b[39;00m \u001b[38;5;28;01mas\u001b[39;00m e:\n\u001b[1;32m    276\u001b[0m     \u001b[38;5;28mself\u001b[39m\u001b[38;5;241m.\u001b[39mevent(SpanDropEvent(span_id\u001b[38;5;241m=\u001b[39mid_, err_str\u001b[38;5;241m=\u001b[39m\u001b[38;5;28mstr\u001b[39m(e)))\n",
            "File \u001b[0;32m~/anaconda3/envs/LLMs/lib/python3.10/site-packages/llama_index/core/query_engine/retriever_query_engine.py:189\u001b[0m, in \u001b[0;36mRetrieverQueryEngine._query\u001b[0;34m(self, query_bundle)\u001b[0m\n\u001b[1;32m    185\u001b[0m \u001b[38;5;250m\u001b[39m\u001b[38;5;124;03m\"\"\"Answer a query.\"\"\"\u001b[39;00m\n\u001b[1;32m    186\u001b[0m \u001b[38;5;28;01mwith\u001b[39;00m \u001b[38;5;28mself\u001b[39m\u001b[38;5;241m.\u001b[39mcallback_manager\u001b[38;5;241m.\u001b[39mevent(\n\u001b[1;32m    187\u001b[0m     CBEventType\u001b[38;5;241m.\u001b[39mQUERY, payload\u001b[38;5;241m=\u001b[39m{EventPayload\u001b[38;5;241m.\u001b[39mQUERY_STR: query_bundle\u001b[38;5;241m.\u001b[39mquery_str}\n\u001b[1;32m    188\u001b[0m ) \u001b[38;5;28;01mas\u001b[39;00m query_event:\n\u001b[0;32m--> 189\u001b[0m     nodes \u001b[38;5;241m=\u001b[39m \u001b[38;5;28;43mself\u001b[39;49m\u001b[38;5;241;43m.\u001b[39;49m\u001b[43mretrieve\u001b[49m\u001b[43m(\u001b[49m\u001b[43mquery_bundle\u001b[49m\u001b[43m)\u001b[49m\n\u001b[1;32m    190\u001b[0m     response \u001b[38;5;241m=\u001b[39m \u001b[38;5;28mself\u001b[39m\u001b[38;5;241m.\u001b[39m_response_synthesizer\u001b[38;5;241m.\u001b[39msynthesize(\n\u001b[1;32m    191\u001b[0m         query\u001b[38;5;241m=\u001b[39mquery_bundle,\n\u001b[1;32m    192\u001b[0m         nodes\u001b[38;5;241m=\u001b[39mnodes,\n\u001b[1;32m    193\u001b[0m     )\n\u001b[1;32m    194\u001b[0m     query_event\u001b[38;5;241m.\u001b[39mon_end(payload\u001b[38;5;241m=\u001b[39m{EventPayload\u001b[38;5;241m.\u001b[39mRESPONSE: response})\n",
            "File \u001b[0;32m~/anaconda3/envs/LLMs/lib/python3.10/site-packages/llama_index/core/query_engine/retriever_query_engine.py:144\u001b[0m, in \u001b[0;36mRetrieverQueryEngine.retrieve\u001b[0;34m(self, query_bundle)\u001b[0m\n\u001b[1;32m    143\u001b[0m \u001b[38;5;28;01mdef\u001b[39;00m \u001b[38;5;21mretrieve\u001b[39m(\u001b[38;5;28mself\u001b[39m, query_bundle: QueryBundle) \u001b[38;5;241m-\u001b[39m\u001b[38;5;241m>\u001b[39m List[NodeWithScore]:\n\u001b[0;32m--> 144\u001b[0m     nodes \u001b[38;5;241m=\u001b[39m \u001b[38;5;28;43mself\u001b[39;49m\u001b[38;5;241;43m.\u001b[39;49m\u001b[43m_retriever\u001b[49m\u001b[38;5;241;43m.\u001b[39;49m\u001b[43mretrieve\u001b[49m\u001b[43m(\u001b[49m\u001b[43mquery_bundle\u001b[49m\u001b[43m)\u001b[49m\n\u001b[1;32m    145\u001b[0m     \u001b[38;5;28;01mreturn\u001b[39;00m \u001b[38;5;28mself\u001b[39m\u001b[38;5;241m.\u001b[39m_apply_node_postprocessors(nodes, query_bundle\u001b[38;5;241m=\u001b[39mquery_bundle)\n",
            "File \u001b[0;32m~/anaconda3/envs/LLMs/lib/python3.10/site-packages/llama_index/core/instrumentation/dispatcher.py:274\u001b[0m, in \u001b[0;36mDispatcher.span.<locals>.wrapper\u001b[0;34m(func, instance, args, kwargs)\u001b[0m\n\u001b[1;32m    270\u001b[0m \u001b[38;5;28mself\u001b[39m\u001b[38;5;241m.\u001b[39mspan_enter(\n\u001b[1;32m    271\u001b[0m     id_\u001b[38;5;241m=\u001b[39mid_, bound_args\u001b[38;5;241m=\u001b[39mbound_args, instance\u001b[38;5;241m=\u001b[39minstance, parent_id\u001b[38;5;241m=\u001b[39mparent_id\n\u001b[1;32m    272\u001b[0m )\n\u001b[1;32m    273\u001b[0m \u001b[38;5;28;01mtry\u001b[39;00m:\n\u001b[0;32m--> 274\u001b[0m     result \u001b[38;5;241m=\u001b[39m \u001b[43mfunc\u001b[49m\u001b[43m(\u001b[49m\u001b[38;5;241;43m*\u001b[39;49m\u001b[43margs\u001b[49m\u001b[43m,\u001b[49m\u001b[43m \u001b[49m\u001b[38;5;241;43m*\u001b[39;49m\u001b[38;5;241;43m*\u001b[39;49m\u001b[43mkwargs\u001b[49m\u001b[43m)\u001b[49m\n\u001b[1;32m    275\u001b[0m \u001b[38;5;28;01mexcept\u001b[39;00m \u001b[38;5;167;01mBaseException\u001b[39;00m \u001b[38;5;28;01mas\u001b[39;00m e:\n\u001b[1;32m    276\u001b[0m     \u001b[38;5;28mself\u001b[39m\u001b[38;5;241m.\u001b[39mevent(SpanDropEvent(span_id\u001b[38;5;241m=\u001b[39mid_, err_str\u001b[38;5;241m=\u001b[39m\u001b[38;5;28mstr\u001b[39m(e)))\n",
            "File \u001b[0;32m~/anaconda3/envs/LLMs/lib/python3.10/site-packages/llama_index/core/base/base_retriever.py:244\u001b[0m, in \u001b[0;36mBaseRetriever.retrieve\u001b[0;34m(self, str_or_query_bundle)\u001b[0m\n\u001b[1;32m    239\u001b[0m \u001b[38;5;28;01mwith\u001b[39;00m \u001b[38;5;28mself\u001b[39m\u001b[38;5;241m.\u001b[39mcallback_manager\u001b[38;5;241m.\u001b[39mas_trace(\u001b[38;5;124m\"\u001b[39m\u001b[38;5;124mquery\u001b[39m\u001b[38;5;124m\"\u001b[39m):\n\u001b[1;32m    240\u001b[0m     \u001b[38;5;28;01mwith\u001b[39;00m \u001b[38;5;28mself\u001b[39m\u001b[38;5;241m.\u001b[39mcallback_manager\u001b[38;5;241m.\u001b[39mevent(\n\u001b[1;32m    241\u001b[0m         CBEventType\u001b[38;5;241m.\u001b[39mRETRIEVE,\n\u001b[1;32m    242\u001b[0m         payload\u001b[38;5;241m=\u001b[39m{EventPayload\u001b[38;5;241m.\u001b[39mQUERY_STR: query_bundle\u001b[38;5;241m.\u001b[39mquery_str},\n\u001b[1;32m    243\u001b[0m     ) \u001b[38;5;28;01mas\u001b[39;00m retrieve_event:\n\u001b[0;32m--> 244\u001b[0m         nodes \u001b[38;5;241m=\u001b[39m \u001b[38;5;28;43mself\u001b[39;49m\u001b[38;5;241;43m.\u001b[39;49m\u001b[43m_retrieve\u001b[49m\u001b[43m(\u001b[49m\u001b[43mquery_bundle\u001b[49m\u001b[43m)\u001b[49m\n\u001b[1;32m    245\u001b[0m         nodes \u001b[38;5;241m=\u001b[39m \u001b[38;5;28mself\u001b[39m\u001b[38;5;241m.\u001b[39m_handle_recursive_retrieval(query_bundle, nodes)\n\u001b[1;32m    246\u001b[0m         retrieve_event\u001b[38;5;241m.\u001b[39mon_end(\n\u001b[1;32m    247\u001b[0m             payload\u001b[38;5;241m=\u001b[39m{EventPayload\u001b[38;5;241m.\u001b[39mNODES: nodes},\n\u001b[1;32m    248\u001b[0m         )\n",
            "File \u001b[0;32m~/anaconda3/envs/LLMs/lib/python3.10/site-packages/llama_index/core/base/base_auto_retriever.py:37\u001b[0m, in \u001b[0;36mBaseAutoRetriever._retrieve\u001b[0;34m(self, query_bundle)\u001b[0m\n\u001b[1;32m     35\u001b[0m retrieval_spec \u001b[38;5;241m=\u001b[39m \u001b[38;5;28mself\u001b[39m\u001b[38;5;241m.\u001b[39mgenerate_retrieval_spec(query_bundle)\n\u001b[1;32m     36\u001b[0m retriever, new_query_bundle \u001b[38;5;241m=\u001b[39m \u001b[38;5;28mself\u001b[39m\u001b[38;5;241m.\u001b[39m_build_retriever_from_spec(retrieval_spec)\n\u001b[0;32m---> 37\u001b[0m \u001b[38;5;28;01mreturn\u001b[39;00m \u001b[43mretriever\u001b[49m\u001b[38;5;241;43m.\u001b[39;49m\u001b[43mretrieve\u001b[49m\u001b[43m(\u001b[49m\u001b[43mnew_query_bundle\u001b[49m\u001b[43m)\u001b[49m\n",
            "File \u001b[0;32m~/anaconda3/envs/LLMs/lib/python3.10/site-packages/llama_index/core/instrumentation/dispatcher.py:274\u001b[0m, in \u001b[0;36mDispatcher.span.<locals>.wrapper\u001b[0;34m(func, instance, args, kwargs)\u001b[0m\n\u001b[1;32m    270\u001b[0m \u001b[38;5;28mself\u001b[39m\u001b[38;5;241m.\u001b[39mspan_enter(\n\u001b[1;32m    271\u001b[0m     id_\u001b[38;5;241m=\u001b[39mid_, bound_args\u001b[38;5;241m=\u001b[39mbound_args, instance\u001b[38;5;241m=\u001b[39minstance, parent_id\u001b[38;5;241m=\u001b[39mparent_id\n\u001b[1;32m    272\u001b[0m )\n\u001b[1;32m    273\u001b[0m \u001b[38;5;28;01mtry\u001b[39;00m:\n\u001b[0;32m--> 274\u001b[0m     result \u001b[38;5;241m=\u001b[39m \u001b[43mfunc\u001b[49m\u001b[43m(\u001b[49m\u001b[38;5;241;43m*\u001b[39;49m\u001b[43margs\u001b[49m\u001b[43m,\u001b[49m\u001b[43m \u001b[49m\u001b[38;5;241;43m*\u001b[39;49m\u001b[38;5;241;43m*\u001b[39;49m\u001b[43mkwargs\u001b[49m\u001b[43m)\u001b[49m\n\u001b[1;32m    275\u001b[0m \u001b[38;5;28;01mexcept\u001b[39;00m \u001b[38;5;167;01mBaseException\u001b[39;00m \u001b[38;5;28;01mas\u001b[39;00m e:\n\u001b[1;32m    276\u001b[0m     \u001b[38;5;28mself\u001b[39m\u001b[38;5;241m.\u001b[39mevent(SpanDropEvent(span_id\u001b[38;5;241m=\u001b[39mid_, err_str\u001b[38;5;241m=\u001b[39m\u001b[38;5;28mstr\u001b[39m(e)))\n",
            "File \u001b[0;32m~/anaconda3/envs/LLMs/lib/python3.10/site-packages/llama_index/core/base/base_retriever.py:244\u001b[0m, in \u001b[0;36mBaseRetriever.retrieve\u001b[0;34m(self, str_or_query_bundle)\u001b[0m\n\u001b[1;32m    239\u001b[0m \u001b[38;5;28;01mwith\u001b[39;00m \u001b[38;5;28mself\u001b[39m\u001b[38;5;241m.\u001b[39mcallback_manager\u001b[38;5;241m.\u001b[39mas_trace(\u001b[38;5;124m\"\u001b[39m\u001b[38;5;124mquery\u001b[39m\u001b[38;5;124m\"\u001b[39m):\n\u001b[1;32m    240\u001b[0m     \u001b[38;5;28;01mwith\u001b[39;00m \u001b[38;5;28mself\u001b[39m\u001b[38;5;241m.\u001b[39mcallback_manager\u001b[38;5;241m.\u001b[39mevent(\n\u001b[1;32m    241\u001b[0m         CBEventType\u001b[38;5;241m.\u001b[39mRETRIEVE,\n\u001b[1;32m    242\u001b[0m         payload\u001b[38;5;241m=\u001b[39m{EventPayload\u001b[38;5;241m.\u001b[39mQUERY_STR: query_bundle\u001b[38;5;241m.\u001b[39mquery_str},\n\u001b[1;32m    243\u001b[0m     ) \u001b[38;5;28;01mas\u001b[39;00m retrieve_event:\n\u001b[0;32m--> 244\u001b[0m         nodes \u001b[38;5;241m=\u001b[39m \u001b[38;5;28;43mself\u001b[39;49m\u001b[38;5;241;43m.\u001b[39;49m\u001b[43m_retrieve\u001b[49m\u001b[43m(\u001b[49m\u001b[43mquery_bundle\u001b[49m\u001b[43m)\u001b[49m\n\u001b[1;32m    245\u001b[0m         nodes \u001b[38;5;241m=\u001b[39m \u001b[38;5;28mself\u001b[39m\u001b[38;5;241m.\u001b[39m_handle_recursive_retrieval(query_bundle, nodes)\n\u001b[1;32m    246\u001b[0m         retrieve_event\u001b[38;5;241m.\u001b[39mon_end(\n\u001b[1;32m    247\u001b[0m             payload\u001b[38;5;241m=\u001b[39m{EventPayload\u001b[38;5;241m.\u001b[39mNODES: nodes},\n\u001b[1;32m    248\u001b[0m         )\n",
            "File \u001b[0;32m~/anaconda3/envs/LLMs/lib/python3.10/site-packages/llama_index/core/instrumentation/dispatcher.py:274\u001b[0m, in \u001b[0;36mDispatcher.span.<locals>.wrapper\u001b[0;34m(func, instance, args, kwargs)\u001b[0m\n\u001b[1;32m    270\u001b[0m \u001b[38;5;28mself\u001b[39m\u001b[38;5;241m.\u001b[39mspan_enter(\n\u001b[1;32m    271\u001b[0m     id_\u001b[38;5;241m=\u001b[39mid_, bound_args\u001b[38;5;241m=\u001b[39mbound_args, instance\u001b[38;5;241m=\u001b[39minstance, parent_id\u001b[38;5;241m=\u001b[39mparent_id\n\u001b[1;32m    272\u001b[0m )\n\u001b[1;32m    273\u001b[0m \u001b[38;5;28;01mtry\u001b[39;00m:\n\u001b[0;32m--> 274\u001b[0m     result \u001b[38;5;241m=\u001b[39m \u001b[43mfunc\u001b[49m\u001b[43m(\u001b[49m\u001b[38;5;241;43m*\u001b[39;49m\u001b[43margs\u001b[49m\u001b[43m,\u001b[49m\u001b[43m \u001b[49m\u001b[38;5;241;43m*\u001b[39;49m\u001b[38;5;241;43m*\u001b[39;49m\u001b[43mkwargs\u001b[49m\u001b[43m)\u001b[49m\n\u001b[1;32m    275\u001b[0m \u001b[38;5;28;01mexcept\u001b[39;00m \u001b[38;5;167;01mBaseException\u001b[39;00m \u001b[38;5;28;01mas\u001b[39;00m e:\n\u001b[1;32m    276\u001b[0m     \u001b[38;5;28mself\u001b[39m\u001b[38;5;241m.\u001b[39mevent(SpanDropEvent(span_id\u001b[38;5;241m=\u001b[39mid_, err_str\u001b[38;5;241m=\u001b[39m\u001b[38;5;28mstr\u001b[39m(e)))\n",
            "File \u001b[0;32m~/anaconda3/envs/LLMs/lib/python3.10/site-packages/llama_index/core/indices/vector_store/retrievers/retriever.py:101\u001b[0m, in \u001b[0;36mVectorIndexRetriever._retrieve\u001b[0;34m(self, query_bundle)\u001b[0m\n\u001b[1;32m     95\u001b[0m     \u001b[38;5;28;01mif\u001b[39;00m query_bundle\u001b[38;5;241m.\u001b[39membedding \u001b[38;5;129;01mis\u001b[39;00m \u001b[38;5;28;01mNone\u001b[39;00m \u001b[38;5;129;01mand\u001b[39;00m \u001b[38;5;28mlen\u001b[39m(query_bundle\u001b[38;5;241m.\u001b[39membedding_strs) \u001b[38;5;241m>\u001b[39m \u001b[38;5;241m0\u001b[39m:\n\u001b[1;32m     96\u001b[0m         query_bundle\u001b[38;5;241m.\u001b[39membedding \u001b[38;5;241m=\u001b[39m (\n\u001b[1;32m     97\u001b[0m             \u001b[38;5;28mself\u001b[39m\u001b[38;5;241m.\u001b[39m_embed_model\u001b[38;5;241m.\u001b[39mget_agg_embedding_from_queries(\n\u001b[1;32m     98\u001b[0m                 query_bundle\u001b[38;5;241m.\u001b[39membedding_strs\n\u001b[1;32m     99\u001b[0m             )\n\u001b[1;32m    100\u001b[0m         )\n\u001b[0;32m--> 101\u001b[0m \u001b[38;5;28;01mreturn\u001b[39;00m \u001b[38;5;28;43mself\u001b[39;49m\u001b[38;5;241;43m.\u001b[39;49m\u001b[43m_get_nodes_with_embeddings\u001b[49m\u001b[43m(\u001b[49m\u001b[43mquery_bundle\u001b[49m\u001b[43m)\u001b[49m\n",
            "File \u001b[0;32m~/anaconda3/envs/LLMs/lib/python3.10/site-packages/llama_index/core/indices/vector_store/retrievers/retriever.py:177\u001b[0m, in \u001b[0;36mVectorIndexRetriever._get_nodes_with_embeddings\u001b[0;34m(self, query_bundle_with_embeddings)\u001b[0m\n\u001b[1;32m    173\u001b[0m \u001b[38;5;28;01mdef\u001b[39;00m \u001b[38;5;21m_get_nodes_with_embeddings\u001b[39m(\n\u001b[1;32m    174\u001b[0m     \u001b[38;5;28mself\u001b[39m, query_bundle_with_embeddings: QueryBundle\n\u001b[1;32m    175\u001b[0m ) \u001b[38;5;241m-\u001b[39m\u001b[38;5;241m>\u001b[39m List[NodeWithScore]:\n\u001b[1;32m    176\u001b[0m     query \u001b[38;5;241m=\u001b[39m \u001b[38;5;28mself\u001b[39m\u001b[38;5;241m.\u001b[39m_build_vector_store_query(query_bundle_with_embeddings)\n\u001b[0;32m--> 177\u001b[0m     query_result \u001b[38;5;241m=\u001b[39m \u001b[38;5;28;43mself\u001b[39;49m\u001b[38;5;241;43m.\u001b[39;49m\u001b[43m_vector_store\u001b[49m\u001b[38;5;241;43m.\u001b[39;49m\u001b[43mquery\u001b[49m\u001b[43m(\u001b[49m\u001b[43mquery\u001b[49m\u001b[43m,\u001b[49m\u001b[43m \u001b[49m\u001b[38;5;241;43m*\u001b[39;49m\u001b[38;5;241;43m*\u001b[39;49m\u001b[38;5;28;43mself\u001b[39;49m\u001b[38;5;241;43m.\u001b[39;49m\u001b[43m_kwargs\u001b[49m\u001b[43m)\u001b[49m\n\u001b[1;32m    178\u001b[0m     \u001b[38;5;28;01mreturn\u001b[39;00m \u001b[38;5;28mself\u001b[39m\u001b[38;5;241m.\u001b[39m_build_node_list_from_query_result(query_result)\n",
            "File \u001b[0;32m~/anaconda3/envs/LLMs/lib/python3.10/site-packages/llama_index/vector_stores/milvus/base.py:386\u001b[0m, in \u001b[0;36mMilvusVectorStore.query\u001b[0;34m(self, query, **kwargs)\u001b[0m\n\u001b[1;32m    384\u001b[0m \u001b[38;5;66;03m# Parse the filter\u001b[39;00m\n\u001b[1;32m    385\u001b[0m \u001b[38;5;28;01mif\u001b[39;00m query\u001b[38;5;241m.\u001b[39mfilters \u001b[38;5;129;01mis\u001b[39;00m \u001b[38;5;129;01mnot\u001b[39;00m \u001b[38;5;28;01mNone\u001b[39;00m:\n\u001b[0;32m--> 386\u001b[0m     expr\u001b[38;5;241m.\u001b[39mextend(\u001b[43m_to_milvus_filter\u001b[49m\u001b[43m(\u001b[49m\u001b[43mquery\u001b[49m\u001b[38;5;241;43m.\u001b[39;49m\u001b[43mfilters\u001b[49m\u001b[43m)\u001b[49m)\n\u001b[1;32m    388\u001b[0m \u001b[38;5;66;03m# Parse any docs we are filtering on\u001b[39;00m\n\u001b[1;32m    389\u001b[0m \u001b[38;5;28;01mif\u001b[39;00m query\u001b[38;5;241m.\u001b[39mdoc_ids \u001b[38;5;129;01mis\u001b[39;00m \u001b[38;5;129;01mnot\u001b[39;00m \u001b[38;5;28;01mNone\u001b[39;00m \u001b[38;5;129;01mand\u001b[39;00m \u001b[38;5;28mlen\u001b[39m(query\u001b[38;5;241m.\u001b[39mdoc_ids) \u001b[38;5;241m!=\u001b[39m \u001b[38;5;241m0\u001b[39m:\n",
            "File \u001b[0;32m~/anaconda3/envs/LLMs/lib/python3.10/site-packages/llama_index/vector_stores/milvus/base.py:56\u001b[0m, in \u001b[0;36m_to_milvus_filter\u001b[0;34m(standard_filters)\u001b[0m\n\u001b[1;32m     54\u001b[0m \u001b[38;5;250m\u001b[39m\u001b[38;5;124;03m\"\"\"Translate standard metadata filters to Milvus specific spec.\"\"\"\u001b[39;00m\n\u001b[1;32m     55\u001b[0m filters \u001b[38;5;241m=\u001b[39m []\n\u001b[0;32m---> 56\u001b[0m \u001b[38;5;28;01mfor\u001b[39;00m \u001b[38;5;28mfilter\u001b[39m \u001b[38;5;129;01min\u001b[39;00m \u001b[43mstandard_filters\u001b[49m\u001b[38;5;241;43m.\u001b[39;49m\u001b[43mlegacy_filters\u001b[49m\u001b[43m(\u001b[49m\u001b[43m)\u001b[49m:\n\u001b[1;32m     57\u001b[0m     \u001b[38;5;28;01mif\u001b[39;00m \u001b[38;5;28misinstance\u001b[39m(\u001b[38;5;28mfilter\u001b[39m\u001b[38;5;241m.\u001b[39mvalue, \u001b[38;5;28mstr\u001b[39m):\n\u001b[1;32m     58\u001b[0m         filters\u001b[38;5;241m.\u001b[39mappend(\u001b[38;5;28mstr\u001b[39m(\u001b[38;5;28mfilter\u001b[39m\u001b[38;5;241m.\u001b[39mkey) \u001b[38;5;241m+\u001b[39m \u001b[38;5;124m\"\u001b[39m\u001b[38;5;124m == \u001b[39m\u001b[38;5;124m\"\u001b[39m \u001b[38;5;241m+\u001b[39m \u001b[38;5;124m'\u001b[39m\u001b[38;5;124m\"\u001b[39m\u001b[38;5;124m'\u001b[39m \u001b[38;5;241m+\u001b[39m \u001b[38;5;28mstr\u001b[39m(\u001b[38;5;28mfilter\u001b[39m\u001b[38;5;241m.\u001b[39mvalue) \u001b[38;5;241m+\u001b[39m \u001b[38;5;124m'\u001b[39m\u001b[38;5;124m\"\u001b[39m\u001b[38;5;124m'\u001b[39m)\n",
            "File \u001b[0;32m~/anaconda3/envs/LLMs/lib/python3.10/site-packages/llama_index/core/vector_stores/types.py:177\u001b[0m, in \u001b[0;36mMetadataFilters.legacy_filters\u001b[0;34m(self)\u001b[0m\n\u001b[1;32m    175\u001b[0m \u001b[38;5;28;01mfor\u001b[39;00m \u001b[38;5;28mfilter\u001b[39m \u001b[38;5;129;01min\u001b[39;00m \u001b[38;5;28mself\u001b[39m\u001b[38;5;241m.\u001b[39mfilters:\n\u001b[1;32m    176\u001b[0m     \u001b[38;5;28;01mif\u001b[39;00m \u001b[38;5;28mfilter\u001b[39m\u001b[38;5;241m.\u001b[39moperator \u001b[38;5;241m!=\u001b[39m FilterOperator\u001b[38;5;241m.\u001b[39mEQ:\n\u001b[0;32m--> 177\u001b[0m         \u001b[38;5;28;01mraise\u001b[39;00m \u001b[38;5;167;01mValueError\u001b[39;00m(\n\u001b[1;32m    178\u001b[0m             \u001b[38;5;124m\"\u001b[39m\u001b[38;5;124mVector Store only supports exact match filters. \u001b[39m\u001b[38;5;124m\"\u001b[39m\n\u001b[1;32m    179\u001b[0m             \u001b[38;5;124m\"\u001b[39m\u001b[38;5;124mPlease use ExactMatchFilter or FilterOperator.EQ instead.\u001b[39m\u001b[38;5;124m\"\u001b[39m\n\u001b[1;32m    180\u001b[0m         )\n\u001b[1;32m    181\u001b[0m     filters\u001b[38;5;241m.\u001b[39mappend(ExactMatchFilter(key\u001b[38;5;241m=\u001b[39m\u001b[38;5;28mfilter\u001b[39m\u001b[38;5;241m.\u001b[39mkey, value\u001b[38;5;241m=\u001b[39m\u001b[38;5;28mfilter\u001b[39m\u001b[38;5;241m.\u001b[39mvalue))\n\u001b[1;32m    182\u001b[0m \u001b[38;5;28;01mreturn\u001b[39;00m filters\n",
            "\u001b[0;31mValueError\u001b[0m: Vector Store only supports exact match filters. Please use ExactMatchFilter or FilterOperator.EQ instead."
          ]
        }
      ],
      "source": [
        "handle_react_chat(\"Cho tôi sản phẩm dưới 100k\")"
      ]
    },
    {
      "cell_type": "code",
      "execution_count": null,
      "metadata": {
        "id": "ywFN6pTuNNVq",
        "outputId": "96767518-b789-49c5-bacd-7dc23dc703ad"
      },
      "outputs": [
        {
          "name": "stdout",
          "output_type": "stream",
          "text": [
            "{'chat_history': 'Human: Tai nghe Bluetooth True Wireless Defunc True Music có những chức năng gì\\nAI: Sản phẩm có mic đàm thoại chống nước IPX4, driver rộng 13mm cùng thiết kế không dây tiện lợi, cho trải nghiệm nghe gọi ấn tượng.\\nHuman: Nói cho tôi chi tiết hơn về tai nghe này\\nAI: Tôi không có thông tin chi tiết hơn về sản phẩm tai nghe này.'}\n",
            "\n",
            "\n",
            "\u001b[1m> Entering new AgentExecutor chain...\u001b[0m\n",
            "\u001b[32;1m\u001b[1;3mThought: Tôi có cần sử dụng một công cụ không? Đúng\n",
            "        Action: VectorDB\n",
            "        Action Input: Tai nghe Bluetooth True Wireless Defunc True Music\n",
            "        Observation: The Defunc True Music True Wireless Bluetooth Headphones are in-ear headphones that feature a 13mm driver, IPX4 water resistance, and a wireless design. They offer an immersive listening experience with clear highs and deep bass, and the built-in microphone allows for hands-free calling. The long battery life provides up to 10 hours of playtime on a single charge, and the included charging case extends the total playtime to 35 hours. They are compatible with Bluetooth 5.0, ensuring a stable and reliable connection. The Defunc True Music True Wireless Bluetooth Headphones are a great choice for those looking for a high-quality, wireless listening experience.\u001b[0mINFO:llama_index.core.indices.vector_store.retrievers.auto_retriever.auto_retriever:Using query str: Tai nghe Bluetooth True Wireless Defunc True Music\n",
            "Using query str: Tai nghe Bluetooth True Wireless Defunc True Music\n",
            "INFO:llama_index.core.indices.vector_store.retrievers.auto_retriever.auto_retriever:Using filters: []\n",
            "Using filters: []\n",
            "Using query str: Tai nghe Bluetooth True Wireless Defunc True Music\n",
            "Using filters: []\n",
            "INFO:llama_index.core.indices.vector_store.retrievers.auto_retriever.auto_retriever:Using top_k: 2\n",
            "Using top_k: 2\n"
          ]
        },
        {
          "name": "stderr",
          "output_type": "stream",
          "text": [
            "Batches: 100%|██████████| 1/1 [00:00<00:00, 78.11it/s]\n"
          ]
        },
        {
          "name": "stdout",
          "output_type": "stream",
          "text": [
            "DEBUG:llama_index.vector_stores.milvus.base:Successfully searched embedding in collection: llamacollection Num Results: 2\n",
            "Successfully searched embedding in collection: llamacollection Num Results: 2\n",
            "DEBUG:llama_index.core.indices.utils:> Top 2 nodes:\n",
            "> [Node d54be50b-adb8-4dfb-8c56-134ad32fd18d] [Similarity score:             0.774458] ĐẶC ĐIỂM NỔI BẬT Trải nghiệm âm thanh liền mạch, ổn định, hạn chế bị gián đoạn với độ trễ thấp Tổ...\n",
            "> [Node 2479e4c6-0681-4402-96ed-28b08b43432b] [Similarity score:             0.744825] Hỗ trợ mic kép chống ồn ENC giúp đảm bảo chất lượng đàm thoại rõ ràng, làm tăng trải nghiệm người...\n",
            "> Top 2 nodes:\n",
            "> [Node d54be50b-adb8-4dfb-8c56-134ad32fd18d] [Similarity score:             0.774458] ĐẶC ĐIỂM NỔI BẬT Trải nghiệm âm thanh liền mạch, ổn định, hạn chế bị gián đoạn với độ trễ thấp Tổ...\n",
            "> [Node 2479e4c6-0681-4402-96ed-28b08b43432b] [Similarity score:             0.744825] Hỗ trợ mic kép chống ồn ENC giúp đảm bảo chất lượng đàm thoại rõ ràng, làm tăng trải nghiệm người...\n",
            "**********\n",
            "Trace: query\n",
            "    |_query -> 10.381032 seconds\n",
            "      |_retrieve -> 6.785621 seconds\n",
            "        |_templating -> 1.5e-05 seconds\n",
            "        |_llm -> 2.902345 seconds\n",
            "      |_synthesize -> 3.594901 seconds\n",
            "        |_templating -> 2e-05 seconds\n",
            "        |_llm -> 3.590705 seconds\n",
            "**********\n",
            "\u001b[36;1m\u001b[1;3mThe Defunc True Music True Wireless Bluetooth Headphones are in-ear headphones that feature a 13mm driver, IPX4 water resistance, and a wireless design. They offer an immersive listening experience with clear highs and deep bass, and the built-in microphone allows for hands-free calling. The long battery life provides up to 10 hours of playtime on a single charge, and the included charging case extends the total playtime to 35 hours. They are compatible with Bluetooth 5.0, ensuring a stable and reliable connection. The Defunc True Music True Wireless Bluetooth Headphones are a great choice for those looking for a high-quality, wireless listening experience.\u001b[0m\u001b[32;1m\u001b[1;3mFinal Answer: Tai nghe Bluetooth True Wireless Defunc True Music là tai nghe nhét tai có bộ điều khiển 13 mm, khả năng chống nước IPX4 và thiết kế không dây. Tai nghe này mang đến trải nghiệm nghe nhạc đắm chìm với âm cao trong trẻo và âm trầm sâu lắng, micro tích hợp cho phép gọi điện thoại rảnh tay. Thời lượng pin dài cung cấp tới 10 giờ phát nhạc chỉ với một lần sạc và hộp sạc đi kèm kéo dài tổng thời gian phát lên đến 35 giờ. Tai nghe tương thích với Bluetooth 5.0, đảm bảo kết nối ổn định và đáng tin cậy. Tai nghe Bluetooth True Wireless Defunc True Music là lựa chọn tuyệt vời cho những ai tìm kiếm trải nghiệm nghe nhạc không dây chất lượng cao.\u001b[0m\n",
            "\n",
            "\u001b[1m> Finished chain.\u001b[0m\n"
          ]
        },
        {
          "data": {
            "text/plain": [
              "{'input': 'Nói cho tôi chi tiết hơn về tai nghe này',\n",
              " 'chat_history': 'Human: Tai nghe Bluetooth True Wireless Defunc True Music có những chức năng gì\\nAI: Sản phẩm có mic đàm thoại chống nước IPX4, driver rộng 13mm cùng thiết kế không dây tiện lợi, cho trải nghiệm nghe gọi ấn tượng.\\nHuman: Nói cho tôi chi tiết hơn về tai nghe này\\nAI: Tôi không có thông tin chi tiết hơn về sản phẩm tai nghe này.',\n",
              " 'output': 'Tai nghe Bluetooth True Wireless Defunc True Music là tai nghe nhét tai có bộ điều khiển 13 mm, khả năng chống nước IPX4 và thiết kế không dây. Tai nghe này mang đến trải nghiệm nghe nhạc đắm chìm với âm cao trong trẻo và âm trầm sâu lắng, micro tích hợp cho phép gọi điện thoại rảnh tay. Thời lượng pin dài cung cấp tới 10 giờ phát nhạc chỉ với một lần sạc và hộp sạc đi kèm kéo dài tổng thời gian phát lên đến 35 giờ. Tai nghe tương thích với Bluetooth 5.0, đảm bảo kết nối ổn định và đáng tin cậy. Tai nghe Bluetooth True Wireless Defunc True Music là lựa chọn tuyệt vời cho những ai tìm kiếm trải nghiệm nghe nhạc không dây chất lượng cao.'}"
            ]
          },
          "execution_count": 64,
          "metadata": {},
          "output_type": "execute_result"
        }
      ],
      "source": [
        "handle_react_chat(\"Nói cho tôi chi tiết hơn về tai nghe này\")"
      ]
    },
    {
      "cell_type": "markdown",
      "metadata": {
        "id": "0V3n2AxjNNVq"
      },
      "source": [
        "# Evaluate"
      ]
    },
    {
      "cell_type": "markdown",
      "metadata": {
        "id": "laD3QqWyNNVr"
      },
      "source": [
        "## RAGAS"
      ]
    },
    {
      "cell_type": "code",
      "execution_count": null,
      "metadata": {
        "id": "ZqXpHeVoNNVr"
      },
      "outputs": [],
      "source": [
        "from ragas.testset.generator import TestsetGenerator\n",
        "from ragas.testset.evolutions import simple, reasoning, multi_context\n",
        "from langchain_openai import ChatOpenAI, OpenAIEmbeddings\n",
        "from langchain_community.embeddings import HuggingFaceInferenceAPIEmbeddings\n",
        "from config import HUGGINGFACE, GEMINI, OPENAI\n",
        "from langchain_google_genai import GoogleGenerativeAI\n",
        "from langchain_openai import ChatOpenAI, OpenAIEmbeddings\n",
        "\n",
        "import os\n",
        "os.environ[\"GOOGLE_API_KEY\"] = GEMINI\n",
        "os.environ[\"OPENAI_API_KEY\"] = OPENAI\n",
        "# generator with openai models\n",
        "generator_llm =  GoogleGenerativeAI(model=\"gemini-pro\")\n",
        "# critic_llm =  GoogleGenerativeAI(model=\"gemini-pro\")\n",
        "# embeddings = HuggingFaceInferenceAPIEmbeddings(\n",
        "#     api_key=HUGGINGFACE, model_name=\"sentence-transformers/paraphrase-multilingual-MiniLM-L12-v2\"\n",
        "# )\n",
        "# generator_llm = ChatOpenAI(model=\"gpt-3.5-turbo-16k\")\n",
        "# critic_llm = ChatOpenAI(model=\"gpt-4\")\n",
        "# embeddings = OpenAIEmbeddings()\n"
      ]
    },
    {
      "cell_type": "code",
      "execution_count": null,
      "metadata": {
        "id": "eeviulnxNNVr"
      },
      "outputs": [],
      "source": [
        "generator = TestsetGenerator.from_langchain(\n",
        "    generator_llm,\n",
        "    critic_llm,\n",
        "    embeddings\n",
        ")\n",
        "\n",
        "# Change resulting question type distribution\n",
        "distributions = {\n",
        "    simple: 0.5,\n",
        "    multi_context: 0.4,\n",
        "    reasoning: 0.1\n",
        "}\n",
        "\n",
        "# use generator.generate_with_llamaindex_docs if you use llama-index as document loader\n",
        "testset = generator.generate_with_llamaindex_docs(documents, 10, distributions)\n",
        "testset.to_pandas()\n",
        "testset.to_pandas().to_csv(\"../data/testset.csv\", index=False)"
      ]
    },
    {
      "cell_type": "code",
      "execution_count": null,
      "metadata": {
        "id": "LEZP6JsfNNVr"
      },
      "outputs": [],
      "source": [
        "from ragas.metrics import (\n",
        "    answer_relevancy,\n",
        "    faithfulness,\n",
        "    context_recall,\n",
        "    context_precision,\n",
        ")"
      ]
    },
    {
      "cell_type": "code",
      "execution_count": null,
      "metadata": {
        "id": "Arwzrh8_NNVr",
        "outputId": "0b181e5a-67ac-4752-9c54-970023ee3674"
      },
      "outputs": [
        {
          "ename": "ValueError",
          "evalue": "The metric [faithfulness] that that is used requires the following additional columns ['answer'] to be present in the dataset. ",
          "output_type": "error",
          "traceback": [
            "\u001b[0;31m---------------------------------------------------------------------------\u001b[0m",
            "\u001b[0;31mValueError\u001b[0m                                Traceback (most recent call last)",
            "Cell \u001b[0;32mIn[23], line 3\u001b[0m\n\u001b[1;32m      1\u001b[0m \u001b[38;5;28;01mfrom\u001b[39;00m \u001b[38;5;21;01mragas\u001b[39;00m \u001b[38;5;28;01mimport\u001b[39;00m evaluate\n\u001b[0;32m----> 3\u001b[0m result \u001b[38;5;241m=\u001b[39m \u001b[43mevaluate\u001b[49m\u001b[43m(\u001b[49m\n\u001b[1;32m      4\u001b[0m \u001b[43m    \u001b[49m\u001b[43mmetrics\u001b[49m\u001b[38;5;241;43m=\u001b[39;49m\u001b[43m[\u001b[49m\n\u001b[1;32m      5\u001b[0m \u001b[43m        \u001b[49m\u001b[43mcontext_precision\u001b[49m\u001b[43m,\u001b[49m\n\u001b[1;32m      6\u001b[0m \u001b[43m        \u001b[49m\u001b[43mfaithfulness\u001b[49m\u001b[43m,\u001b[49m\n\u001b[1;32m      7\u001b[0m \u001b[43m        \u001b[49m\u001b[43manswer_relevancy\u001b[49m\u001b[43m,\u001b[49m\n\u001b[1;32m      8\u001b[0m \u001b[43m        \u001b[49m\u001b[43mcontext_recall\u001b[49m\u001b[43m,\u001b[49m\n\u001b[1;32m      9\u001b[0m \u001b[43m    \u001b[49m\u001b[43m]\u001b[49m\u001b[43m,\u001b[49m\n\u001b[1;32m     10\u001b[0m \u001b[43m    \u001b[49m\u001b[43mllm\u001b[49m\u001b[38;5;241;43m=\u001b[39;49m\u001b[43mgenerator_llm\u001b[49m\u001b[43m,\u001b[49m\n\u001b[1;32m     11\u001b[0m \u001b[43m    \u001b[49m\u001b[43mdataset\u001b[49m\u001b[38;5;241;43m=\u001b[39;49m\u001b[43mtestset\u001b[49m\u001b[38;5;241;43m.\u001b[39;49m\u001b[43mto_dataset\u001b[49m\u001b[43m(\u001b[49m\u001b[43m)\u001b[49m\u001b[43m,\u001b[49m\n\u001b[1;32m     12\u001b[0m \u001b[43m)\u001b[49m\n\u001b[1;32m     14\u001b[0m result\n",
            "File \u001b[0;32m~/anaconda3/envs/llm/lib/python3.10/site-packages/ragas/evaluation.py:146\u001b[0m, in \u001b[0;36mevaluate\u001b[0;34m(dataset, metrics, llm, embeddings, callbacks, is_async, run_config, raise_exceptions, column_map)\u001b[0m\n\u001b[1;32m    144\u001b[0m \u001b[38;5;66;03m# validation\u001b[39;00m\n\u001b[1;32m    145\u001b[0m dataset \u001b[38;5;241m=\u001b[39m handle_deprecated_ground_truths(dataset)\n\u001b[0;32m--> 146\u001b[0m \u001b[43mvalidate_evaluation_modes\u001b[49m\u001b[43m(\u001b[49m\u001b[43mdataset\u001b[49m\u001b[43m,\u001b[49m\u001b[43m \u001b[49m\u001b[43mmetrics\u001b[49m\u001b[43m)\u001b[49m\n\u001b[1;32m    147\u001b[0m validate_column_dtypes(dataset)\n\u001b[1;32m    149\u001b[0m \u001b[38;5;66;03m# set the llm and embeddings\u001b[39;00m\n",
            "File \u001b[0;32m~/anaconda3/envs/llm/lib/python3.10/site-packages/ragas/validation.py:94\u001b[0m, in \u001b[0;36mvalidate_evaluation_modes\u001b[0;34m(ds, metrics)\u001b[0m\n\u001b[1;32m     88\u001b[0m \u001b[38;5;28;01mif\u001b[39;00m (\n\u001b[1;32m     89\u001b[0m     \u001b[38;5;28misinstance\u001b[39m(m, ContextPrecision)\n\u001b[1;32m     90\u001b[0m     \u001b[38;5;129;01mand\u001b[39;00m \u001b[38;5;124m\"\u001b[39m\u001b[38;5;124mground_truth\u001b[39m\u001b[38;5;124m\"\u001b[39m \u001b[38;5;129;01mnot\u001b[39;00m \u001b[38;5;129;01min\u001b[39;00m available_columns\n\u001b[1;32m     91\u001b[0m ):\n\u001b[1;32m     92\u001b[0m     extra_msg \u001b[38;5;241m=\u001b[39m \u001b[38;5;124m\"\u001b[39m\u001b[38;5;124mLooks like you\u001b[39m\u001b[38;5;124m'\u001b[39m\u001b[38;5;124mre trying to use \u001b[39m\u001b[38;5;124m'\u001b[39m\u001b[38;5;124mcontext_precision\u001b[39m\u001b[38;5;124m'\u001b[39m\u001b[38;5;124m without ground_truth. Please use consider using  `context_utilization\u001b[39m\u001b[38;5;124m'\u001b[39m\u001b[38;5;124m instead.\u001b[39m\u001b[38;5;124m\"\u001b[39m\n\u001b[0;32m---> 94\u001b[0m \u001b[38;5;28;01mraise\u001b[39;00m \u001b[38;5;167;01mValueError\u001b[39;00m(\n\u001b[1;32m     95\u001b[0m     \u001b[38;5;124mf\u001b[39m\u001b[38;5;124m\"\u001b[39m\u001b[38;5;124mThe metric [\u001b[39m\u001b[38;5;132;01m{\u001b[39;00mm\u001b[38;5;241m.\u001b[39mname\u001b[38;5;132;01m}\u001b[39;00m\u001b[38;5;124m] that that is used requires the following \u001b[39m\u001b[38;5;124m\"\u001b[39m\n\u001b[1;32m     96\u001b[0m     \u001b[38;5;124mf\u001b[39m\u001b[38;5;124m\"\u001b[39m\u001b[38;5;124madditional columns \u001b[39m\u001b[38;5;132;01m{\u001b[39;00m\u001b[38;5;28mlist\u001b[39m(required_columns\u001b[38;5;250m \u001b[39m\u001b[38;5;241m-\u001b[39m\u001b[38;5;250m \u001b[39mavailable_columns)\u001b[38;5;132;01m}\u001b[39;00m\u001b[38;5;124m \u001b[39m\u001b[38;5;124m\"\u001b[39m\n\u001b[1;32m     97\u001b[0m     \u001b[38;5;124mf\u001b[39m\u001b[38;5;124m\"\u001b[39m\u001b[38;5;124mto be present in the dataset. \u001b[39m\u001b[38;5;132;01m{\u001b[39;00mextra_msg\u001b[38;5;132;01m}\u001b[39;00m\u001b[38;5;124m\"\u001b[39m\n\u001b[1;32m     98\u001b[0m )\n",
            "\u001b[0;31mValueError\u001b[0m: The metric [faithfulness] that that is used requires the following additional columns ['answer'] to be present in the dataset. "
          ]
        }
      ],
      "source": [
        "from ragas import evaluate\n",
        "\n",
        "result = evaluate(\n",
        "    metrics=[\n",
        "        context_precision,\n",
        "        faithfulness,\n",
        "        answer_relevancy,\n",
        "        context_recall,\n",
        "    ],\n",
        "    llm=generator_llm,\n",
        "    dataset=testset.to_dataset(),\n",
        ")\n",
        "\n",
        "result"
      ]
    },
    {
      "cell_type": "markdown",
      "metadata": {
        "id": "vfr4IB75NNVr"
      },
      "source": [
        "# Deploy"
      ]
    },
    {
      "cell_type": "markdown",
      "metadata": {
        "id": "9f1WlFIRNNVr"
      },
      "source": [
        "## With Streamlit\n"
      ]
    },
    {
      "cell_type": "code",
      "execution_count": null,
      "metadata": {
        "id": "3l7RUWMoNNVr"
      },
      "outputs": [],
      "source": []
    },
    {
      "cell_type": "code",
      "execution_count": null,
      "metadata": {
        "id": "sBJGropMNNVr"
      },
      "outputs": [],
      "source": [
        "from langchain.callbacks import StreamlitCallbackHandler\n",
        "import streamlit as st\n",
        "\n",
        "\n",
        "if prompt := st.chat_input():\n",
        "    st.chat_message(\"user\").write(prompt)\n",
        "    with st.chat_message(\"assistant\"):\n",
        "        st_callback = StreamlitCallbackHandler(st.container())\n",
        "        response = handle_react_chat(prompt)\n",
        "        st.write(response)"
      ]
    }
  ],
  "metadata": {
    "accelerator": "GPU",
    "colab": {
      "gpuType": "T4",
      "include_colab_link": true,
      "provenance": []
    },
    "kernelspec": {
      "display_name": "Python 3",
      "name": "python3"
    },
    "language_info": {
      "codemirror_mode": {
        "name": "ipython",
        "version": 3
      },
      "file_extension": ".py",
      "mimetype": "text/x-python",
      "name": "python",
      "nbconvert_exporter": "python",
      "pygments_lexer": "ipython3",
      "version": "3.10.14"
    }
  },
  "nbformat": 4,
  "nbformat_minor": 0
}
